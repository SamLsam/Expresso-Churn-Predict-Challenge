{
 "cells": [
  {
   "cell_type": "code",
   "execution_count": 3,
   "id": "4d0a0991-752b-434c-ba33-cd581709e2ea",
   "metadata": {},
   "outputs": [],
   "source": [
    "import lightgbm as lgb\n",
    "import matplotlib.pyplot as plt\n",
    "import numpy as np\n",
    "import optuna\n",
    "import pandas as pd\n",
    "import seaborn as sns\n",
    "from sklearn.metrics import average_precision_score, log_loss, roc_auc_score\n",
    "from sklearn.model_selection import StratifiedKFold, train_test_split"
   ]
  },
  {
   "cell_type": "code",
   "execution_count": 4,
   "id": "710dbaa2-7015-42b5-827e-f55d4de6c28d",
   "metadata": {},
   "outputs": [],
   "source": [
    "dirty_train = pd.read_csv(\"../../../datasets/dataset_0/dataset_0_train.csv\").set_index(\"user_id\")\n",
    "dirty_test = pd.read_csv(\"../../../datasets/dataset_0/dataset_0_test.csv\").set_index(\"user_id\")\n",
    "#dirty_test.drop(\"CHURN\", axis=1, inplace=True)"
   ]
  },
  {
   "cell_type": "code",
   "execution_count": 5,
   "id": "e79b1134-8943-480d-9fe4-7c5858436aff",
   "metadata": {},
   "outputs": [],
   "source": [
    "def data_load(train_y):\n",
    "    train_y[\"REGION\"] = train_y[\"REGION\"].astype(\"category\")\n",
    "    train_y[\"TENURE\"] = train_y[\"TENURE\"].astype(\"category\")\n",
    "    train_y[\"MONTANT\"] = train_y[\"MONTANT\"].astype(\"int32\")\n",
    "    train_y[\"FREQUENCE_RECH\"] = train_y[\"FREQUENCE_RECH\"].astype(\"int16\")\n",
    "    train_y[\"REVENUE\"] = train_y[\"REVENUE\"].astype(\"int32\")\n",
    "    train_y[\"FREQUENCE\"] = train_y[\"FREQUENCE\"].astype(\"int16\")\n",
    "    train_y[\"DATA_VOLUME\"] = train_y[\"DATA_VOLUME\"].astype(\"int32\")\n",
    "    train_y[\"ON_NET\"] = train_y[\"ON_NET\"].astype(\"int32\")\n",
    "    train_y[\"ORANGE\"] = train_y[\"ORANGE\"].astype(\"int16\")\n",
    "    train_y[\"TIGO\"] = train_y[\"TIGO\"].astype(\"int16\")  # int16 probably is fine\n",
    "    train_y[\"ZONE1\"] = train_y[\"ZONE1\"].astype(\"int16\")\n",
    "    train_y[\"ZONE2\"] = train_y[\"ZONE2\"].astype(\"int16\")\n",
    "    train_y[\"REGULARITY\"] = train_y[\"REGULARITY\"].astype(\"int8\")\n",
    "    train_y[\"FREQ_TOP_PACK\"] = train_y[\"FREQ_TOP_PACK\"].astype(\"int16\")\n",
    "    train_y[\"FULL_CALLS_SUM\"] = train_y[\"FULL_CALLS_SUM\"].astype(\"int32\")\n",
    "    train_y[\"TELE_NANS_SUM\"] = train_y[\"TELE_NANS_SUM\"].astype(\"int8\")\n",
    "    train_y[\"NONTELE_NANS_SUM\"] = train_y[\"NONTELE_NANS_SUM\"].astype(\"int8\")\n",
    "    train_y[\"FULL_CALLS_SUM_TO_REGULATIRY\"] = train_y[\n",
    "        \"FULL_CALLS_SUM_TO_REGULATIRY\"\n",
    "    ].astype(\"float16\")\n",
    "    train_y[\"DATA_VOLUME_TO_REGULARITY\"] = train_y[\"DATA_VOLUME_TO_REGULARITY\"].astype(\n",
    "        \"float32\"\n",
    "    )\n",
    "    train_y[\"TEN_REGULARITY_MEDIAN\"] = train_y[\"TEN_REGULARITY_MEDIAN\"].astype(\n",
    "        \"int16\"\n",
    "    )  # Update 27.09\n",
    "    train_y[\"TEN_REGULARITY_MEAN\"] = train_y[\"TEN_REGULARITY_MEAN\"].astype(\n",
    "        \"float16\"\n",
    "    )  # Update 27.09\n",
    "    train_y[\"REG_TEN_REGULARITY_MEDIAN\"] = train_y[\"REG_TEN_REGULARITY_MEDIAN\"].astype(\n",
    "        \"int16\"\n",
    "    )  # Update 27.09\n",
    "    train_y[\"REG_TEN_REGULARITY_MEAN\"] = train_y[\"REG_TEN_REGULARITY_MEAN\"].astype(\n",
    "        \"float16\"\n",
    "    )  # Update 27.09\n",
    "\n",
    "    train_y[\"MONTANT_TO_REVENUE\"] = train_y[\"MONTANT_TO_REVENUE\"].astype(\"float16\")\n",
    "    train_y[\"POPULARITY\"] = train_y[\"POPULARITY\"].astype(\"float16\")\n",
    "\n",
    "    if \"CHURN\" in train_y.columns:\n",
    "        train_y[\"CHURN\"] = train_y[\"CHURN\"].astype(\"int8\")\n",
    "    return train_y"
   ]
  },
  {
   "cell_type": "code",
   "execution_count": 6,
   "id": "e7cd61d4-afa5-48fc-a537-28bae2d3720f",
   "metadata": {},
   "outputs": [],
   "source": [
    "dirty_X = data_load(dirty_train)\n",
    "dirty_y = dirty_X[\"CHURN\"]\n",
    "dirty_X.drop(\"CHURN\", axis=1, inplace=True)"
   ]
  },
  {
   "cell_type": "code",
   "execution_count": 7,
   "id": "4c971a6e-b512-4669-9a88-32f76c0b7443",
   "metadata": {},
   "outputs": [],
   "source": [
    "\"\"\" 5-split to mix train/valid/generalization valid \"\"\"\n",
    "outer_splitter = StratifiedKFold(n_splits=5, shuffle=True, random_state=1)"
   ]
  },
  {
   "cell_type": "code",
   "execution_count": 8,
   "id": "e01dc205-b79e-4ef0-a528-90153e09df47",
   "metadata": {},
   "outputs": [],
   "source": [
    "optuna.logging.set_verbosity(optuna.logging.WARNING)"
   ]
  },
  {
   "cell_type": "code",
   "execution_count": 9,
   "id": "cf4696b2-c910-493f-9158-aca5594049f2",
   "metadata": {},
   "outputs": [],
   "source": [
    "# 5x2 setup\n",
    "def objective_LGB_dirty(trial):\n",
    "    results = {}  # dict for record_evaluation callback\n",
    "    split_iteration = {}  # dict for best iterations in each fold\n",
    "    inner_valid_values = {}  # dict for valid score inside kfold\n",
    "    outter_valid_values = {}  # dict for valid score outside kfold\n",
    "    # simple boosting type gbdt, try another later\n",
    "    hyperparameters = {\n",
    "        \"objective\": \"binary\",\n",
    "        \"metric\": \"auc\",\n",
    "        \"learning_rate\": trial.suggest_float(\"learning_rate\", 1e-3, 1.0, log=True),\n",
    "        \"lambda_l1\": trial.suggest_loguniform(\"lambda_l1\", 1e-3, 10.0),\n",
    "        \"lambda_l2\": trial.suggest_loguniform(\"lambda_l2\", 1e-3, 10.0),\n",
    "        \"min_gain_to_split\": trial.suggest_float(\"min_gain_to_split\", 0, 10.0),\n",
    "        \"num_leaves\": trial.suggest_int(\"num_leaves\", 8, 256),\n",
    "        \"feature_fraction\": trial.suggest_uniform(\"feature_fraction\", 0.1, 1.0),\n",
    "        \"bagging_fraction\": trial.suggest_uniform(\"bagging_fraction\", 0.1, 1.0),\n",
    "        \"bagging_freq\": trial.suggest_int(\"bagging_freq\", 0, 30),\n",
    "        \"min_child_samples\": trial.suggest_int(\"min_child_samples\", 1, 100),\n",
    "        \"min_data_in_leaf\": trial.suggest_int(\"min_data_in_leaf\", 3, 100),\n",
    "        \"min_sum_hessian_in_leaf\": trial.suggest_loguniform(\n",
    "            \"min_sum_hessian_in_leaf\", 1e-5, 9e-1\n",
    "        ),\n",
    "        \"feature_pre_filter\": False,\n",
    "        \"verbose\": -1,\n",
    "    }\n",
    "    # Split to 5 sfk manually\n",
    "    for split_number, data_splits in enumerate(outer_splitter.split(dirty_X, dirty_y)):\n",
    "        # In single fold split to train/valid manually\n",
    "        train_inner_X, valid_inner_X, train_inner_y, valid_inner_y = train_test_split(\n",
    "            dirty_X.reset_index(drop=True).loc[data_splits[0]],\n",
    "            dirty_y.reset_index(drop=True).loc[data_splits[0]],\n",
    "            test_size=0.2,\n",
    "            random_state=1,\n",
    "            stratify=dirty_y.reset_index(drop=True).loc[data_splits[0]],\n",
    "        )\n",
    "\n",
    "        train_set = lgb.Dataset(train_inner_X, label=train_inner_y)\n",
    "        valid_set = lgb.Dataset(valid_inner_X, label=valid_inner_y)\n",
    "\n",
    "        # Train\n",
    "        lgb_model = lgb.train(\n",
    "            params=hyperparameters,\n",
    "            train_set=train_set,\n",
    "            valid_names=[\"train\", \"eval\"],\n",
    "            num_boost_round=1000,\n",
    "            valid_sets=[train_set, valid_set],\n",
    "            verbose_eval=100,\n",
    "            early_stopping_rounds=25,\n",
    "            callbacks=[lgb.record_evaluation(results)],\n",
    "        )\n",
    "\n",
    "        split_iteration.update({f\"{split_number}\": lgb_model.best_iteration})\n",
    "\n",
    "        inner_valid_values.update({f\"{split_number}\": results[\"eval\"][\"auc\"][-1]})\n",
    "\n",
    "        outter_valid_values.update(\n",
    "            {\n",
    "                f\"{split_number}\": roc_auc_score(\n",
    "                    y_true=dirty_y.reset_index(drop=True).loc[data_splits[1]],\n",
    "                    y_score=lgb_model.predict(\n",
    "                        dirty_X.reset_index(drop=True).loc[data_splits[1]]\n",
    "                    ),\n",
    "                )\n",
    "            }\n",
    "        )\n",
    "\n",
    "        print(\n",
    "            f\"Best iteration, split №{split_number} = {lgb_model.best_iteration}\\n\"\n",
    "        )  #\n",
    "\n",
    "    trial.set_user_attr(\"Best_iteration\", split_iteration)\n",
    "\n",
    "    trial.set_user_attr(\"Best_inner_valid_score\", inner_valid_values)\n",
    "\n",
    "    trial.set_user_attr(\"Outter_valid_score\", outter_valid_values)\n",
    "\n",
    "    mean_val = np.mean(list(outter_valid_values.values()))\n",
    "    trial.set_user_attr(\"Mean_valid_score\", mean_val)\n",
    "\n",
    "    mean_std = np.std(list(outter_valid_values.values()))\n",
    "    trial.set_user_attr(\"Std_valid_score\", mean_std)\n",
    "\n",
    "    trial.set_user_attr(\"Mean_iterations\", np.mean(list(split_iteration.values())))\n",
    "\n",
    "    print(f\"AUC: {mean_val} +\\- {mean_std}\\n\")\n",
    "\n",
    "    return mean_val"
   ]
  },
  {
   "cell_type": "code",
   "execution_count": 10,
   "id": "f30c6f98-8717-437c-b31b-c69e67bad095",
   "metadata": {
    "scrolled": true,
    "tags": []
   },
   "outputs": [
    {
     "name": "stdout",
     "output_type": "stream",
     "text": [
      "[LightGBM] [Warning] min_data_in_leaf is set=20, min_child_samples=30 will be ignored. Current value: min_data_in_leaf=20\n"
     ]
    },
    {
     "name": "stderr",
     "output_type": "stream",
     "text": [
      "D:\\Anaconda\\lib\\site-packages\\lightgbm\\basic.py:1433: UserWarning: Overriding the parameters from Reference Dataset.\n",
      "  _log_warning('Overriding the parameters from Reference Dataset.')\n",
      "D:\\Anaconda\\lib\\site-packages\\lightgbm\\basic.py:1245: UserWarning: categorical_column in param dict is overridden.\n",
      "  _log_warning('{} in param dict is overridden.'.format(cat_alias))\n"
     ]
    },
    {
     "name": "stdout",
     "output_type": "stream",
     "text": [
      "Training until validation scores don't improve for 25 rounds\n",
      "Early stopping, best iteration is:\n",
      "[27]\ttrain's auc: 0.931114\teval's auc: 0.931738\n",
      "Best iteration, split №0 = 27\n",
      "\n",
      "[LightGBM] [Warning] min_data_in_leaf is set=20, min_child_samples=30 will be ignored. Current value: min_data_in_leaf=20\n"
     ]
    },
    {
     "name": "stderr",
     "output_type": "stream",
     "text": [
      "D:\\Anaconda\\lib\\site-packages\\lightgbm\\basic.py:1433: UserWarning: Overriding the parameters from Reference Dataset.\n",
      "  _log_warning('Overriding the parameters from Reference Dataset.')\n",
      "D:\\Anaconda\\lib\\site-packages\\lightgbm\\basic.py:1245: UserWarning: categorical_column in param dict is overridden.\n",
      "  _log_warning('{} in param dict is overridden.'.format(cat_alias))\n"
     ]
    },
    {
     "name": "stdout",
     "output_type": "stream",
     "text": [
      "Training until validation scores don't improve for 25 rounds\n",
      "Early stopping, best iteration is:\n",
      "[22]\ttrain's auc: 0.931474\teval's auc: 0.931094\n",
      "Best iteration, split №1 = 22\n",
      "\n",
      "[LightGBM] [Warning] min_data_in_leaf is set=20, min_child_samples=30 will be ignored. Current value: min_data_in_leaf=20\n"
     ]
    },
    {
     "name": "stderr",
     "output_type": "stream",
     "text": [
      "D:\\Anaconda\\lib\\site-packages\\lightgbm\\basic.py:1433: UserWarning: Overriding the parameters from Reference Dataset.\n",
      "  _log_warning('Overriding the parameters from Reference Dataset.')\n",
      "D:\\Anaconda\\lib\\site-packages\\lightgbm\\basic.py:1245: UserWarning: categorical_column in param dict is overridden.\n",
      "  _log_warning('{} in param dict is overridden.'.format(cat_alias))\n"
     ]
    },
    {
     "name": "stdout",
     "output_type": "stream",
     "text": [
      "Training until validation scores don't improve for 25 rounds\n",
      "Early stopping, best iteration is:\n",
      "[25]\ttrain's auc: 0.931295\teval's auc: 0.931067\n",
      "Best iteration, split №2 = 25\n",
      "\n",
      "[LightGBM] [Warning] min_data_in_leaf is set=20, min_child_samples=30 will be ignored. Current value: min_data_in_leaf=20\n"
     ]
    },
    {
     "name": "stderr",
     "output_type": "stream",
     "text": [
      "D:\\Anaconda\\lib\\site-packages\\lightgbm\\basic.py:1433: UserWarning: Overriding the parameters from Reference Dataset.\n",
      "  _log_warning('Overriding the parameters from Reference Dataset.')\n",
      "D:\\Anaconda\\lib\\site-packages\\lightgbm\\basic.py:1245: UserWarning: categorical_column in param dict is overridden.\n",
      "  _log_warning('{} in param dict is overridden.'.format(cat_alias))\n"
     ]
    },
    {
     "name": "stdout",
     "output_type": "stream",
     "text": [
      "Training until validation scores don't improve for 25 rounds\n",
      "Early stopping, best iteration is:\n",
      "[27]\ttrain's auc: 0.931393\teval's auc: 0.931471\n",
      "Best iteration, split №3 = 27\n",
      "\n",
      "[LightGBM] [Warning] min_data_in_leaf is set=20, min_child_samples=30 will be ignored. Current value: min_data_in_leaf=20\n"
     ]
    },
    {
     "name": "stderr",
     "output_type": "stream",
     "text": [
      "D:\\Anaconda\\lib\\site-packages\\lightgbm\\basic.py:1433: UserWarning: Overriding the parameters from Reference Dataset.\n",
      "  _log_warning('Overriding the parameters from Reference Dataset.')\n",
      "D:\\Anaconda\\lib\\site-packages\\lightgbm\\basic.py:1245: UserWarning: categorical_column in param dict is overridden.\n",
      "  _log_warning('{} in param dict is overridden.'.format(cat_alias))\n"
     ]
    },
    {
     "name": "stdout",
     "output_type": "stream",
     "text": [
      "Training until validation scores don't improve for 25 rounds\n",
      "Early stopping, best iteration is:\n",
      "[27]\ttrain's auc: 0.931327\teval's auc: 0.93111\n",
      "Best iteration, split №4 = 27\n",
      "\n",
      "AUC: 0.9310343881604888 +\\- 0.00033827115100967006\n",
      "\n",
      "[LightGBM] [Warning] min_data_in_leaf is set=38, min_child_samples=63 will be ignored. Current value: min_data_in_leaf=38\n"
     ]
    },
    {
     "name": "stderr",
     "output_type": "stream",
     "text": [
      "D:\\Anaconda\\lib\\site-packages\\lightgbm\\basic.py:1433: UserWarning: Overriding the parameters from Reference Dataset.\n",
      "  _log_warning('Overriding the parameters from Reference Dataset.')\n",
      "D:\\Anaconda\\lib\\site-packages\\lightgbm\\basic.py:1245: UserWarning: categorical_column in param dict is overridden.\n",
      "  _log_warning('{} in param dict is overridden.'.format(cat_alias))\n"
     ]
    },
    {
     "name": "stdout",
     "output_type": "stream",
     "text": [
      "Training until validation scores don't improve for 25 rounds\n",
      "[100]\ttrain's auc: 0.931212\teval's auc: 0.931664\n",
      "[200]\ttrain's auc: 0.931416\teval's auc: 0.931784\n",
      "[300]\ttrain's auc: 0.931628\teval's auc: 0.931872\n",
      "[400]\ttrain's auc: 0.93185\teval's auc: 0.931975\n",
      "[500]\ttrain's auc: 0.932068\teval's auc: 0.932063\n",
      "[600]\ttrain's auc: 0.932274\teval's auc: 0.93213\n",
      "[700]\ttrain's auc: 0.932477\teval's auc: 0.93218\n",
      "[800]\ttrain's auc: 0.932666\teval's auc: 0.932221\n",
      "[900]\ttrain's auc: 0.932853\teval's auc: 0.932255\n",
      "[1000]\ttrain's auc: 0.93303\teval's auc: 0.932283\n",
      "Did not meet early stopping. Best iteration is:\n",
      "[1000]\ttrain's auc: 0.93303\teval's auc: 0.932283\n",
      "Best iteration, split №0 = 1000\n",
      "\n",
      "[LightGBM] [Warning] min_data_in_leaf is set=38, min_child_samples=63 will be ignored. Current value: min_data_in_leaf=38\n"
     ]
    },
    {
     "name": "stderr",
     "output_type": "stream",
     "text": [
      "D:\\Anaconda\\lib\\site-packages\\lightgbm\\basic.py:1433: UserWarning: Overriding the parameters from Reference Dataset.\n",
      "  _log_warning('Overriding the parameters from Reference Dataset.')\n",
      "D:\\Anaconda\\lib\\site-packages\\lightgbm\\basic.py:1245: UserWarning: categorical_column in param dict is overridden.\n",
      "  _log_warning('{} in param dict is overridden.'.format(cat_alias))\n"
     ]
    },
    {
     "name": "stdout",
     "output_type": "stream",
     "text": [
      "Training until validation scores don't improve for 25 rounds\n",
      "[100]\ttrain's auc: 0.931523\teval's auc: 0.931002\n",
      "[200]\ttrain's auc: 0.931742\teval's auc: 0.931125\n",
      "[300]\ttrain's auc: 0.931942\teval's auc: 0.931215\n",
      "[400]\ttrain's auc: 0.932158\teval's auc: 0.931293\n",
      "[500]\ttrain's auc: 0.932365\teval's auc: 0.931357\n",
      "[600]\ttrain's auc: 0.932569\teval's auc: 0.93142\n",
      "[700]\ttrain's auc: 0.932776\teval's auc: 0.93149\n",
      "[800]\ttrain's auc: 0.932965\teval's auc: 0.93153\n",
      "[900]\ttrain's auc: 0.933151\teval's auc: 0.931552\n",
      "[1000]\ttrain's auc: 0.93333\teval's auc: 0.931567\n",
      "Did not meet early stopping. Best iteration is:\n",
      "[1000]\ttrain's auc: 0.93333\teval's auc: 0.931567\n",
      "Best iteration, split №1 = 1000\n",
      "\n",
      "[LightGBM] [Warning] min_data_in_leaf is set=38, min_child_samples=63 will be ignored. Current value: min_data_in_leaf=38\n"
     ]
    },
    {
     "name": "stderr",
     "output_type": "stream",
     "text": [
      "D:\\Anaconda\\lib\\site-packages\\lightgbm\\basic.py:1433: UserWarning: Overriding the parameters from Reference Dataset.\n",
      "  _log_warning('Overriding the parameters from Reference Dataset.')\n",
      "D:\\Anaconda\\lib\\site-packages\\lightgbm\\basic.py:1245: UserWarning: categorical_column in param dict is overridden.\n",
      "  _log_warning('{} in param dict is overridden.'.format(cat_alias))\n"
     ]
    },
    {
     "name": "stdout",
     "output_type": "stream",
     "text": [
      "Training until validation scores don't improve for 25 rounds\n",
      "[100]\ttrain's auc: 0.931296\teval's auc: 0.930965\n",
      "[200]\ttrain's auc: 0.931511\teval's auc: 0.931072\n",
      "[300]\ttrain's auc: 0.931707\teval's auc: 0.931152\n",
      "[400]\ttrain's auc: 0.931928\teval's auc: 0.931246\n",
      "[500]\ttrain's auc: 0.932145\teval's auc: 0.931314\n",
      "[600]\ttrain's auc: 0.932364\teval's auc: 0.931377\n",
      "[700]\ttrain's auc: 0.932576\teval's auc: 0.93142\n",
      "[800]\ttrain's auc: 0.932762\teval's auc: 0.931452\n",
      "[900]\ttrain's auc: 0.932944\teval's auc: 0.931474\n",
      "[1000]\ttrain's auc: 0.933122\teval's auc: 0.93149\n",
      "Did not meet early stopping. Best iteration is:\n",
      "[1000]\ttrain's auc: 0.933122\teval's auc: 0.93149\n",
      "Best iteration, split №2 = 1000\n",
      "\n",
      "[LightGBM] [Warning] min_data_in_leaf is set=38, min_child_samples=63 will be ignored. Current value: min_data_in_leaf=38\n"
     ]
    },
    {
     "name": "stderr",
     "output_type": "stream",
     "text": [
      "D:\\Anaconda\\lib\\site-packages\\lightgbm\\basic.py:1433: UserWarning: Overriding the parameters from Reference Dataset.\n",
      "  _log_warning('Overriding the parameters from Reference Dataset.')\n",
      "D:\\Anaconda\\lib\\site-packages\\lightgbm\\basic.py:1245: UserWarning: categorical_column in param dict is overridden.\n",
      "  _log_warning('{} in param dict is overridden.'.format(cat_alias))\n"
     ]
    },
    {
     "name": "stdout",
     "output_type": "stream",
     "text": [
      "Training until validation scores don't improve for 25 rounds\n",
      "[100]\ttrain's auc: 0.931417\teval's auc: 0.931365\n",
      "[200]\ttrain's auc: 0.931625\teval's auc: 0.931439\n",
      "[300]\ttrain's auc: 0.931829\teval's auc: 0.931539\n",
      "[400]\ttrain's auc: 0.932048\teval's auc: 0.93163\n",
      "[500]\ttrain's auc: 0.932262\teval's auc: 0.931718\n",
      "[600]\ttrain's auc: 0.932476\teval's auc: 0.931789\n",
      "[700]\ttrain's auc: 0.932681\teval's auc: 0.931832\n",
      "[800]\ttrain's auc: 0.932878\teval's auc: 0.931872\n",
      "[900]\ttrain's auc: 0.933065\teval's auc: 0.931897\n",
      "[1000]\ttrain's auc: 0.933244\teval's auc: 0.931917\n",
      "Did not meet early stopping. Best iteration is:\n",
      "[1000]\ttrain's auc: 0.933244\teval's auc: 0.931917\n",
      "Best iteration, split №3 = 1000\n",
      "\n",
      "[LightGBM] [Warning] min_data_in_leaf is set=38, min_child_samples=63 will be ignored. Current value: min_data_in_leaf=38\n"
     ]
    },
    {
     "name": "stderr",
     "output_type": "stream",
     "text": [
      "D:\\Anaconda\\lib\\site-packages\\lightgbm\\basic.py:1433: UserWarning: Overriding the parameters from Reference Dataset.\n",
      "  _log_warning('Overriding the parameters from Reference Dataset.')\n",
      "D:\\Anaconda\\lib\\site-packages\\lightgbm\\basic.py:1245: UserWarning: categorical_column in param dict is overridden.\n",
      "  _log_warning('{} in param dict is overridden.'.format(cat_alias))\n"
     ]
    },
    {
     "name": "stdout",
     "output_type": "stream",
     "text": [
      "Training until validation scores don't improve for 25 rounds\n",
      "[100]\ttrain's auc: 0.931271\teval's auc: 0.930943\n",
      "[200]\ttrain's auc: 0.931498\teval's auc: 0.931081\n",
      "[300]\ttrain's auc: 0.931715\teval's auc: 0.931203\n",
      "[400]\ttrain's auc: 0.931949\teval's auc: 0.931301\n",
      "[500]\ttrain's auc: 0.93216\teval's auc: 0.931373\n",
      "[600]\ttrain's auc: 0.932385\teval's auc: 0.93144\n",
      "[700]\ttrain's auc: 0.932591\teval's auc: 0.931493\n",
      "[800]\ttrain's auc: 0.932782\teval's auc: 0.93152\n",
      "[900]\ttrain's auc: 0.932973\teval's auc: 0.931549\n",
      "[1000]\ttrain's auc: 0.93315\teval's auc: 0.931568\n",
      "Did not meet early stopping. Best iteration is:\n",
      "[1000]\ttrain's auc: 0.93315\teval's auc: 0.931568\n",
      "Best iteration, split №4 = 1000\n",
      "\n",
      "AUC: 0.9315124761820103 +\\- 0.0002963609974256323\n",
      "\n",
      "[LightGBM] [Warning] min_data_in_leaf is set=14, min_child_samples=43 will be ignored. Current value: min_data_in_leaf=14\n"
     ]
    },
    {
     "name": "stderr",
     "output_type": "stream",
     "text": [
      "D:\\Anaconda\\lib\\site-packages\\lightgbm\\basic.py:1433: UserWarning: Overriding the parameters from Reference Dataset.\n",
      "  _log_warning('Overriding the parameters from Reference Dataset.')\n",
      "D:\\Anaconda\\lib\\site-packages\\lightgbm\\basic.py:1245: UserWarning: categorical_column in param dict is overridden.\n",
      "  _log_warning('{} in param dict is overridden.'.format(cat_alias))\n"
     ]
    },
    {
     "name": "stdout",
     "output_type": "stream",
     "text": [
      "Training until validation scores don't improve for 25 rounds\n",
      "Early stopping, best iteration is:\n",
      "[74]\ttrain's auc: 0.931807\teval's auc: 0.932106\n",
      "Best iteration, split №0 = 74\n",
      "\n",
      "[LightGBM] [Warning] min_data_in_leaf is set=14, min_child_samples=43 will be ignored. Current value: min_data_in_leaf=14\n"
     ]
    },
    {
     "name": "stderr",
     "output_type": "stream",
     "text": [
      "D:\\Anaconda\\lib\\site-packages\\lightgbm\\basic.py:1433: UserWarning: Overriding the parameters from Reference Dataset.\n",
      "  _log_warning('Overriding the parameters from Reference Dataset.')\n",
      "D:\\Anaconda\\lib\\site-packages\\lightgbm\\basic.py:1245: UserWarning: categorical_column in param dict is overridden.\n",
      "  _log_warning('{} in param dict is overridden.'.format(cat_alias))\n"
     ]
    },
    {
     "name": "stdout",
     "output_type": "stream",
     "text": [
      "Training until validation scores don't improve for 25 rounds\n",
      "[100]\ttrain's auc: 0.932096\teval's auc: 0.931366\n",
      "Early stopping, best iteration is:\n",
      "[77]\ttrain's auc: 0.932096\teval's auc: 0.931366\n",
      "Best iteration, split №1 = 77\n",
      "\n",
      "[LightGBM] [Warning] min_data_in_leaf is set=14, min_child_samples=43 will be ignored. Current value: min_data_in_leaf=14\n"
     ]
    },
    {
     "name": "stderr",
     "output_type": "stream",
     "text": [
      "D:\\Anaconda\\lib\\site-packages\\lightgbm\\basic.py:1433: UserWarning: Overriding the parameters from Reference Dataset.\n",
      "  _log_warning('Overriding the parameters from Reference Dataset.')\n",
      "D:\\Anaconda\\lib\\site-packages\\lightgbm\\basic.py:1245: UserWarning: categorical_column in param dict is overridden.\n",
      "  _log_warning('{} in param dict is overridden.'.format(cat_alias))\n"
     ]
    },
    {
     "name": "stdout",
     "output_type": "stream",
     "text": [
      "Training until validation scores don't improve for 25 rounds\n",
      "[100]\ttrain's auc: 0.931879\teval's auc: 0.931322\n",
      "Early stopping, best iteration is:\n",
      "[80]\ttrain's auc: 0.931879\teval's auc: 0.931322\n",
      "Best iteration, split №2 = 80\n",
      "\n",
      "[LightGBM] [Warning] min_data_in_leaf is set=14, min_child_samples=43 will be ignored. Current value: min_data_in_leaf=14\n"
     ]
    },
    {
     "name": "stderr",
     "output_type": "stream",
     "text": [
      "D:\\Anaconda\\lib\\site-packages\\lightgbm\\basic.py:1433: UserWarning: Overriding the parameters from Reference Dataset.\n",
      "  _log_warning('Overriding the parameters from Reference Dataset.')\n",
      "D:\\Anaconda\\lib\\site-packages\\lightgbm\\basic.py:1245: UserWarning: categorical_column in param dict is overridden.\n",
      "  _log_warning('{} in param dict is overridden.'.format(cat_alias))\n"
     ]
    },
    {
     "name": "stdout",
     "output_type": "stream",
     "text": [
      "Training until validation scores don't improve for 25 rounds\n",
      "[100]\ttrain's auc: 0.932005\teval's auc: 0.931737\n",
      "Early stopping, best iteration is:\n",
      "[77]\ttrain's auc: 0.932005\teval's auc: 0.931737\n",
      "Best iteration, split №3 = 77\n",
      "\n",
      "[LightGBM] [Warning] min_data_in_leaf is set=14, min_child_samples=43 will be ignored. Current value: min_data_in_leaf=14\n"
     ]
    },
    {
     "name": "stderr",
     "output_type": "stream",
     "text": [
      "D:\\Anaconda\\lib\\site-packages\\lightgbm\\basic.py:1433: UserWarning: Overriding the parameters from Reference Dataset.\n",
      "  _log_warning('Overriding the parameters from Reference Dataset.')\n",
      "D:\\Anaconda\\lib\\site-packages\\lightgbm\\basic.py:1245: UserWarning: categorical_column in param dict is overridden.\n",
      "  _log_warning('{} in param dict is overridden.'.format(cat_alias))\n"
     ]
    },
    {
     "name": "stdout",
     "output_type": "stream",
     "text": [
      "Training until validation scores don't improve for 25 rounds\n",
      "Early stopping, best iteration is:\n",
      "[57]\ttrain's auc: 0.931867\teval's auc: 0.931387\n",
      "Best iteration, split №4 = 57\n",
      "\n",
      "AUC: 0.9313202677696149 +\\- 0.0003227226380329067\n",
      "\n",
      "[LightGBM] [Warning] min_data_in_leaf is set=52, min_child_samples=11 will be ignored. Current value: min_data_in_leaf=52\n"
     ]
    },
    {
     "name": "stderr",
     "output_type": "stream",
     "text": [
      "D:\\Anaconda\\lib\\site-packages\\lightgbm\\basic.py:1433: UserWarning: Overriding the parameters from Reference Dataset.\n",
      "  _log_warning('Overriding the parameters from Reference Dataset.')\n",
      "D:\\Anaconda\\lib\\site-packages\\lightgbm\\basic.py:1245: UserWarning: categorical_column in param dict is overridden.\n",
      "  _log_warning('{} in param dict is overridden.'.format(cat_alias))\n"
     ]
    },
    {
     "name": "stdout",
     "output_type": "stream",
     "text": [
      "Training until validation scores don't improve for 25 rounds\n",
      "Early stopping, best iteration is:\n",
      "[22]\ttrain's auc: 0.93234\teval's auc: 0.931887\n",
      "Best iteration, split №0 = 22\n",
      "\n",
      "[LightGBM] [Warning] min_data_in_leaf is set=52, min_child_samples=11 will be ignored. Current value: min_data_in_leaf=52\n"
     ]
    },
    {
     "name": "stderr",
     "output_type": "stream",
     "text": [
      "D:\\Anaconda\\lib\\site-packages\\lightgbm\\basic.py:1433: UserWarning: Overriding the parameters from Reference Dataset.\n",
      "  _log_warning('Overriding the parameters from Reference Dataset.')\n",
      "D:\\Anaconda\\lib\\site-packages\\lightgbm\\basic.py:1245: UserWarning: categorical_column in param dict is overridden.\n",
      "  _log_warning('{} in param dict is overridden.'.format(cat_alias))\n"
     ]
    },
    {
     "name": "stdout",
     "output_type": "stream",
     "text": [
      "Training until validation scores don't improve for 25 rounds\n",
      "Early stopping, best iteration is:\n",
      "[20]\ttrain's auc: 0.93263\teval's auc: 0.931198\n",
      "Best iteration, split №1 = 20\n",
      "\n",
      "[LightGBM] [Warning] min_data_in_leaf is set=52, min_child_samples=11 will be ignored. Current value: min_data_in_leaf=52\n"
     ]
    },
    {
     "name": "stderr",
     "output_type": "stream",
     "text": [
      "D:\\Anaconda\\lib\\site-packages\\lightgbm\\basic.py:1433: UserWarning: Overriding the parameters from Reference Dataset.\n",
      "  _log_warning('Overriding the parameters from Reference Dataset.')\n",
      "D:\\Anaconda\\lib\\site-packages\\lightgbm\\basic.py:1245: UserWarning: categorical_column in param dict is overridden.\n",
      "  _log_warning('{} in param dict is overridden.'.format(cat_alias))\n"
     ]
    },
    {
     "name": "stdout",
     "output_type": "stream",
     "text": [
      "Training until validation scores don't improve for 25 rounds\n",
      "Early stopping, best iteration is:\n",
      "[24]\ttrain's auc: 0.932509\teval's auc: 0.931165\n",
      "Best iteration, split №2 = 24\n",
      "\n",
      "[LightGBM] [Warning] min_data_in_leaf is set=52, min_child_samples=11 will be ignored. Current value: min_data_in_leaf=52\n"
     ]
    },
    {
     "name": "stderr",
     "output_type": "stream",
     "text": [
      "D:\\Anaconda\\lib\\site-packages\\lightgbm\\basic.py:1433: UserWarning: Overriding the parameters from Reference Dataset.\n",
      "  _log_warning('Overriding the parameters from Reference Dataset.')\n",
      "D:\\Anaconda\\lib\\site-packages\\lightgbm\\basic.py:1245: UserWarning: categorical_column in param dict is overridden.\n",
      "  _log_warning('{} in param dict is overridden.'.format(cat_alias))\n"
     ]
    },
    {
     "name": "stdout",
     "output_type": "stream",
     "text": [
      "Training until validation scores don't improve for 25 rounds\n",
      "Early stopping, best iteration is:\n",
      "[17]\ttrain's auc: 0.932584\teval's auc: 0.931611\n",
      "Best iteration, split №3 = 17\n",
      "\n",
      "[LightGBM] [Warning] min_data_in_leaf is set=52, min_child_samples=11 will be ignored. Current value: min_data_in_leaf=52\n"
     ]
    },
    {
     "name": "stderr",
     "output_type": "stream",
     "text": [
      "D:\\Anaconda\\lib\\site-packages\\lightgbm\\basic.py:1433: UserWarning: Overriding the parameters from Reference Dataset.\n",
      "  _log_warning('Overriding the parameters from Reference Dataset.')\n",
      "D:\\Anaconda\\lib\\site-packages\\lightgbm\\basic.py:1245: UserWarning: categorical_column in param dict is overridden.\n",
      "  _log_warning('{} in param dict is overridden.'.format(cat_alias))\n"
     ]
    },
    {
     "name": "stdout",
     "output_type": "stream",
     "text": [
      "Training until validation scores don't improve for 25 rounds\n",
      "Early stopping, best iteration is:\n",
      "[18]\ttrain's auc: 0.932483\teval's auc: 0.931274\n",
      "Best iteration, split №4 = 18\n",
      "\n",
      "AUC: 0.9311636252764284 +\\- 0.0003084616403659077\n",
      "\n",
      "[LightGBM] [Warning] min_data_in_leaf is set=91, min_child_samples=86 will be ignored. Current value: min_data_in_leaf=91\n"
     ]
    },
    {
     "name": "stderr",
     "output_type": "stream",
     "text": [
      "D:\\Anaconda\\lib\\site-packages\\lightgbm\\basic.py:1433: UserWarning: Overriding the parameters from Reference Dataset.\n",
      "  _log_warning('Overriding the parameters from Reference Dataset.')\n",
      "D:\\Anaconda\\lib\\site-packages\\lightgbm\\basic.py:1245: UserWarning: categorical_column in param dict is overridden.\n",
      "  _log_warning('{} in param dict is overridden.'.format(cat_alias))\n"
     ]
    },
    {
     "name": "stdout",
     "output_type": "stream",
     "text": [
      "Training until validation scores don't improve for 25 rounds\n",
      "[100]\ttrain's auc: 0.929421\teval's auc: 0.930403\n",
      "[200]\ttrain's auc: 0.93028\teval's auc: 0.931112\n",
      "[300]\ttrain's auc: 0.930607\teval's auc: 0.931406\n",
      "[400]\ttrain's auc: 0.930819\teval's auc: 0.931603\n",
      "[500]\ttrain's auc: 0.930949\teval's auc: 0.931703\n",
      "Early stopping, best iteration is:\n",
      "[512]\ttrain's auc: 0.930955\teval's auc: 0.931708\n",
      "Best iteration, split №0 = 512\n",
      "\n",
      "[LightGBM] [Warning] min_data_in_leaf is set=91, min_child_samples=86 will be ignored. Current value: min_data_in_leaf=91\n"
     ]
    },
    {
     "name": "stderr",
     "output_type": "stream",
     "text": [
      "D:\\Anaconda\\lib\\site-packages\\lightgbm\\basic.py:1433: UserWarning: Overriding the parameters from Reference Dataset.\n",
      "  _log_warning('Overriding the parameters from Reference Dataset.')\n",
      "D:\\Anaconda\\lib\\site-packages\\lightgbm\\basic.py:1245: UserWarning: categorical_column in param dict is overridden.\n",
      "  _log_warning('{} in param dict is overridden.'.format(cat_alias))\n"
     ]
    },
    {
     "name": "stdout",
     "output_type": "stream",
     "text": [
      "Training until validation scores don't improve for 25 rounds\n",
      "[100]\ttrain's auc: 0.929596\teval's auc: 0.929458\n",
      "[200]\ttrain's auc: 0.9306\teval's auc: 0.93048\n",
      "[300]\ttrain's auc: 0.930912\teval's auc: 0.93077\n",
      "[400]\ttrain's auc: 0.93114\teval's auc: 0.930962\n",
      "[500]\ttrain's auc: 0.931253\teval's auc: 0.931049\n",
      "[600]\ttrain's auc: 0.931338\teval's auc: 0.931113\n",
      "Early stopping, best iteration is:\n",
      "[621]\ttrain's auc: 0.931347\teval's auc: 0.931118\n",
      "Best iteration, split №1 = 621\n",
      "\n",
      "[LightGBM] [Warning] min_data_in_leaf is set=91, min_child_samples=86 will be ignored. Current value: min_data_in_leaf=91\n"
     ]
    },
    {
     "name": "stderr",
     "output_type": "stream",
     "text": [
      "D:\\Anaconda\\lib\\site-packages\\lightgbm\\basic.py:1433: UserWarning: Overriding the parameters from Reference Dataset.\n",
      "  _log_warning('Overriding the parameters from Reference Dataset.')\n",
      "D:\\Anaconda\\lib\\site-packages\\lightgbm\\basic.py:1245: UserWarning: categorical_column in param dict is overridden.\n",
      "  _log_warning('{} in param dict is overridden.'.format(cat_alias))\n"
     ]
    },
    {
     "name": "stdout",
     "output_type": "stream",
     "text": [
      "Training until validation scores don't improve for 25 rounds\n",
      "[100]\ttrain's auc: 0.929361\teval's auc: 0.929419\n",
      "[200]\ttrain's auc: 0.930313\teval's auc: 0.930409\n",
      "[300]\ttrain's auc: 0.930693\teval's auc: 0.93074\n",
      "[400]\ttrain's auc: 0.930889\teval's auc: 0.930892\n",
      "[500]\ttrain's auc: 0.931007\teval's auc: 0.930971\n",
      "[600]\ttrain's auc: 0.931102\teval's auc: 0.931026\n",
      "Early stopping, best iteration is:\n",
      "[621]\ttrain's auc: 0.931118\teval's auc: 0.931041\n",
      "Best iteration, split №2 = 621\n",
      "\n",
      "[LightGBM] [Warning] min_data_in_leaf is set=91, min_child_samples=86 will be ignored. Current value: min_data_in_leaf=91\n"
     ]
    },
    {
     "name": "stderr",
     "output_type": "stream",
     "text": [
      "D:\\Anaconda\\lib\\site-packages\\lightgbm\\basic.py:1433: UserWarning: Overriding the parameters from Reference Dataset.\n",
      "  _log_warning('Overriding the parameters from Reference Dataset.')\n",
      "D:\\Anaconda\\lib\\site-packages\\lightgbm\\basic.py:1245: UserWarning: categorical_column in param dict is overridden.\n",
      "  _log_warning('{} in param dict is overridden.'.format(cat_alias))\n"
     ]
    },
    {
     "name": "stdout",
     "output_type": "stream",
     "text": [
      "Training until validation scores don't improve for 25 rounds\n",
      "[100]\ttrain's auc: 0.929498\teval's auc: 0.92986\n",
      "[200]\ttrain's auc: 0.930479\teval's auc: 0.930789\n",
      "[300]\ttrain's auc: 0.930811\teval's auc: 0.931081\n",
      "[400]\ttrain's auc: 0.931005\teval's auc: 0.931261\n",
      "[500]\ttrain's auc: 0.931165\teval's auc: 0.931384\n",
      "[600]\ttrain's auc: 0.931239\teval's auc: 0.931429\n",
      "Early stopping, best iteration is:\n",
      "[608]\ttrain's auc: 0.931243\teval's auc: 0.931433\n",
      "Best iteration, split №3 = 608\n",
      "\n",
      "[LightGBM] [Warning] min_data_in_leaf is set=91, min_child_samples=86 will be ignored. Current value: min_data_in_leaf=91\n"
     ]
    },
    {
     "name": "stderr",
     "output_type": "stream",
     "text": [
      "D:\\Anaconda\\lib\\site-packages\\lightgbm\\basic.py:1433: UserWarning: Overriding the parameters from Reference Dataset.\n",
      "  _log_warning('Overriding the parameters from Reference Dataset.')\n",
      "D:\\Anaconda\\lib\\site-packages\\lightgbm\\basic.py:1245: UserWarning: categorical_column in param dict is overridden.\n",
      "  _log_warning('{} in param dict is overridden.'.format(cat_alias))\n"
     ]
    },
    {
     "name": "stdout",
     "output_type": "stream",
     "text": [
      "Training until validation scores don't improve for 25 rounds\n",
      "[100]\ttrain's auc: 0.929401\teval's auc: 0.929584\n",
      "[200]\ttrain's auc: 0.930351\teval's auc: 0.930421\n",
      "[300]\ttrain's auc: 0.930673\teval's auc: 0.930696\n",
      "[400]\ttrain's auc: 0.930897\teval's auc: 0.930895\n",
      "[500]\ttrain's auc: 0.931055\teval's auc: 0.931019\n",
      "[600]\ttrain's auc: 0.931119\teval's auc: 0.931061\n",
      "Early stopping, best iteration is:\n",
      "[620]\ttrain's auc: 0.931138\teval's auc: 0.931081\n",
      "Best iteration, split №4 = 620\n",
      "\n",
      "AUC: 0.931015258375268 +\\- 0.00034652803756631185\n",
      "\n",
      "[LightGBM] [Warning] min_data_in_leaf is set=50, min_child_samples=48 will be ignored. Current value: min_data_in_leaf=50\n"
     ]
    },
    {
     "name": "stderr",
     "output_type": "stream",
     "text": [
      "D:\\Anaconda\\lib\\site-packages\\lightgbm\\basic.py:1433: UserWarning: Overriding the parameters from Reference Dataset.\n",
      "  _log_warning('Overriding the parameters from Reference Dataset.')\n",
      "D:\\Anaconda\\lib\\site-packages\\lightgbm\\basic.py:1245: UserWarning: categorical_column in param dict is overridden.\n",
      "  _log_warning('{} in param dict is overridden.'.format(cat_alias))\n"
     ]
    },
    {
     "name": "stdout",
     "output_type": "stream",
     "text": [
      "Training until validation scores don't improve for 25 rounds\n",
      "[100]\ttrain's auc: 0.931418\teval's auc: 0.931859\n",
      "[200]\ttrain's auc: 0.93166\teval's auc: 0.932014\n",
      "[300]\ttrain's auc: 0.931758\teval's auc: 0.93207\n",
      "[400]\ttrain's auc: 0.931795\teval's auc: 0.932096\n",
      "[500]\ttrain's auc: 0.931814\teval's auc: 0.932104\n",
      "Early stopping, best iteration is:\n",
      "[547]\ttrain's auc: 0.931819\teval's auc: 0.93211\n",
      "Best iteration, split №0 = 547\n",
      "\n",
      "[LightGBM] [Warning] min_data_in_leaf is set=50, min_child_samples=48 will be ignored. Current value: min_data_in_leaf=50\n"
     ]
    },
    {
     "name": "stderr",
     "output_type": "stream",
     "text": [
      "D:\\Anaconda\\lib\\site-packages\\lightgbm\\basic.py:1433: UserWarning: Overriding the parameters from Reference Dataset.\n",
      "  _log_warning('Overriding the parameters from Reference Dataset.')\n",
      "D:\\Anaconda\\lib\\site-packages\\lightgbm\\basic.py:1245: UserWarning: categorical_column in param dict is overridden.\n",
      "  _log_warning('{} in param dict is overridden.'.format(cat_alias))\n"
     ]
    },
    {
     "name": "stdout",
     "output_type": "stream",
     "text": [
      "Training until validation scores don't improve for 25 rounds\n",
      "[100]\ttrain's auc: 0.931727\teval's auc: 0.931183\n",
      "[200]\ttrain's auc: 0.931955\teval's auc: 0.931311\n",
      "[300]\ttrain's auc: 0.932056\teval's auc: 0.931357\n",
      "[400]\ttrain's auc: 0.932097\teval's auc: 0.931381\n",
      "Early stopping, best iteration is:\n",
      "[436]\ttrain's auc: 0.932105\teval's auc: 0.931385\n",
      "Best iteration, split №1 = 436\n",
      "\n",
      "[LightGBM] [Warning] min_data_in_leaf is set=50, min_child_samples=48 will be ignored. Current value: min_data_in_leaf=50\n"
     ]
    },
    {
     "name": "stderr",
     "output_type": "stream",
     "text": [
      "D:\\Anaconda\\lib\\site-packages\\lightgbm\\basic.py:1433: UserWarning: Overriding the parameters from Reference Dataset.\n",
      "  _log_warning('Overriding the parameters from Reference Dataset.')\n",
      "D:\\Anaconda\\lib\\site-packages\\lightgbm\\basic.py:1245: UserWarning: categorical_column in param dict is overridden.\n",
      "  _log_warning('{} in param dict is overridden.'.format(cat_alias))\n"
     ]
    },
    {
     "name": "stdout",
     "output_type": "stream",
     "text": [
      "Training until validation scores don't improve for 25 rounds\n",
      "[100]\ttrain's auc: 0.931504\teval's auc: 0.931155\n",
      "[200]\ttrain's auc: 0.931723\teval's auc: 0.931285\n",
      "[300]\ttrain's auc: 0.93184\teval's auc: 0.931322\n",
      "[400]\ttrain's auc: 0.931882\teval's auc: 0.931345\n",
      "[500]\ttrain's auc: 0.931903\teval's auc: 0.931353\n",
      "[600]\ttrain's auc: 0.931912\teval's auc: 0.931359\n",
      "Early stopping, best iteration is:\n",
      "[600]\ttrain's auc: 0.931912\teval's auc: 0.931359\n",
      "Best iteration, split №2 = 600\n",
      "\n",
      "[LightGBM] [Warning] min_data_in_leaf is set=50, min_child_samples=48 will be ignored. Current value: min_data_in_leaf=50\n"
     ]
    },
    {
     "name": "stderr",
     "output_type": "stream",
     "text": [
      "D:\\Anaconda\\lib\\site-packages\\lightgbm\\basic.py:1433: UserWarning: Overriding the parameters from Reference Dataset.\n",
      "  _log_warning('Overriding the parameters from Reference Dataset.')\n",
      "D:\\Anaconda\\lib\\site-packages\\lightgbm\\basic.py:1245: UserWarning: categorical_column in param dict is overridden.\n",
      "  _log_warning('{} in param dict is overridden.'.format(cat_alias))\n"
     ]
    },
    {
     "name": "stdout",
     "output_type": "stream",
     "text": [
      "Training until validation scores don't improve for 25 rounds\n",
      "[100]\ttrain's auc: 0.931636\teval's auc: 0.931553\n",
      "[200]\ttrain's auc: 0.93186\teval's auc: 0.931687\n",
      "[300]\ttrain's auc: 0.931976\teval's auc: 0.931736\n",
      "[400]\ttrain's auc: 0.932021\teval's auc: 0.931762\n",
      "Early stopping, best iteration is:\n",
      "[404]\ttrain's auc: 0.932022\teval's auc: 0.931763\n",
      "Best iteration, split №3 = 404\n",
      "\n",
      "[LightGBM] [Warning] min_data_in_leaf is set=50, min_child_samples=48 will be ignored. Current value: min_data_in_leaf=50\n"
     ]
    },
    {
     "name": "stderr",
     "output_type": "stream",
     "text": [
      "D:\\Anaconda\\lib\\site-packages\\lightgbm\\basic.py:1433: UserWarning: Overriding the parameters from Reference Dataset.\n",
      "  _log_warning('Overriding the parameters from Reference Dataset.')\n",
      "D:\\Anaconda\\lib\\site-packages\\lightgbm\\basic.py:1245: UserWarning: categorical_column in param dict is overridden.\n",
      "  _log_warning('{} in param dict is overridden.'.format(cat_alias))\n"
     ]
    },
    {
     "name": "stdout",
     "output_type": "stream",
     "text": [
      "Training until validation scores don't improve for 25 rounds\n",
      "[100]\ttrain's auc: 0.931522\teval's auc: 0.931178\n",
      "[200]\ttrain's auc: 0.931762\teval's auc: 0.931331\n",
      "[300]\ttrain's auc: 0.931872\teval's auc: 0.931377\n",
      "[400]\ttrain's auc: 0.931905\teval's auc: 0.931396\n",
      "[500]\ttrain's auc: 0.931918\teval's auc: 0.931414\n",
      "Early stopping, best iteration is:\n",
      "[557]\ttrain's auc: 0.931924\teval's auc: 0.931419\n",
      "Best iteration, split №4 = 557\n",
      "\n",
      "AUC: 0.9313550813869872 +\\- 0.00032831026556505563\n",
      "\n",
      "[LightGBM] [Warning] min_data_in_leaf is set=59, min_child_samples=27 will be ignored. Current value: min_data_in_leaf=59\n"
     ]
    },
    {
     "name": "stderr",
     "output_type": "stream",
     "text": [
      "D:\\Anaconda\\lib\\site-packages\\lightgbm\\basic.py:1433: UserWarning: Overriding the parameters from Reference Dataset.\n",
      "  _log_warning('Overriding the parameters from Reference Dataset.')\n",
      "D:\\Anaconda\\lib\\site-packages\\lightgbm\\basic.py:1245: UserWarning: categorical_column in param dict is overridden.\n",
      "  _log_warning('{} in param dict is overridden.'.format(cat_alias))\n"
     ]
    },
    {
     "name": "stdout",
     "output_type": "stream",
     "text": [
      "Training until validation scores don't improve for 25 rounds\n",
      "[100]\ttrain's auc: 0.931533\teval's auc: 0.932035\n",
      "[200]\ttrain's auc: 0.932222\teval's auc: 0.932269\n",
      "[300]\ttrain's auc: 0.932734\teval's auc: 0.932331\n",
      "Early stopping, best iteration is:\n",
      "[326]\ttrain's auc: 0.932861\teval's auc: 0.932342\n",
      "Best iteration, split №0 = 326\n",
      "\n",
      "[LightGBM] [Warning] min_data_in_leaf is set=59, min_child_samples=27 will be ignored. Current value: min_data_in_leaf=59\n"
     ]
    },
    {
     "name": "stderr",
     "output_type": "stream",
     "text": [
      "D:\\Anaconda\\lib\\site-packages\\lightgbm\\basic.py:1433: UserWarning: Overriding the parameters from Reference Dataset.\n",
      "  _log_warning('Overriding the parameters from Reference Dataset.')\n",
      "D:\\Anaconda\\lib\\site-packages\\lightgbm\\basic.py:1245: UserWarning: categorical_column in param dict is overridden.\n",
      "  _log_warning('{} in param dict is overridden.'.format(cat_alias))\n"
     ]
    },
    {
     "name": "stdout",
     "output_type": "stream",
     "text": [
      "Training until validation scores don't improve for 25 rounds\n",
      "[100]\ttrain's auc: 0.931836\teval's auc: 0.931353\n",
      "[200]\ttrain's auc: 0.932522\teval's auc: 0.931539\n",
      "[300]\ttrain's auc: 0.93303\teval's auc: 0.93159\n",
      "Early stopping, best iteration is:\n",
      "[345]\ttrain's auc: 0.93323\teval's auc: 0.931603\n",
      "Best iteration, split №1 = 345\n",
      "\n",
      "[LightGBM] [Warning] min_data_in_leaf is set=59, min_child_samples=27 will be ignored. Current value: min_data_in_leaf=59\n"
     ]
    },
    {
     "name": "stderr",
     "output_type": "stream",
     "text": [
      "D:\\Anaconda\\lib\\site-packages\\lightgbm\\basic.py:1433: UserWarning: Overriding the parameters from Reference Dataset.\n",
      "  _log_warning('Overriding the parameters from Reference Dataset.')\n",
      "D:\\Anaconda\\lib\\site-packages\\lightgbm\\basic.py:1245: UserWarning: categorical_column in param dict is overridden.\n",
      "  _log_warning('{} in param dict is overridden.'.format(cat_alias))\n"
     ]
    },
    {
     "name": "stdout",
     "output_type": "stream",
     "text": [
      "Training until validation scores don't improve for 25 rounds\n",
      "[100]\ttrain's auc: 0.931628\teval's auc: 0.9313\n",
      "[200]\ttrain's auc: 0.93232\teval's auc: 0.931496\n",
      "Early stopping, best iteration is:\n",
      "[238]\ttrain's auc: 0.93253\teval's auc: 0.931514\n",
      "Best iteration, split №2 = 238\n",
      "\n",
      "[LightGBM] [Warning] min_data_in_leaf is set=59, min_child_samples=27 will be ignored. Current value: min_data_in_leaf=59\n"
     ]
    },
    {
     "name": "stderr",
     "output_type": "stream",
     "text": [
      "D:\\Anaconda\\lib\\site-packages\\lightgbm\\basic.py:1433: UserWarning: Overriding the parameters from Reference Dataset.\n",
      "  _log_warning('Overriding the parameters from Reference Dataset.')\n",
      "D:\\Anaconda\\lib\\site-packages\\lightgbm\\basic.py:1245: UserWarning: categorical_column in param dict is overridden.\n",
      "  _log_warning('{} in param dict is overridden.'.format(cat_alias))\n"
     ]
    },
    {
     "name": "stdout",
     "output_type": "stream",
     "text": [
      "Training until validation scores don't improve for 25 rounds\n",
      "[100]\ttrain's auc: 0.931748\teval's auc: 0.931737\n",
      "[200]\ttrain's auc: 0.932447\teval's auc: 0.931944\n",
      "[300]\ttrain's auc: 0.932959\teval's auc: 0.931973\n",
      "Early stopping, best iteration is:\n",
      "[293]\ttrain's auc: 0.93292\teval's auc: 0.931978\n",
      "Best iteration, split №3 = 293\n",
      "\n",
      "[LightGBM] [Warning] min_data_in_leaf is set=59, min_child_samples=27 will be ignored. Current value: min_data_in_leaf=59\n"
     ]
    },
    {
     "name": "stderr",
     "output_type": "stream",
     "text": [
      "D:\\Anaconda\\lib\\site-packages\\lightgbm\\basic.py:1433: UserWarning: Overriding the parameters from Reference Dataset.\n",
      "  _log_warning('Overriding the parameters from Reference Dataset.')\n",
      "D:\\Anaconda\\lib\\site-packages\\lightgbm\\basic.py:1245: UserWarning: categorical_column in param dict is overridden.\n",
      "  _log_warning('{} in param dict is overridden.'.format(cat_alias))\n"
     ]
    },
    {
     "name": "stdout",
     "output_type": "stream",
     "text": [
      "Training until validation scores don't improve for 25 rounds\n",
      "[100]\ttrain's auc: 0.931664\teval's auc: 0.931402\n",
      "[200]\ttrain's auc: 0.932351\teval's auc: 0.931594\n",
      "[300]\ttrain's auc: 0.932854\teval's auc: 0.931628\n",
      "Early stopping, best iteration is:\n",
      "[316]\ttrain's auc: 0.93293\teval's auc: 0.931637\n",
      "Best iteration, split №4 = 316\n",
      "\n",
      "AUC: 0.9315353199337618 +\\- 0.00030665177339955833\n",
      "\n",
      "[LightGBM] [Warning] min_data_in_leaf is set=7, min_child_samples=71 will be ignored. Current value: min_data_in_leaf=7\n"
     ]
    },
    {
     "name": "stderr",
     "output_type": "stream",
     "text": [
      "D:\\Anaconda\\lib\\site-packages\\lightgbm\\basic.py:1433: UserWarning: Overriding the parameters from Reference Dataset.\n",
      "  _log_warning('Overriding the parameters from Reference Dataset.')\n",
      "D:\\Anaconda\\lib\\site-packages\\lightgbm\\basic.py:1245: UserWarning: categorical_column in param dict is overridden.\n",
      "  _log_warning('{} in param dict is overridden.'.format(cat_alias))\n"
     ]
    },
    {
     "name": "stdout",
     "output_type": "stream",
     "text": [
      "Training until validation scores don't improve for 25 rounds\n",
      "[100]\ttrain's auc: 0.930781\teval's auc: 0.931404\n",
      "[200]\ttrain's auc: 0.93095\teval's auc: 0.931513\n",
      "[300]\ttrain's auc: 0.931085\teval's auc: 0.931592\n",
      "[400]\ttrain's auc: 0.931213\teval's auc: 0.931675\n",
      "Early stopping, best iteration is:\n",
      "[440]\ttrain's auc: 0.931274\teval's auc: 0.931714\n",
      "Best iteration, split №0 = 440\n",
      "\n",
      "[LightGBM] [Warning] min_data_in_leaf is set=7, min_child_samples=71 will be ignored. Current value: min_data_in_leaf=7\n"
     ]
    },
    {
     "name": "stderr",
     "output_type": "stream",
     "text": [
      "D:\\Anaconda\\lib\\site-packages\\lightgbm\\basic.py:1433: UserWarning: Overriding the parameters from Reference Dataset.\n",
      "  _log_warning('Overriding the parameters from Reference Dataset.')\n",
      "D:\\Anaconda\\lib\\site-packages\\lightgbm\\basic.py:1245: UserWarning: categorical_column in param dict is overridden.\n",
      "  _log_warning('{} in param dict is overridden.'.format(cat_alias))\n"
     ]
    },
    {
     "name": "stdout",
     "output_type": "stream",
     "text": [
      "Training until validation scores don't improve for 25 rounds\n",
      "[100]\ttrain's auc: 0.931092\teval's auc: 0.930747\n",
      "[200]\ttrain's auc: 0.931247\teval's auc: 0.930857\n",
      "[300]\ttrain's auc: 0.931377\teval's auc: 0.930934\n",
      "[400]\ttrain's auc: 0.931513\teval's auc: 0.931002\n",
      "[500]\ttrain's auc: 0.931641\teval's auc: 0.931067\n",
      "[600]\ttrain's auc: 0.931756\teval's auc: 0.931122\n",
      "[700]\ttrain's auc: 0.931869\teval's auc: 0.931177\n",
      "[800]\ttrain's auc: 0.931977\teval's auc: 0.931221\n",
      "[900]\ttrain's auc: 0.932076\teval's auc: 0.931252\n",
      "[1000]\ttrain's auc: 0.932167\teval's auc: 0.93128\n",
      "Did not meet early stopping. Best iteration is:\n",
      "[1000]\ttrain's auc: 0.932167\teval's auc: 0.93128\n",
      "Best iteration, split №1 = 1000\n",
      "\n",
      "[LightGBM] [Warning] min_data_in_leaf is set=7, min_child_samples=71 will be ignored. Current value: min_data_in_leaf=7\n"
     ]
    },
    {
     "name": "stderr",
     "output_type": "stream",
     "text": [
      "D:\\Anaconda\\lib\\site-packages\\lightgbm\\basic.py:1433: UserWarning: Overriding the parameters from Reference Dataset.\n",
      "  _log_warning('Overriding the parameters from Reference Dataset.')\n",
      "D:\\Anaconda\\lib\\site-packages\\lightgbm\\basic.py:1245: UserWarning: categorical_column in param dict is overridden.\n",
      "  _log_warning('{} in param dict is overridden.'.format(cat_alias))\n"
     ]
    },
    {
     "name": "stdout",
     "output_type": "stream",
     "text": [
      "Training until validation scores don't improve for 25 rounds\n",
      "[100]\ttrain's auc: 0.93086\teval's auc: 0.93069\n",
      "[200]\ttrain's auc: 0.931032\teval's auc: 0.930794\n",
      "[300]\ttrain's auc: 0.93115\teval's auc: 0.930865\n",
      "[400]\ttrain's auc: 0.931293\teval's auc: 0.930971\n",
      "[500]\ttrain's auc: 0.931417\teval's auc: 0.93103\n",
      "[600]\ttrain's auc: 0.931532\teval's auc: 0.931078\n",
      "[700]\ttrain's auc: 0.931644\teval's auc: 0.931122\n",
      "[800]\ttrain's auc: 0.93175\teval's auc: 0.931168\n",
      "[900]\ttrain's auc: 0.931849\teval's auc: 0.931202\n",
      "[1000]\ttrain's auc: 0.931941\teval's auc: 0.931226\n",
      "Did not meet early stopping. Best iteration is:\n",
      "[1000]\ttrain's auc: 0.931941\teval's auc: 0.931226\n",
      "Best iteration, split №2 = 1000\n",
      "\n",
      "[LightGBM] [Warning] min_data_in_leaf is set=7, min_child_samples=71 will be ignored. Current value: min_data_in_leaf=7\n"
     ]
    },
    {
     "name": "stderr",
     "output_type": "stream",
     "text": [
      "D:\\Anaconda\\lib\\site-packages\\lightgbm\\basic.py:1433: UserWarning: Overriding the parameters from Reference Dataset.\n",
      "  _log_warning('Overriding the parameters from Reference Dataset.')\n",
      "D:\\Anaconda\\lib\\site-packages\\lightgbm\\basic.py:1245: UserWarning: categorical_column in param dict is overridden.\n",
      "  _log_warning('{} in param dict is overridden.'.format(cat_alias))\n"
     ]
    },
    {
     "name": "stdout",
     "output_type": "stream",
     "text": [
      "Training until validation scores don't improve for 25 rounds\n",
      "[100]\ttrain's auc: 0.930963\teval's auc: 0.9311\n",
      "[200]\ttrain's auc: 0.931135\teval's auc: 0.931218\n",
      "[300]\ttrain's auc: 0.931262\teval's auc: 0.93129\n",
      "[400]\ttrain's auc: 0.931401\teval's auc: 0.931365\n",
      "[500]\ttrain's auc: 0.931525\teval's auc: 0.93143\n",
      "[600]\ttrain's auc: 0.931641\teval's auc: 0.93149\n",
      "[700]\ttrain's auc: 0.931758\teval's auc: 0.931543\n",
      "[800]\ttrain's auc: 0.93187\teval's auc: 0.931586\n",
      "Early stopping, best iteration is:\n",
      "[806]\ttrain's auc: 0.931878\teval's auc: 0.931589\n",
      "Best iteration, split №3 = 806\n",
      "\n",
      "[LightGBM] [Warning] min_data_in_leaf is set=7, min_child_samples=71 will be ignored. Current value: min_data_in_leaf=7\n"
     ]
    },
    {
     "name": "stderr",
     "output_type": "stream",
     "text": [
      "D:\\Anaconda\\lib\\site-packages\\lightgbm\\basic.py:1433: UserWarning: Overriding the parameters from Reference Dataset.\n",
      "  _log_warning('Overriding the parameters from Reference Dataset.')\n",
      "D:\\Anaconda\\lib\\site-packages\\lightgbm\\basic.py:1245: UserWarning: categorical_column in param dict is overridden.\n",
      "  _log_warning('{} in param dict is overridden.'.format(cat_alias))\n"
     ]
    },
    {
     "name": "stdout",
     "output_type": "stream",
     "text": [
      "Training until validation scores don't improve for 25 rounds\n",
      "[100]\ttrain's auc: 0.930862\teval's auc: 0.930688\n",
      "[200]\ttrain's auc: 0.93104\teval's auc: 0.930799\n",
      "[300]\ttrain's auc: 0.931177\teval's auc: 0.93088\n",
      "[400]\ttrain's auc: 0.931313\teval's auc: 0.930963\n",
      "[500]\ttrain's auc: 0.931437\teval's auc: 0.931034\n",
      "[600]\ttrain's auc: 0.93156\teval's auc: 0.931106\n",
      "[700]\ttrain's auc: 0.931668\teval's auc: 0.931161\n",
      "[800]\ttrain's auc: 0.931777\teval's auc: 0.931204\n",
      "[900]\ttrain's auc: 0.931879\teval's auc: 0.931239\n",
      "[1000]\ttrain's auc: 0.931979\teval's auc: 0.931272\n",
      "Did not meet early stopping. Best iteration is:\n",
      "[1000]\ttrain's auc: 0.931979\teval's auc: 0.931272\n",
      "Best iteration, split №4 = 1000\n",
      "\n",
      "AUC: 0.9311484612944556 +\\- 0.000345380311675559\n",
      "\n",
      "[LightGBM] [Warning] min_data_in_leaf is set=51, min_child_samples=95 will be ignored. Current value: min_data_in_leaf=51\n"
     ]
    },
    {
     "name": "stderr",
     "output_type": "stream",
     "text": [
      "D:\\Anaconda\\lib\\site-packages\\lightgbm\\basic.py:1433: UserWarning: Overriding the parameters from Reference Dataset.\n",
      "  _log_warning('Overriding the parameters from Reference Dataset.')\n",
      "D:\\Anaconda\\lib\\site-packages\\lightgbm\\basic.py:1245: UserWarning: categorical_column in param dict is overridden.\n",
      "  _log_warning('{} in param dict is overridden.'.format(cat_alias))\n"
     ]
    },
    {
     "name": "stdout",
     "output_type": "stream",
     "text": [
      "Training until validation scores don't improve for 25 rounds\n",
      "Early stopping, best iteration is:\n",
      "[33]\ttrain's auc: 0.932678\teval's auc: 0.932001\n",
      "Best iteration, split №0 = 33\n",
      "\n",
      "[LightGBM] [Warning] min_data_in_leaf is set=51, min_child_samples=95 will be ignored. Current value: min_data_in_leaf=51\n"
     ]
    },
    {
     "name": "stderr",
     "output_type": "stream",
     "text": [
      "D:\\Anaconda\\lib\\site-packages\\lightgbm\\basic.py:1433: UserWarning: Overriding the parameters from Reference Dataset.\n",
      "  _log_warning('Overriding the parameters from Reference Dataset.')\n",
      "D:\\Anaconda\\lib\\site-packages\\lightgbm\\basic.py:1245: UserWarning: categorical_column in param dict is overridden.\n",
      "  _log_warning('{} in param dict is overridden.'.format(cat_alias))\n"
     ]
    },
    {
     "name": "stdout",
     "output_type": "stream",
     "text": [
      "Training until validation scores don't improve for 25 rounds\n",
      "Early stopping, best iteration is:\n",
      "[32]\ttrain's auc: 0.932948\teval's auc: 0.931291\n",
      "Best iteration, split №1 = 32\n",
      "\n",
      "[LightGBM] [Warning] min_data_in_leaf is set=51, min_child_samples=95 will be ignored. Current value: min_data_in_leaf=51\n"
     ]
    },
    {
     "name": "stderr",
     "output_type": "stream",
     "text": [
      "D:\\Anaconda\\lib\\site-packages\\lightgbm\\basic.py:1433: UserWarning: Overriding the parameters from Reference Dataset.\n",
      "  _log_warning('Overriding the parameters from Reference Dataset.')\n",
      "D:\\Anaconda\\lib\\site-packages\\lightgbm\\basic.py:1245: UserWarning: categorical_column in param dict is overridden.\n",
      "  _log_warning('{} in param dict is overridden.'.format(cat_alias))\n"
     ]
    },
    {
     "name": "stdout",
     "output_type": "stream",
     "text": [
      "Training until validation scores don't improve for 25 rounds\n",
      "Early stopping, best iteration is:\n",
      "[31]\ttrain's auc: 0.932648\teval's auc: 0.931223\n",
      "Best iteration, split №2 = 31\n",
      "\n",
      "[LightGBM] [Warning] min_data_in_leaf is set=51, min_child_samples=95 will be ignored. Current value: min_data_in_leaf=51\n"
     ]
    },
    {
     "name": "stderr",
     "output_type": "stream",
     "text": [
      "D:\\Anaconda\\lib\\site-packages\\lightgbm\\basic.py:1433: UserWarning: Overriding the parameters from Reference Dataset.\n",
      "  _log_warning('Overriding the parameters from Reference Dataset.')\n",
      "D:\\Anaconda\\lib\\site-packages\\lightgbm\\basic.py:1245: UserWarning: categorical_column in param dict is overridden.\n",
      "  _log_warning('{} in param dict is overridden.'.format(cat_alias))\n"
     ]
    },
    {
     "name": "stdout",
     "output_type": "stream",
     "text": [
      "Training until validation scores don't improve for 25 rounds\n",
      "Early stopping, best iteration is:\n",
      "[45]\ttrain's auc: 0.933494\teval's auc: 0.931674\n",
      "Best iteration, split №3 = 45\n",
      "\n",
      "[LightGBM] [Warning] min_data_in_leaf is set=51, min_child_samples=95 will be ignored. Current value: min_data_in_leaf=51\n"
     ]
    },
    {
     "name": "stderr",
     "output_type": "stream",
     "text": [
      "D:\\Anaconda\\lib\\site-packages\\lightgbm\\basic.py:1433: UserWarning: Overriding the parameters from Reference Dataset.\n",
      "  _log_warning('Overriding the parameters from Reference Dataset.')\n",
      "D:\\Anaconda\\lib\\site-packages\\lightgbm\\basic.py:1245: UserWarning: categorical_column in param dict is overridden.\n",
      "  _log_warning('{} in param dict is overridden.'.format(cat_alias))\n"
     ]
    },
    {
     "name": "stdout",
     "output_type": "stream",
     "text": [
      "Training until validation scores don't improve for 25 rounds\n",
      "Early stopping, best iteration is:\n",
      "[38]\ttrain's auc: 0.933041\teval's auc: 0.931313\n",
      "Best iteration, split №4 = 38\n",
      "\n",
      "AUC: 0.9312006108079464 +\\- 0.0002983698512095308\n",
      "\n",
      "[LightGBM] [Warning] min_data_in_leaf is set=23, min_child_samples=30 will be ignored. Current value: min_data_in_leaf=23\n"
     ]
    },
    {
     "name": "stderr",
     "output_type": "stream",
     "text": [
      "D:\\Anaconda\\lib\\site-packages\\lightgbm\\basic.py:1433: UserWarning: Overriding the parameters from Reference Dataset.\n",
      "  _log_warning('Overriding the parameters from Reference Dataset.')\n",
      "D:\\Anaconda\\lib\\site-packages\\lightgbm\\basic.py:1245: UserWarning: categorical_column in param dict is overridden.\n",
      "  _log_warning('{} in param dict is overridden.'.format(cat_alias))\n"
     ]
    },
    {
     "name": "stdout",
     "output_type": "stream",
     "text": [
      "Training until validation scores don't improve for 25 rounds\n",
      "[100]\ttrain's auc: 0.930779\teval's auc: 0.931538\n",
      "[200]\ttrain's auc: 0.931252\teval's auc: 0.931915\n",
      "Early stopping, best iteration is:\n",
      "[222]\ttrain's auc: 0.931268\teval's auc: 0.93193\n",
      "Best iteration, split №0 = 222\n",
      "\n",
      "[LightGBM] [Warning] min_data_in_leaf is set=23, min_child_samples=30 will be ignored. Current value: min_data_in_leaf=23\n"
     ]
    },
    {
     "name": "stderr",
     "output_type": "stream",
     "text": [
      "D:\\Anaconda\\lib\\site-packages\\lightgbm\\basic.py:1433: UserWarning: Overriding the parameters from Reference Dataset.\n",
      "  _log_warning('Overriding the parameters from Reference Dataset.')\n",
      "D:\\Anaconda\\lib\\site-packages\\lightgbm\\basic.py:1245: UserWarning: categorical_column in param dict is overridden.\n",
      "  _log_warning('{} in param dict is overridden.'.format(cat_alias))\n"
     ]
    },
    {
     "name": "stdout",
     "output_type": "stream",
     "text": [
      "Training until validation scores don't improve for 25 rounds\n",
      "[100]\ttrain's auc: 0.931091\teval's auc: 0.93086\n",
      "[200]\ttrain's auc: 0.931564\teval's auc: 0.931232\n",
      "Early stopping, best iteration is:\n",
      "[222]\ttrain's auc: 0.931575\teval's auc: 0.931238\n",
      "Best iteration, split №1 = 222\n",
      "\n",
      "[LightGBM] [Warning] min_data_in_leaf is set=23, min_child_samples=30 will be ignored. Current value: min_data_in_leaf=23\n"
     ]
    },
    {
     "name": "stderr",
     "output_type": "stream",
     "text": [
      "D:\\Anaconda\\lib\\site-packages\\lightgbm\\basic.py:1433: UserWarning: Overriding the parameters from Reference Dataset.\n",
      "  _log_warning('Overriding the parameters from Reference Dataset.')\n",
      "D:\\Anaconda\\lib\\site-packages\\lightgbm\\basic.py:1245: UserWarning: categorical_column in param dict is overridden.\n",
      "  _log_warning('{} in param dict is overridden.'.format(cat_alias))\n"
     ]
    },
    {
     "name": "stdout",
     "output_type": "stream",
     "text": [
      "Training until validation scores don't improve for 25 rounds\n",
      "[100]\ttrain's auc: 0.930836\teval's auc: 0.930828\n",
      "[200]\ttrain's auc: 0.931326\teval's auc: 0.931195\n",
      "Early stopping, best iteration is:\n",
      "[227]\ttrain's auc: 0.931343\teval's auc: 0.931204\n",
      "Best iteration, split №2 = 227\n",
      "\n",
      "[LightGBM] [Warning] min_data_in_leaf is set=23, min_child_samples=30 will be ignored. Current value: min_data_in_leaf=23\n"
     ]
    },
    {
     "name": "stderr",
     "output_type": "stream",
     "text": [
      "D:\\Anaconda\\lib\\site-packages\\lightgbm\\basic.py:1433: UserWarning: Overriding the parameters from Reference Dataset.\n",
      "  _log_warning('Overriding the parameters from Reference Dataset.')\n",
      "D:\\Anaconda\\lib\\site-packages\\lightgbm\\basic.py:1245: UserWarning: categorical_column in param dict is overridden.\n",
      "  _log_warning('{} in param dict is overridden.'.format(cat_alias))\n"
     ]
    },
    {
     "name": "stdout",
     "output_type": "stream",
     "text": [
      "Training until validation scores don't improve for 25 rounds\n",
      "[100]\ttrain's auc: 0.930979\teval's auc: 0.931242\n",
      "[200]\ttrain's auc: 0.931477\teval's auc: 0.93162\n",
      "Early stopping, best iteration is:\n",
      "[210]\ttrain's auc: 0.931487\teval's auc: 0.931629\n",
      "Best iteration, split №3 = 210\n",
      "\n",
      "[LightGBM] [Warning] min_data_in_leaf is set=23, min_child_samples=30 will be ignored. Current value: min_data_in_leaf=23\n"
     ]
    },
    {
     "name": "stderr",
     "output_type": "stream",
     "text": [
      "D:\\Anaconda\\lib\\site-packages\\lightgbm\\basic.py:1433: UserWarning: Overriding the parameters from Reference Dataset.\n",
      "  _log_warning('Overriding the parameters from Reference Dataset.')\n",
      "D:\\Anaconda\\lib\\site-packages\\lightgbm\\basic.py:1245: UserWarning: categorical_column in param dict is overridden.\n",
      "  _log_warning('{} in param dict is overridden.'.format(cat_alias))\n"
     ]
    },
    {
     "name": "stdout",
     "output_type": "stream",
     "text": [
      "Training until validation scores don't improve for 25 rounds\n",
      "[100]\ttrain's auc: 0.930874\teval's auc: 0.930906\n",
      "[200]\ttrain's auc: 0.931362\teval's auc: 0.931274\n",
      "Early stopping, best iteration is:\n",
      "[212]\ttrain's auc: 0.931372\teval's auc: 0.931281\n",
      "Best iteration, split №4 = 212\n",
      "\n",
      "AUC: 0.9311887011147142 +\\- 0.0003348467515101285\n",
      "\n",
      "[LightGBM] [Warning] min_data_in_leaf is set=85, min_child_samples=3 will be ignored. Current value: min_data_in_leaf=85\n"
     ]
    },
    {
     "name": "stderr",
     "output_type": "stream",
     "text": [
      "D:\\Anaconda\\lib\\site-packages\\lightgbm\\basic.py:1433: UserWarning: Overriding the parameters from Reference Dataset.\n",
      "  _log_warning('Overriding the parameters from Reference Dataset.')\n",
      "D:\\Anaconda\\lib\\site-packages\\lightgbm\\basic.py:1245: UserWarning: categorical_column in param dict is overridden.\n",
      "  _log_warning('{} in param dict is overridden.'.format(cat_alias))\n"
     ]
    },
    {
     "name": "stdout",
     "output_type": "stream",
     "text": [
      "Training until validation scores don't improve for 25 rounds\n",
      "Early stopping, best iteration is:\n",
      "[4]\ttrain's auc: 0.924302\teval's auc: 0.924981\n",
      "Best iteration, split №0 = 4\n",
      "\n",
      "[LightGBM] [Warning] min_data_in_leaf is set=85, min_child_samples=3 will be ignored. Current value: min_data_in_leaf=85\n"
     ]
    },
    {
     "name": "stderr",
     "output_type": "stream",
     "text": [
      "D:\\Anaconda\\lib\\site-packages\\lightgbm\\basic.py:1433: UserWarning: Overriding the parameters from Reference Dataset.\n",
      "  _log_warning('Overriding the parameters from Reference Dataset.')\n",
      "D:\\Anaconda\\lib\\site-packages\\lightgbm\\basic.py:1245: UserWarning: categorical_column in param dict is overridden.\n",
      "  _log_warning('{} in param dict is overridden.'.format(cat_alias))\n"
     ]
    },
    {
     "name": "stdout",
     "output_type": "stream",
     "text": [
      "Training until validation scores don't improve for 25 rounds\n",
      "Early stopping, best iteration is:\n",
      "[4]\ttrain's auc: 0.924769\teval's auc: 0.924832\n",
      "Best iteration, split №1 = 4\n",
      "\n",
      "[LightGBM] [Warning] min_data_in_leaf is set=85, min_child_samples=3 will be ignored. Current value: min_data_in_leaf=85\n"
     ]
    },
    {
     "name": "stderr",
     "output_type": "stream",
     "text": [
      "D:\\Anaconda\\lib\\site-packages\\lightgbm\\basic.py:1433: UserWarning: Overriding the parameters from Reference Dataset.\n",
      "  _log_warning('Overriding the parameters from Reference Dataset.')\n",
      "D:\\Anaconda\\lib\\site-packages\\lightgbm\\basic.py:1245: UserWarning: categorical_column in param dict is overridden.\n",
      "  _log_warning('{} in param dict is overridden.'.format(cat_alias))\n"
     ]
    },
    {
     "name": "stdout",
     "output_type": "stream",
     "text": [
      "Training until validation scores don't improve for 25 rounds\n",
      "Early stopping, best iteration is:\n",
      "[4]\ttrain's auc: 0.92443\teval's auc: 0.924451\n",
      "Best iteration, split №2 = 4\n",
      "\n",
      "[LightGBM] [Warning] min_data_in_leaf is set=85, min_child_samples=3 will be ignored. Current value: min_data_in_leaf=85\n"
     ]
    },
    {
     "name": "stderr",
     "output_type": "stream",
     "text": [
      "D:\\Anaconda\\lib\\site-packages\\lightgbm\\basic.py:1433: UserWarning: Overriding the parameters from Reference Dataset.\n",
      "  _log_warning('Overriding the parameters from Reference Dataset.')\n",
      "D:\\Anaconda\\lib\\site-packages\\lightgbm\\basic.py:1245: UserWarning: categorical_column in param dict is overridden.\n",
      "  _log_warning('{} in param dict is overridden.'.format(cat_alias))\n"
     ]
    },
    {
     "name": "stdout",
     "output_type": "stream",
     "text": [
      "Training until validation scores don't improve for 25 rounds\n",
      "Early stopping, best iteration is:\n",
      "[4]\ttrain's auc: 0.924636\teval's auc: 0.925075\n",
      "Best iteration, split №3 = 4\n",
      "\n",
      "[LightGBM] [Warning] min_data_in_leaf is set=85, min_child_samples=3 will be ignored. Current value: min_data_in_leaf=85\n"
     ]
    },
    {
     "name": "stderr",
     "output_type": "stream",
     "text": [
      "D:\\Anaconda\\lib\\site-packages\\lightgbm\\basic.py:1433: UserWarning: Overriding the parameters from Reference Dataset.\n",
      "  _log_warning('Overriding the parameters from Reference Dataset.')\n",
      "D:\\Anaconda\\lib\\site-packages\\lightgbm\\basic.py:1245: UserWarning: categorical_column in param dict is overridden.\n",
      "  _log_warning('{} in param dict is overridden.'.format(cat_alias))\n"
     ]
    },
    {
     "name": "stdout",
     "output_type": "stream",
     "text": [
      "Training until validation scores don't improve for 25 rounds\n",
      "Early stopping, best iteration is:\n",
      "[4]\ttrain's auc: 0.924439\teval's auc: 0.924568\n",
      "Best iteration, split №4 = 4\n",
      "\n",
      "AUC: 0.9244670402646946 +\\- 0.000397356144659781\n",
      "\n",
      "[LightGBM] [Warning] min_data_in_leaf is set=69, min_child_samples=67 will be ignored. Current value: min_data_in_leaf=69\n"
     ]
    },
    {
     "name": "stderr",
     "output_type": "stream",
     "text": [
      "D:\\Anaconda\\lib\\site-packages\\lightgbm\\basic.py:1433: UserWarning: Overriding the parameters from Reference Dataset.\n",
      "  _log_warning('Overriding the parameters from Reference Dataset.')\n",
      "D:\\Anaconda\\lib\\site-packages\\lightgbm\\basic.py:1245: UserWarning: categorical_column in param dict is overridden.\n",
      "  _log_warning('{} in param dict is overridden.'.format(cat_alias))\n"
     ]
    },
    {
     "name": "stdout",
     "output_type": "stream",
     "text": [
      "Training until validation scores don't improve for 25 rounds\n",
      "Early stopping, best iteration is:\n",
      "[22]\ttrain's auc: 0.930784\teval's auc: 0.931297\n",
      "Best iteration, split №0 = 22\n",
      "\n",
      "[LightGBM] [Warning] min_data_in_leaf is set=69, min_child_samples=67 will be ignored. Current value: min_data_in_leaf=69\n"
     ]
    },
    {
     "name": "stderr",
     "output_type": "stream",
     "text": [
      "D:\\Anaconda\\lib\\site-packages\\lightgbm\\basic.py:1433: UserWarning: Overriding the parameters from Reference Dataset.\n",
      "  _log_warning('Overriding the parameters from Reference Dataset.')\n",
      "D:\\Anaconda\\lib\\site-packages\\lightgbm\\basic.py:1245: UserWarning: categorical_column in param dict is overridden.\n",
      "  _log_warning('{} in param dict is overridden.'.format(cat_alias))\n"
     ]
    },
    {
     "name": "stdout",
     "output_type": "stream",
     "text": [
      "Training until validation scores don't improve for 25 rounds\n",
      "Early stopping, best iteration is:\n",
      "[22]\ttrain's auc: 0.931067\teval's auc: 0.930634\n",
      "Best iteration, split №1 = 22\n",
      "\n",
      "[LightGBM] [Warning] min_data_in_leaf is set=69, min_child_samples=67 will be ignored. Current value: min_data_in_leaf=69\n"
     ]
    },
    {
     "name": "stderr",
     "output_type": "stream",
     "text": [
      "D:\\Anaconda\\lib\\site-packages\\lightgbm\\basic.py:1433: UserWarning: Overriding the parameters from Reference Dataset.\n",
      "  _log_warning('Overriding the parameters from Reference Dataset.')\n",
      "D:\\Anaconda\\lib\\site-packages\\lightgbm\\basic.py:1245: UserWarning: categorical_column in param dict is overridden.\n",
      "  _log_warning('{} in param dict is overridden.'.format(cat_alias))\n"
     ]
    },
    {
     "name": "stdout",
     "output_type": "stream",
     "text": [
      "Training until validation scores don't improve for 25 rounds\n",
      "Early stopping, best iteration is:\n",
      "[22]\ttrain's auc: 0.930836\teval's auc: 0.930551\n",
      "Best iteration, split №2 = 22\n",
      "\n",
      "[LightGBM] [Warning] min_data_in_leaf is set=69, min_child_samples=67 will be ignored. Current value: min_data_in_leaf=69\n"
     ]
    },
    {
     "name": "stderr",
     "output_type": "stream",
     "text": [
      "D:\\Anaconda\\lib\\site-packages\\lightgbm\\basic.py:1433: UserWarning: Overriding the parameters from Reference Dataset.\n",
      "  _log_warning('Overriding the parameters from Reference Dataset.')\n",
      "D:\\Anaconda\\lib\\site-packages\\lightgbm\\basic.py:1245: UserWarning: categorical_column in param dict is overridden.\n",
      "  _log_warning('{} in param dict is overridden.'.format(cat_alias))\n"
     ]
    },
    {
     "name": "stdout",
     "output_type": "stream",
     "text": [
      "Training until validation scores don't improve for 25 rounds\n",
      "Early stopping, best iteration is:\n",
      "[22]\ttrain's auc: 0.930964\teval's auc: 0.930959\n",
      "Best iteration, split №3 = 22\n",
      "\n",
      "[LightGBM] [Warning] min_data_in_leaf is set=69, min_child_samples=67 will be ignored. Current value: min_data_in_leaf=69\n"
     ]
    },
    {
     "name": "stderr",
     "output_type": "stream",
     "text": [
      "D:\\Anaconda\\lib\\site-packages\\lightgbm\\basic.py:1433: UserWarning: Overriding the parameters from Reference Dataset.\n",
      "  _log_warning('Overriding the parameters from Reference Dataset.')\n",
      "D:\\Anaconda\\lib\\site-packages\\lightgbm\\basic.py:1245: UserWarning: categorical_column in param dict is overridden.\n",
      "  _log_warning('{} in param dict is overridden.'.format(cat_alias))\n"
     ]
    },
    {
     "name": "stdout",
     "output_type": "stream",
     "text": [
      "Training until validation scores don't improve for 25 rounds\n",
      "Early stopping, best iteration is:\n",
      "[22]\ttrain's auc: 0.930866\teval's auc: 0.930569\n",
      "Best iteration, split №4 = 22\n",
      "\n",
      "AUC: 0.930512044302452 +\\- 0.0003432682044556579\n",
      "\n",
      "[LightGBM] [Warning] min_data_in_leaf is set=34, min_child_samples=67 will be ignored. Current value: min_data_in_leaf=34\n"
     ]
    },
    {
     "name": "stderr",
     "output_type": "stream",
     "text": [
      "D:\\Anaconda\\lib\\site-packages\\lightgbm\\basic.py:1433: UserWarning: Overriding the parameters from Reference Dataset.\n",
      "  _log_warning('Overriding the parameters from Reference Dataset.')\n",
      "D:\\Anaconda\\lib\\site-packages\\lightgbm\\basic.py:1245: UserWarning: categorical_column in param dict is overridden.\n",
      "  _log_warning('{} in param dict is overridden.'.format(cat_alias))\n"
     ]
    },
    {
     "name": "stdout",
     "output_type": "stream",
     "text": [
      "Training until validation scores don't improve for 25 rounds\n",
      "Early stopping, best iteration is:\n",
      "[48]\ttrain's auc: 0.930956\teval's auc: 0.931588\n",
      "Best iteration, split №0 = 48\n",
      "\n",
      "[LightGBM] [Warning] min_data_in_leaf is set=34, min_child_samples=67 will be ignored. Current value: min_data_in_leaf=34\n"
     ]
    },
    {
     "name": "stderr",
     "output_type": "stream",
     "text": [
      "D:\\Anaconda\\lib\\site-packages\\lightgbm\\basic.py:1433: UserWarning: Overriding the parameters from Reference Dataset.\n",
      "  _log_warning('Overriding the parameters from Reference Dataset.')\n",
      "D:\\Anaconda\\lib\\site-packages\\lightgbm\\basic.py:1245: UserWarning: categorical_column in param dict is overridden.\n",
      "  _log_warning('{} in param dict is overridden.'.format(cat_alias))\n"
     ]
    },
    {
     "name": "stdout",
     "output_type": "stream",
     "text": [
      "Training until validation scores don't improve for 25 rounds\n",
      "[100]\ttrain's auc: 0.931308\teval's auc: 0.930937\n",
      "[200]\ttrain's auc: 0.931457\teval's auc: 0.931032\n",
      "[300]\ttrain's auc: 0.931584\teval's auc: 0.931118\n",
      "[400]\ttrain's auc: 0.931715\teval's auc: 0.931181\n",
      "[500]\ttrain's auc: 0.931846\teval's auc: 0.931234\n",
      "[600]\ttrain's auc: 0.931996\teval's auc: 0.931298\n",
      "[700]\ttrain's auc: 0.932136\teval's auc: 0.931357\n",
      "[800]\ttrain's auc: 0.932271\teval's auc: 0.931405\n",
      "[900]\ttrain's auc: 0.932396\teval's auc: 0.931444\n",
      "[1000]\ttrain's auc: 0.932518\teval's auc: 0.931479\n",
      "Did not meet early stopping. Best iteration is:\n",
      "[1000]\ttrain's auc: 0.932518\teval's auc: 0.931479\n",
      "Best iteration, split №1 = 1000\n",
      "\n",
      "[LightGBM] [Warning] min_data_in_leaf is set=34, min_child_samples=67 will be ignored. Current value: min_data_in_leaf=34\n"
     ]
    },
    {
     "name": "stderr",
     "output_type": "stream",
     "text": [
      "D:\\Anaconda\\lib\\site-packages\\lightgbm\\basic.py:1433: UserWarning: Overriding the parameters from Reference Dataset.\n",
      "  _log_warning('Overriding the parameters from Reference Dataset.')\n",
      "D:\\Anaconda\\lib\\site-packages\\lightgbm\\basic.py:1245: UserWarning: categorical_column in param dict is overridden.\n",
      "  _log_warning('{} in param dict is overridden.'.format(cat_alias))\n"
     ]
    },
    {
     "name": "stdout",
     "output_type": "stream",
     "text": [
      "Training until validation scores don't improve for 25 rounds\n",
      "[100]\ttrain's auc: 0.931074\teval's auc: 0.9309\n",
      "[200]\ttrain's auc: 0.931213\teval's auc: 0.930983\n",
      "[300]\ttrain's auc: 0.931351\teval's auc: 0.931045\n",
      "[400]\ttrain's auc: 0.93148\teval's auc: 0.931117\n",
      "[500]\ttrain's auc: 0.931613\teval's auc: 0.931176\n",
      "[600]\ttrain's auc: 0.931753\teval's auc: 0.931229\n",
      "[700]\ttrain's auc: 0.931916\teval's auc: 0.931305\n",
      "[800]\ttrain's auc: 0.932049\teval's auc: 0.931354\n",
      "[900]\ttrain's auc: 0.932177\teval's auc: 0.931387\n",
      "[1000]\ttrain's auc: 0.932299\teval's auc: 0.93141\n",
      "Did not meet early stopping. Best iteration is:\n",
      "[1000]\ttrain's auc: 0.932299\teval's auc: 0.93141\n",
      "Best iteration, split №2 = 1000\n",
      "\n",
      "[LightGBM] [Warning] min_data_in_leaf is set=34, min_child_samples=67 will be ignored. Current value: min_data_in_leaf=34\n"
     ]
    },
    {
     "name": "stderr",
     "output_type": "stream",
     "text": [
      "D:\\Anaconda\\lib\\site-packages\\lightgbm\\basic.py:1433: UserWarning: Overriding the parameters from Reference Dataset.\n",
      "  _log_warning('Overriding the parameters from Reference Dataset.')\n",
      "D:\\Anaconda\\lib\\site-packages\\lightgbm\\basic.py:1245: UserWarning: categorical_column in param dict is overridden.\n",
      "  _log_warning('{} in param dict is overridden.'.format(cat_alias))\n"
     ]
    },
    {
     "name": "stdout",
     "output_type": "stream",
     "text": [
      "Training until validation scores don't improve for 25 rounds\n",
      "[100]\ttrain's auc: 0.931204\teval's auc: 0.931318\n",
      "[200]\ttrain's auc: 0.931336\teval's auc: 0.931385\n",
      "[300]\ttrain's auc: 0.931475\teval's auc: 0.93145\n",
      "[400]\ttrain's auc: 0.931609\teval's auc: 0.931509\n",
      "[500]\ttrain's auc: 0.931744\teval's auc: 0.931555\n",
      "[600]\ttrain's auc: 0.931885\teval's auc: 0.931628\n",
      "[700]\ttrain's auc: 0.932032\teval's auc: 0.931708\n",
      "[800]\ttrain's auc: 0.932162\teval's auc: 0.931751\n",
      "[900]\ttrain's auc: 0.932288\teval's auc: 0.931786\n",
      "[1000]\ttrain's auc: 0.932412\teval's auc: 0.93181\n",
      "Did not meet early stopping. Best iteration is:\n",
      "[1000]\ttrain's auc: 0.932412\teval's auc: 0.93181\n",
      "Best iteration, split №3 = 1000\n",
      "\n",
      "[LightGBM] [Warning] min_data_in_leaf is set=34, min_child_samples=67 will be ignored. Current value: min_data_in_leaf=34\n"
     ]
    },
    {
     "name": "stderr",
     "output_type": "stream",
     "text": [
      "D:\\Anaconda\\lib\\site-packages\\lightgbm\\basic.py:1433: UserWarning: Overriding the parameters from Reference Dataset.\n",
      "  _log_warning('Overriding the parameters from Reference Dataset.')\n",
      "D:\\Anaconda\\lib\\site-packages\\lightgbm\\basic.py:1245: UserWarning: categorical_column in param dict is overridden.\n",
      "  _log_warning('{} in param dict is overridden.'.format(cat_alias))\n"
     ]
    },
    {
     "name": "stdout",
     "output_type": "stream",
     "text": [
      "Training until validation scores don't improve for 25 rounds\n",
      "[100]\ttrain's auc: 0.931099\teval's auc: 0.93095\n",
      "[200]\ttrain's auc: 0.931239\teval's auc: 0.931036\n",
      "[300]\ttrain's auc: 0.931383\teval's auc: 0.931125\n",
      "[400]\ttrain's auc: 0.931509\teval's auc: 0.931193\n",
      "[500]\ttrain's auc: 0.931643\teval's auc: 0.931266\n",
      "[600]\ttrain's auc: 0.931784\teval's auc: 0.931323\n",
      "[700]\ttrain's auc: 0.931943\teval's auc: 0.93139\n",
      "[800]\ttrain's auc: 0.932076\teval's auc: 0.931433\n",
      "[900]\ttrain's auc: 0.932203\teval's auc: 0.931472\n",
      "[1000]\ttrain's auc: 0.932326\teval's auc: 0.931493\n",
      "Did not meet early stopping. Best iteration is:\n",
      "[1000]\ttrain's auc: 0.932326\teval's auc: 0.931493\n",
      "Best iteration, split №4 = 1000\n",
      "\n",
      "AUC: 0.9312986813943415 +\\- 0.0003724427628461949\n",
      "\n",
      "[LightGBM] [Warning] min_data_in_leaf is set=69, min_child_samples=24 will be ignored. Current value: min_data_in_leaf=69\n"
     ]
    },
    {
     "name": "stderr",
     "output_type": "stream",
     "text": [
      "D:\\Anaconda\\lib\\site-packages\\lightgbm\\basic.py:1433: UserWarning: Overriding the parameters from Reference Dataset.\n",
      "  _log_warning('Overriding the parameters from Reference Dataset.')\n",
      "D:\\Anaconda\\lib\\site-packages\\lightgbm\\basic.py:1245: UserWarning: categorical_column in param dict is overridden.\n",
      "  _log_warning('{} in param dict is overridden.'.format(cat_alias))\n"
     ]
    },
    {
     "name": "stdout",
     "output_type": "stream",
     "text": [
      "Training until validation scores don't improve for 25 rounds\n",
      "[100]\ttrain's auc: 0.932044\teval's auc: 0.932201\n",
      "Early stopping, best iteration is:\n",
      "[113]\ttrain's auc: 0.932067\teval's auc: 0.932209\n",
      "Best iteration, split №0 = 113\n",
      "\n",
      "[LightGBM] [Warning] min_data_in_leaf is set=69, min_child_samples=24 will be ignored. Current value: min_data_in_leaf=69\n"
     ]
    },
    {
     "name": "stderr",
     "output_type": "stream",
     "text": [
      "D:\\Anaconda\\lib\\site-packages\\lightgbm\\basic.py:1433: UserWarning: Overriding the parameters from Reference Dataset.\n",
      "  _log_warning('Overriding the parameters from Reference Dataset.')\n",
      "D:\\Anaconda\\lib\\site-packages\\lightgbm\\basic.py:1245: UserWarning: categorical_column in param dict is overridden.\n",
      "  _log_warning('{} in param dict is overridden.'.format(cat_alias))\n"
     ]
    },
    {
     "name": "stdout",
     "output_type": "stream",
     "text": [
      "Training until validation scores don't improve for 25 rounds\n",
      "[100]\ttrain's auc: 0.932357\teval's auc: 0.931516\n",
      "Early stopping, best iteration is:\n",
      "[110]\ttrain's auc: 0.932379\teval's auc: 0.93152\n",
      "Best iteration, split №1 = 110\n",
      "\n",
      "[LightGBM] [Warning] min_data_in_leaf is set=69, min_child_samples=24 will be ignored. Current value: min_data_in_leaf=69\n"
     ]
    },
    {
     "name": "stderr",
     "output_type": "stream",
     "text": [
      "D:\\Anaconda\\lib\\site-packages\\lightgbm\\basic.py:1433: UserWarning: Overriding the parameters from Reference Dataset.\n",
      "  _log_warning('Overriding the parameters from Reference Dataset.')\n",
      "D:\\Anaconda\\lib\\site-packages\\lightgbm\\basic.py:1245: UserWarning: categorical_column in param dict is overridden.\n",
      "  _log_warning('{} in param dict is overridden.'.format(cat_alias))\n"
     ]
    },
    {
     "name": "stdout",
     "output_type": "stream",
     "text": [
      "Training until validation scores don't improve for 25 rounds\n",
      "[100]\ttrain's auc: 0.932139\teval's auc: 0.931449\n",
      "Early stopping, best iteration is:\n",
      "[110]\ttrain's auc: 0.932174\teval's auc: 0.931454\n",
      "Best iteration, split №2 = 110\n",
      "\n",
      "[LightGBM] [Warning] min_data_in_leaf is set=69, min_child_samples=24 will be ignored. Current value: min_data_in_leaf=69\n"
     ]
    },
    {
     "name": "stderr",
     "output_type": "stream",
     "text": [
      "D:\\Anaconda\\lib\\site-packages\\lightgbm\\basic.py:1433: UserWarning: Overriding the parameters from Reference Dataset.\n",
      "  _log_warning('Overriding the parameters from Reference Dataset.')\n",
      "D:\\Anaconda\\lib\\site-packages\\lightgbm\\basic.py:1245: UserWarning: categorical_column in param dict is overridden.\n",
      "  _log_warning('{} in param dict is overridden.'.format(cat_alias))\n"
     ]
    },
    {
     "name": "stdout",
     "output_type": "stream",
     "text": [
      "Training until validation scores don't improve for 25 rounds\n",
      "[100]\ttrain's auc: 0.932267\teval's auc: 0.931861\n",
      "Early stopping, best iteration is:\n",
      "[134]\ttrain's auc: 0.932318\teval's auc: 0.931873\n",
      "Best iteration, split №3 = 134\n",
      "\n",
      "[LightGBM] [Warning] min_data_in_leaf is set=69, min_child_samples=24 will be ignored. Current value: min_data_in_leaf=69\n"
     ]
    },
    {
     "name": "stderr",
     "output_type": "stream",
     "text": [
      "D:\\Anaconda\\lib\\site-packages\\lightgbm\\basic.py:1433: UserWarning: Overriding the parameters from Reference Dataset.\n",
      "  _log_warning('Overriding the parameters from Reference Dataset.')\n",
      "D:\\Anaconda\\lib\\site-packages\\lightgbm\\basic.py:1245: UserWarning: categorical_column in param dict is overridden.\n",
      "  _log_warning('{} in param dict is overridden.'.format(cat_alias))\n"
     ]
    },
    {
     "name": "stdout",
     "output_type": "stream",
     "text": [
      "Training until validation scores don't improve for 25 rounds\n",
      "[100]\ttrain's auc: 0.932153\teval's auc: 0.931538\n",
      "Early stopping, best iteration is:\n",
      "[122]\ttrain's auc: 0.932191\teval's auc: 0.931547\n",
      "Best iteration, split №4 = 122\n",
      "\n",
      "AUC: 0.931466592244492 +\\- 0.00031223807156962826\n",
      "\n",
      "[LightGBM] [Warning] min_data_in_leaf is set=36, min_child_samples=58 will be ignored. Current value: min_data_in_leaf=36\n"
     ]
    },
    {
     "name": "stderr",
     "output_type": "stream",
     "text": [
      "D:\\Anaconda\\lib\\site-packages\\lightgbm\\basic.py:1433: UserWarning: Overriding the parameters from Reference Dataset.\n",
      "  _log_warning('Overriding the parameters from Reference Dataset.')\n",
      "D:\\Anaconda\\lib\\site-packages\\lightgbm\\basic.py:1245: UserWarning: categorical_column in param dict is overridden.\n",
      "  _log_warning('{} in param dict is overridden.'.format(cat_alias))\n"
     ]
    },
    {
     "name": "stdout",
     "output_type": "stream",
     "text": [
      "Training until validation scores don't improve for 25 rounds\n",
      "[100]\ttrain's auc: 0.931556\teval's auc: 0.931754\n",
      "[200]\ttrain's auc: 0.932006\teval's auc: 0.931938\n",
      "[300]\ttrain's auc: 0.932444\teval's auc: 0.932072\n",
      "[400]\ttrain's auc: 0.932876\teval's auc: 0.932153\n",
      "[500]\ttrain's auc: 0.933323\teval's auc: 0.932207\n",
      "[600]\ttrain's auc: 0.933798\teval's auc: 0.932249\n",
      "[700]\ttrain's auc: 0.934254\teval's auc: 0.932265\n",
      "Early stopping, best iteration is:\n",
      "[768]\ttrain's auc: 0.934548\teval's auc: 0.932281\n",
      "Best iteration, split №0 = 768\n",
      "\n",
      "[LightGBM] [Warning] min_data_in_leaf is set=36, min_child_samples=58 will be ignored. Current value: min_data_in_leaf=36\n"
     ]
    },
    {
     "name": "stderr",
     "output_type": "stream",
     "text": [
      "D:\\Anaconda\\lib\\site-packages\\lightgbm\\basic.py:1433: UserWarning: Overriding the parameters from Reference Dataset.\n",
      "  _log_warning('Overriding the parameters from Reference Dataset.')\n",
      "D:\\Anaconda\\lib\\site-packages\\lightgbm\\basic.py:1245: UserWarning: categorical_column in param dict is overridden.\n",
      "  _log_warning('{} in param dict is overridden.'.format(cat_alias))\n"
     ]
    },
    {
     "name": "stdout",
     "output_type": "stream",
     "text": [
      "Training until validation scores don't improve for 25 rounds\n",
      "[100]\ttrain's auc: 0.931875\teval's auc: 0.931125\n",
      "[200]\ttrain's auc: 0.932285\teval's auc: 0.931259\n",
      "[300]\ttrain's auc: 0.932746\teval's auc: 0.931376\n",
      "[400]\ttrain's auc: 0.933161\teval's auc: 0.931448\n",
      "[500]\ttrain's auc: 0.933625\teval's auc: 0.931511\n",
      "[600]\ttrain's auc: 0.934087\teval's auc: 0.931544\n",
      "Early stopping, best iteration is:\n",
      "[609]\ttrain's auc: 0.934132\teval's auc: 0.931548\n",
      "Best iteration, split №1 = 609\n",
      "\n",
      "[LightGBM] [Warning] min_data_in_leaf is set=36, min_child_samples=58 will be ignored. Current value: min_data_in_leaf=36\n"
     ]
    },
    {
     "name": "stderr",
     "output_type": "stream",
     "text": [
      "D:\\Anaconda\\lib\\site-packages\\lightgbm\\basic.py:1433: UserWarning: Overriding the parameters from Reference Dataset.\n",
      "  _log_warning('Overriding the parameters from Reference Dataset.')\n",
      "D:\\Anaconda\\lib\\site-packages\\lightgbm\\basic.py:1245: UserWarning: categorical_column in param dict is overridden.\n",
      "  _log_warning('{} in param dict is overridden.'.format(cat_alias))\n"
     ]
    },
    {
     "name": "stdout",
     "output_type": "stream",
     "text": [
      "Training until validation scores don't improve for 25 rounds\n",
      "[100]\ttrain's auc: 0.931647\teval's auc: 0.931039\n",
      "[200]\ttrain's auc: 0.932076\teval's auc: 0.931211\n",
      "[300]\ttrain's auc: 0.93253\teval's auc: 0.931342\n",
      "[400]\ttrain's auc: 0.932963\teval's auc: 0.931411\n",
      "[500]\ttrain's auc: 0.933418\teval's auc: 0.931472\n",
      "[600]\ttrain's auc: 0.93387\teval's auc: 0.931495\n",
      "[700]\ttrain's auc: 0.934322\teval's auc: 0.931514\n",
      "Early stopping, best iteration is:\n",
      "[724]\ttrain's auc: 0.934424\teval's auc: 0.931517\n",
      "Best iteration, split №2 = 724\n",
      "\n",
      "[LightGBM] [Warning] min_data_in_leaf is set=36, min_child_samples=58 will be ignored. Current value: min_data_in_leaf=36\n"
     ]
    },
    {
     "name": "stderr",
     "output_type": "stream",
     "text": [
      "D:\\Anaconda\\lib\\site-packages\\lightgbm\\basic.py:1433: UserWarning: Overriding the parameters from Reference Dataset.\n",
      "  _log_warning('Overriding the parameters from Reference Dataset.')\n",
      "D:\\Anaconda\\lib\\site-packages\\lightgbm\\basic.py:1245: UserWarning: categorical_column in param dict is overridden.\n",
      "  _log_warning('{} in param dict is overridden.'.format(cat_alias))\n"
     ]
    },
    {
     "name": "stdout",
     "output_type": "stream",
     "text": [
      "Training until validation scores don't improve for 25 rounds\n",
      "[100]\ttrain's auc: 0.931781\teval's auc: 0.931456\n",
      "[200]\ttrain's auc: 0.932211\teval's auc: 0.93159\n",
      "[300]\ttrain's auc: 0.932642\teval's auc: 0.931747\n",
      "[400]\ttrain's auc: 0.933075\teval's auc: 0.931825\n",
      "[500]\ttrain's auc: 0.933523\teval's auc: 0.931867\n",
      "[600]\ttrain's auc: 0.933992\teval's auc: 0.931903\n",
      "Early stopping, best iteration is:\n",
      "[668]\ttrain's auc: 0.934306\teval's auc: 0.93192\n",
      "Best iteration, split №3 = 668\n",
      "\n",
      "[LightGBM] [Warning] min_data_in_leaf is set=36, min_child_samples=58 will be ignored. Current value: min_data_in_leaf=36\n"
     ]
    },
    {
     "name": "stderr",
     "output_type": "stream",
     "text": [
      "D:\\Anaconda\\lib\\site-packages\\lightgbm\\basic.py:1433: UserWarning: Overriding the parameters from Reference Dataset.\n",
      "  _log_warning('Overriding the parameters from Reference Dataset.')\n",
      "D:\\Anaconda\\lib\\site-packages\\lightgbm\\basic.py:1245: UserWarning: categorical_column in param dict is overridden.\n",
      "  _log_warning('{} in param dict is overridden.'.format(cat_alias))\n"
     ]
    },
    {
     "name": "stdout",
     "output_type": "stream",
     "text": [
      "Training until validation scores don't improve for 25 rounds\n",
      "[100]\ttrain's auc: 0.931602\teval's auc: 0.931077\n",
      "[200]\ttrain's auc: 0.932081\teval's auc: 0.931285\n",
      "[300]\ttrain's auc: 0.93254\teval's auc: 0.931415\n",
      "[400]\ttrain's auc: 0.932975\teval's auc: 0.931482\n",
      "[500]\ttrain's auc: 0.933437\teval's auc: 0.931536\n",
      "[600]\ttrain's auc: 0.933904\teval's auc: 0.931558\n",
      "Early stopping, best iteration is:\n",
      "[604]\ttrain's auc: 0.933925\teval's auc: 0.931563\n",
      "Best iteration, split №4 = 604\n",
      "\n",
      "AUC: 0.9315101314493729 +\\- 0.0003020560643103856\n",
      "\n",
      "[LightGBM] [Warning] min_data_in_leaf is set=66, min_child_samples=43 will be ignored. Current value: min_data_in_leaf=66\n"
     ]
    },
    {
     "name": "stderr",
     "output_type": "stream",
     "text": [
      "D:\\Anaconda\\lib\\site-packages\\lightgbm\\basic.py:1433: UserWarning: Overriding the parameters from Reference Dataset.\n",
      "  _log_warning('Overriding the parameters from Reference Dataset.')\n",
      "D:\\Anaconda\\lib\\site-packages\\lightgbm\\basic.py:1245: UserWarning: categorical_column in param dict is overridden.\n",
      "  _log_warning('{} in param dict is overridden.'.format(cat_alias))\n"
     ]
    },
    {
     "name": "stdout",
     "output_type": "stream",
     "text": [
      "Training until validation scores don't improve for 25 rounds\n",
      "Early stopping, best iteration is:\n",
      "[42]\ttrain's auc: 0.930474\teval's auc: 0.931052\n",
      "Best iteration, split №0 = 42\n",
      "\n",
      "[LightGBM] [Warning] min_data_in_leaf is set=66, min_child_samples=43 will be ignored. Current value: min_data_in_leaf=66\n"
     ]
    },
    {
     "name": "stderr",
     "output_type": "stream",
     "text": [
      "D:\\Anaconda\\lib\\site-packages\\lightgbm\\basic.py:1433: UserWarning: Overriding the parameters from Reference Dataset.\n",
      "  _log_warning('Overriding the parameters from Reference Dataset.')\n",
      "D:\\Anaconda\\lib\\site-packages\\lightgbm\\basic.py:1245: UserWarning: categorical_column in param dict is overridden.\n",
      "  _log_warning('{} in param dict is overridden.'.format(cat_alias))\n"
     ]
    },
    {
     "name": "stdout",
     "output_type": "stream",
     "text": [
      "Training until validation scores don't improve for 25 rounds\n",
      "Early stopping, best iteration is:\n",
      "[42]\ttrain's auc: 0.930779\teval's auc: 0.930456\n",
      "Best iteration, split №1 = 42\n",
      "\n",
      "[LightGBM] [Warning] min_data_in_leaf is set=66, min_child_samples=43 will be ignored. Current value: min_data_in_leaf=66\n"
     ]
    },
    {
     "name": "stderr",
     "output_type": "stream",
     "text": [
      "D:\\Anaconda\\lib\\site-packages\\lightgbm\\basic.py:1433: UserWarning: Overriding the parameters from Reference Dataset.\n",
      "  _log_warning('Overriding the parameters from Reference Dataset.')\n",
      "D:\\Anaconda\\lib\\site-packages\\lightgbm\\basic.py:1245: UserWarning: categorical_column in param dict is overridden.\n",
      "  _log_warning('{} in param dict is overridden.'.format(cat_alias))\n"
     ]
    },
    {
     "name": "stdout",
     "output_type": "stream",
     "text": [
      "Training until validation scores don't improve for 25 rounds\n",
      "Early stopping, best iteration is:\n",
      "[42]\ttrain's auc: 0.930547\teval's auc: 0.930342\n",
      "Best iteration, split №2 = 42\n",
      "\n",
      "[LightGBM] [Warning] min_data_in_leaf is set=66, min_child_samples=43 will be ignored. Current value: min_data_in_leaf=66\n"
     ]
    },
    {
     "name": "stderr",
     "output_type": "stream",
     "text": [
      "D:\\Anaconda\\lib\\site-packages\\lightgbm\\basic.py:1433: UserWarning: Overriding the parameters from Reference Dataset.\n",
      "  _log_warning('Overriding the parameters from Reference Dataset.')\n",
      "D:\\Anaconda\\lib\\site-packages\\lightgbm\\basic.py:1245: UserWarning: categorical_column in param dict is overridden.\n",
      "  _log_warning('{} in param dict is overridden.'.format(cat_alias))\n"
     ]
    },
    {
     "name": "stdout",
     "output_type": "stream",
     "text": [
      "Training until validation scores don't improve for 25 rounds\n",
      "Early stopping, best iteration is:\n",
      "[42]\ttrain's auc: 0.93066\teval's auc: 0.930772\n",
      "Best iteration, split №3 = 42\n",
      "\n",
      "[LightGBM] [Warning] min_data_in_leaf is set=66, min_child_samples=43 will be ignored. Current value: min_data_in_leaf=66\n"
     ]
    },
    {
     "name": "stderr",
     "output_type": "stream",
     "text": [
      "D:\\Anaconda\\lib\\site-packages\\lightgbm\\basic.py:1433: UserWarning: Overriding the parameters from Reference Dataset.\n",
      "  _log_warning('Overriding the parameters from Reference Dataset.')\n",
      "D:\\Anaconda\\lib\\site-packages\\lightgbm\\basic.py:1245: UserWarning: categorical_column in param dict is overridden.\n",
      "  _log_warning('{} in param dict is overridden.'.format(cat_alias))\n"
     ]
    },
    {
     "name": "stdout",
     "output_type": "stream",
     "text": [
      "Training until validation scores don't improve for 25 rounds\n",
      "Early stopping, best iteration is:\n",
      "[42]\ttrain's auc: 0.930549\teval's auc: 0.930365\n",
      "Best iteration, split №4 = 42\n",
      "\n",
      "AUC: 0.9303109248253254 +\\- 0.0003459750091511944\n",
      "\n",
      "[LightGBM] [Warning] min_data_in_leaf is set=36, min_child_samples=17 will be ignored. Current value: min_data_in_leaf=36\n"
     ]
    },
    {
     "name": "stderr",
     "output_type": "stream",
     "text": [
      "D:\\Anaconda\\lib\\site-packages\\lightgbm\\basic.py:1433: UserWarning: Overriding the parameters from Reference Dataset.\n",
      "  _log_warning('Overriding the parameters from Reference Dataset.')\n",
      "D:\\Anaconda\\lib\\site-packages\\lightgbm\\basic.py:1245: UserWarning: categorical_column in param dict is overridden.\n",
      "  _log_warning('{} in param dict is overridden.'.format(cat_alias))\n"
     ]
    },
    {
     "name": "stdout",
     "output_type": "stream",
     "text": [
      "Training until validation scores don't improve for 25 rounds\n",
      "Early stopping, best iteration is:\n",
      "[2]\ttrain's auc: 0.929592\teval's auc: 0.930161\n",
      "Best iteration, split №0 = 2\n",
      "\n",
      "[LightGBM] [Warning] min_data_in_leaf is set=36, min_child_samples=17 will be ignored. Current value: min_data_in_leaf=36\n"
     ]
    },
    {
     "name": "stderr",
     "output_type": "stream",
     "text": [
      "D:\\Anaconda\\lib\\site-packages\\lightgbm\\basic.py:1433: UserWarning: Overriding the parameters from Reference Dataset.\n",
      "  _log_warning('Overriding the parameters from Reference Dataset.')\n",
      "D:\\Anaconda\\lib\\site-packages\\lightgbm\\basic.py:1245: UserWarning: categorical_column in param dict is overridden.\n",
      "  _log_warning('{} in param dict is overridden.'.format(cat_alias))\n"
     ]
    },
    {
     "name": "stdout",
     "output_type": "stream",
     "text": [
      "Training until validation scores don't improve for 25 rounds\n",
      "Early stopping, best iteration is:\n",
      "[2]\ttrain's auc: 0.93002\teval's auc: 0.929641\n",
      "Best iteration, split №1 = 2\n",
      "\n",
      "[LightGBM] [Warning] min_data_in_leaf is set=36, min_child_samples=17 will be ignored. Current value: min_data_in_leaf=36\n"
     ]
    },
    {
     "name": "stderr",
     "output_type": "stream",
     "text": [
      "D:\\Anaconda\\lib\\site-packages\\lightgbm\\basic.py:1433: UserWarning: Overriding the parameters from Reference Dataset.\n",
      "  _log_warning('Overriding the parameters from Reference Dataset.')\n",
      "D:\\Anaconda\\lib\\site-packages\\lightgbm\\basic.py:1245: UserWarning: categorical_column in param dict is overridden.\n",
      "  _log_warning('{} in param dict is overridden.'.format(cat_alias))\n"
     ]
    },
    {
     "name": "stdout",
     "output_type": "stream",
     "text": [
      "Training until validation scores don't improve for 25 rounds\n",
      "Early stopping, best iteration is:\n",
      "[2]\ttrain's auc: 0.929871\teval's auc: 0.929717\n",
      "Best iteration, split №2 = 2\n",
      "\n",
      "[LightGBM] [Warning] min_data_in_leaf is set=36, min_child_samples=17 will be ignored. Current value: min_data_in_leaf=36\n"
     ]
    },
    {
     "name": "stderr",
     "output_type": "stream",
     "text": [
      "D:\\Anaconda\\lib\\site-packages\\lightgbm\\basic.py:1433: UserWarning: Overriding the parameters from Reference Dataset.\n",
      "  _log_warning('Overriding the parameters from Reference Dataset.')\n",
      "D:\\Anaconda\\lib\\site-packages\\lightgbm\\basic.py:1245: UserWarning: categorical_column in param dict is overridden.\n",
      "  _log_warning('{} in param dict is overridden.'.format(cat_alias))\n"
     ]
    },
    {
     "name": "stdout",
     "output_type": "stream",
     "text": [
      "Training until validation scores don't improve for 25 rounds\n",
      "Early stopping, best iteration is:\n",
      "[2]\ttrain's auc: 0.930036\teval's auc: 0.930025\n",
      "Best iteration, split №3 = 2\n",
      "\n",
      "[LightGBM] [Warning] min_data_in_leaf is set=36, min_child_samples=17 will be ignored. Current value: min_data_in_leaf=36\n"
     ]
    },
    {
     "name": "stderr",
     "output_type": "stream",
     "text": [
      "D:\\Anaconda\\lib\\site-packages\\lightgbm\\basic.py:1433: UserWarning: Overriding the parameters from Reference Dataset.\n",
      "  _log_warning('Overriding the parameters from Reference Dataset.')\n",
      "D:\\Anaconda\\lib\\site-packages\\lightgbm\\basic.py:1245: UserWarning: categorical_column in param dict is overridden.\n",
      "  _log_warning('{} in param dict is overridden.'.format(cat_alias))\n"
     ]
    },
    {
     "name": "stdout",
     "output_type": "stream",
     "text": [
      "Training until validation scores don't improve for 25 rounds\n",
      "Early stopping, best iteration is:\n",
      "[2]\ttrain's auc: 0.929892\teval's auc: 0.92973\n",
      "Best iteration, split №4 = 2\n",
      "\n",
      "AUC: 0.9295949874334793 +\\- 0.00046212955187105345\n",
      "\n",
      "[LightGBM] [Warning] min_data_in_leaf is set=61, min_child_samples=82 will be ignored. Current value: min_data_in_leaf=61\n"
     ]
    },
    {
     "name": "stderr",
     "output_type": "stream",
     "text": [
      "D:\\Anaconda\\lib\\site-packages\\lightgbm\\basic.py:1433: UserWarning: Overriding the parameters from Reference Dataset.\n",
      "  _log_warning('Overriding the parameters from Reference Dataset.')\n",
      "D:\\Anaconda\\lib\\site-packages\\lightgbm\\basic.py:1245: UserWarning: categorical_column in param dict is overridden.\n",
      "  _log_warning('{} in param dict is overridden.'.format(cat_alias))\n"
     ]
    },
    {
     "name": "stdout",
     "output_type": "stream",
     "text": [
      "Training until validation scores don't improve for 25 rounds\n",
      "Early stopping, best iteration is:\n",
      "[12]\ttrain's auc: 0.931203\teval's auc: 0.931625\n",
      "Best iteration, split №0 = 12\n",
      "\n",
      "[LightGBM] [Warning] min_data_in_leaf is set=61, min_child_samples=82 will be ignored. Current value: min_data_in_leaf=61\n"
     ]
    },
    {
     "name": "stderr",
     "output_type": "stream",
     "text": [
      "D:\\Anaconda\\lib\\site-packages\\lightgbm\\basic.py:1433: UserWarning: Overriding the parameters from Reference Dataset.\n",
      "  _log_warning('Overriding the parameters from Reference Dataset.')\n",
      "D:\\Anaconda\\lib\\site-packages\\lightgbm\\basic.py:1245: UserWarning: categorical_column in param dict is overridden.\n",
      "  _log_warning('{} in param dict is overridden.'.format(cat_alias))\n"
     ]
    },
    {
     "name": "stdout",
     "output_type": "stream",
     "text": [
      "Training until validation scores don't improve for 25 rounds\n",
      "Early stopping, best iteration is:\n",
      "[39]\ttrain's auc: 0.931518\teval's auc: 0.930838\n",
      "Best iteration, split №1 = 39\n",
      "\n",
      "[LightGBM] [Warning] min_data_in_leaf is set=61, min_child_samples=82 will be ignored. Current value: min_data_in_leaf=61\n"
     ]
    },
    {
     "name": "stderr",
     "output_type": "stream",
     "text": [
      "D:\\Anaconda\\lib\\site-packages\\lightgbm\\basic.py:1433: UserWarning: Overriding the parameters from Reference Dataset.\n",
      "  _log_warning('Overriding the parameters from Reference Dataset.')\n",
      "D:\\Anaconda\\lib\\site-packages\\lightgbm\\basic.py:1245: UserWarning: categorical_column in param dict is overridden.\n",
      "  _log_warning('{} in param dict is overridden.'.format(cat_alias))\n"
     ]
    },
    {
     "name": "stdout",
     "output_type": "stream",
     "text": [
      "Training until validation scores don't improve for 25 rounds\n",
      "Early stopping, best iteration is:\n",
      "[16]\ttrain's auc: 0.931342\teval's auc: 0.930762\n",
      "Best iteration, split №2 = 16\n",
      "\n",
      "[LightGBM] [Warning] min_data_in_leaf is set=61, min_child_samples=82 will be ignored. Current value: min_data_in_leaf=61\n"
     ]
    },
    {
     "name": "stderr",
     "output_type": "stream",
     "text": [
      "D:\\Anaconda\\lib\\site-packages\\lightgbm\\basic.py:1433: UserWarning: Overriding the parameters from Reference Dataset.\n",
      "  _log_warning('Overriding the parameters from Reference Dataset.')\n",
      "D:\\Anaconda\\lib\\site-packages\\lightgbm\\basic.py:1245: UserWarning: categorical_column in param dict is overridden.\n",
      "  _log_warning('{} in param dict is overridden.'.format(cat_alias))\n"
     ]
    },
    {
     "name": "stdout",
     "output_type": "stream",
     "text": [
      "Training until validation scores don't improve for 25 rounds\n",
      "Early stopping, best iteration is:\n",
      "[14]\ttrain's auc: 0.931455\teval's auc: 0.93128\n",
      "Best iteration, split №3 = 14\n",
      "\n",
      "[LightGBM] [Warning] min_data_in_leaf is set=61, min_child_samples=82 will be ignored. Current value: min_data_in_leaf=61\n"
     ]
    },
    {
     "name": "stderr",
     "output_type": "stream",
     "text": [
      "D:\\Anaconda\\lib\\site-packages\\lightgbm\\basic.py:1433: UserWarning: Overriding the parameters from Reference Dataset.\n",
      "  _log_warning('Overriding the parameters from Reference Dataset.')\n",
      "D:\\Anaconda\\lib\\site-packages\\lightgbm\\basic.py:1245: UserWarning: categorical_column in param dict is overridden.\n",
      "  _log_warning('{} in param dict is overridden.'.format(cat_alias))\n"
     ]
    },
    {
     "name": "stdout",
     "output_type": "stream",
     "text": [
      "Training until validation scores don't improve for 25 rounds\n",
      "Early stopping, best iteration is:\n",
      "[10]\ttrain's auc: 0.931297\teval's auc: 0.930875\n",
      "Best iteration, split №4 = 10\n",
      "\n",
      "AUC: 0.9308014459083651 +\\- 0.0002865287937654948\n",
      "\n",
      "[LightGBM] [Warning] min_data_in_leaf is set=81, min_child_samples=56 will be ignored. Current value: min_data_in_leaf=81\n"
     ]
    },
    {
     "name": "stderr",
     "output_type": "stream",
     "text": [
      "D:\\Anaconda\\lib\\site-packages\\lightgbm\\basic.py:1433: UserWarning: Overriding the parameters from Reference Dataset.\n",
      "  _log_warning('Overriding the parameters from Reference Dataset.')\n",
      "D:\\Anaconda\\lib\\site-packages\\lightgbm\\basic.py:1245: UserWarning: categorical_column in param dict is overridden.\n",
      "  _log_warning('{} in param dict is overridden.'.format(cat_alias))\n"
     ]
    },
    {
     "name": "stdout",
     "output_type": "stream",
     "text": [
      "Training until validation scores don't improve for 25 rounds\n",
      "[100]\ttrain's auc: 0.930185\teval's auc: 0.931016\n",
      "[200]\ttrain's auc: 0.930325\teval's auc: 0.931161\n",
      "[300]\ttrain's auc: 0.930415\teval's auc: 0.93123\n",
      "[400]\ttrain's auc: 0.930482\teval's auc: 0.931287\n",
      "[500]\ttrain's auc: 0.930542\teval's auc: 0.931344\n",
      "[600]\ttrain's auc: 0.930608\teval's auc: 0.931401\n",
      "[700]\ttrain's auc: 0.930715\teval's auc: 0.93149\n",
      "[800]\ttrain's auc: 0.930781\teval's auc: 0.931546\n",
      "[900]\ttrain's auc: 0.930851\teval's auc: 0.931604\n",
      "[1000]\ttrain's auc: 0.930905\teval's auc: 0.931652\n",
      "Did not meet early stopping. Best iteration is:\n",
      "[1000]\ttrain's auc: 0.930905\teval's auc: 0.931652\n",
      "Best iteration, split №0 = 1000\n",
      "\n",
      "[LightGBM] [Warning] min_data_in_leaf is set=81, min_child_samples=56 will be ignored. Current value: min_data_in_leaf=81\n"
     ]
    },
    {
     "name": "stderr",
     "output_type": "stream",
     "text": [
      "D:\\Anaconda\\lib\\site-packages\\lightgbm\\basic.py:1433: UserWarning: Overriding the parameters from Reference Dataset.\n",
      "  _log_warning('Overriding the parameters from Reference Dataset.')\n",
      "D:\\Anaconda\\lib\\site-packages\\lightgbm\\basic.py:1245: UserWarning: categorical_column in param dict is overridden.\n",
      "  _log_warning('{} in param dict is overridden.'.format(cat_alias))\n"
     ]
    },
    {
     "name": "stdout",
     "output_type": "stream",
     "text": [
      "Training until validation scores don't improve for 25 rounds\n",
      "[100]\ttrain's auc: 0.930545\teval's auc: 0.930411\n",
      "Early stopping, best iteration is:\n",
      "[97]\ttrain's auc: 0.930538\teval's auc: 0.930424\n",
      "Best iteration, split №1 = 97\n",
      "\n",
      "[LightGBM] [Warning] min_data_in_leaf is set=81, min_child_samples=56 will be ignored. Current value: min_data_in_leaf=81\n"
     ]
    },
    {
     "name": "stderr",
     "output_type": "stream",
     "text": [
      "D:\\Anaconda\\lib\\site-packages\\lightgbm\\basic.py:1433: UserWarning: Overriding the parameters from Reference Dataset.\n",
      "  _log_warning('Overriding the parameters from Reference Dataset.')\n",
      "D:\\Anaconda\\lib\\site-packages\\lightgbm\\basic.py:1245: UserWarning: categorical_column in param dict is overridden.\n",
      "  _log_warning('{} in param dict is overridden.'.format(cat_alias))\n"
     ]
    },
    {
     "name": "stdout",
     "output_type": "stream",
     "text": [
      "Training until validation scores don't improve for 25 rounds\n",
      "[100]\ttrain's auc: 0.930253\teval's auc: 0.930281\n",
      "[200]\ttrain's auc: 0.930372\teval's auc: 0.930439\n",
      "[300]\ttrain's auc: 0.930465\teval's auc: 0.930516\n",
      "[400]\ttrain's auc: 0.930536\teval's auc: 0.930583\n",
      "[500]\ttrain's auc: 0.930612\teval's auc: 0.930657\n",
      "[600]\ttrain's auc: 0.930674\teval's auc: 0.930707\n",
      "[700]\ttrain's auc: 0.930775\teval's auc: 0.93079\n",
      "[800]\ttrain's auc: 0.930849\teval's auc: 0.930846\n",
      "[900]\ttrain's auc: 0.930909\teval's auc: 0.930896\n",
      "[1000]\ttrain's auc: 0.930971\teval's auc: 0.930945\n",
      "Did not meet early stopping. Best iteration is:\n",
      "[1000]\ttrain's auc: 0.930971\teval's auc: 0.930945\n",
      "Best iteration, split №2 = 1000\n",
      "\n",
      "[LightGBM] [Warning] min_data_in_leaf is set=81, min_child_samples=56 will be ignored. Current value: min_data_in_leaf=81\n"
     ]
    },
    {
     "name": "stderr",
     "output_type": "stream",
     "text": [
      "D:\\Anaconda\\lib\\site-packages\\lightgbm\\basic.py:1433: UserWarning: Overriding the parameters from Reference Dataset.\n",
      "  _log_warning('Overriding the parameters from Reference Dataset.')\n",
      "D:\\Anaconda\\lib\\site-packages\\lightgbm\\basic.py:1245: UserWarning: categorical_column in param dict is overridden.\n",
      "  _log_warning('{} in param dict is overridden.'.format(cat_alias))\n"
     ]
    },
    {
     "name": "stdout",
     "output_type": "stream",
     "text": [
      "Training until validation scores don't improve for 25 rounds\n",
      "[100]\ttrain's auc: 0.930366\teval's auc: 0.930716\n",
      "[200]\ttrain's auc: 0.930507\teval's auc: 0.930825\n",
      "[300]\ttrain's auc: 0.93059\teval's auc: 0.930928\n",
      "[400]\ttrain's auc: 0.930668\teval's auc: 0.931001\n",
      "[500]\ttrain's auc: 0.930743\teval's auc: 0.931065\n",
      "[600]\ttrain's auc: 0.93081\teval's auc: 0.931118\n",
      "[700]\ttrain's auc: 0.930892\teval's auc: 0.931176\n",
      "Early stopping, best iteration is:\n",
      "[741]\ttrain's auc: 0.930922\teval's auc: 0.931214\n",
      "Best iteration, split №3 = 741\n",
      "\n",
      "[LightGBM] [Warning] min_data_in_leaf is set=81, min_child_samples=56 will be ignored. Current value: min_data_in_leaf=81\n"
     ]
    },
    {
     "name": "stderr",
     "output_type": "stream",
     "text": [
      "D:\\Anaconda\\lib\\site-packages\\lightgbm\\basic.py:1433: UserWarning: Overriding the parameters from Reference Dataset.\n",
      "  _log_warning('Overriding the parameters from Reference Dataset.')\n",
      "D:\\Anaconda\\lib\\site-packages\\lightgbm\\basic.py:1245: UserWarning: categorical_column in param dict is overridden.\n",
      "  _log_warning('{} in param dict is overridden.'.format(cat_alias))\n"
     ]
    },
    {
     "name": "stdout",
     "output_type": "stream",
     "text": [
      "Training until validation scores don't improve for 25 rounds\n",
      "[100]\ttrain's auc: 0.930253\teval's auc: 0.930387\n",
      "Early stopping, best iteration is:\n",
      "[135]\ttrain's auc: 0.9303\teval's auc: 0.930456\n",
      "Best iteration, split №4 = 135\n",
      "\n",
      "AUC: 0.9306464340989846 +\\- 0.0004981525625841779\n",
      "\n",
      "[LightGBM] [Warning] min_data_in_leaf is set=45, min_child_samples=39 will be ignored. Current value: min_data_in_leaf=45\n"
     ]
    },
    {
     "name": "stderr",
     "output_type": "stream",
     "text": [
      "D:\\Anaconda\\lib\\site-packages\\lightgbm\\basic.py:1433: UserWarning: Overriding the parameters from Reference Dataset.\n",
      "  _log_warning('Overriding the parameters from Reference Dataset.')\n",
      "D:\\Anaconda\\lib\\site-packages\\lightgbm\\basic.py:1245: UserWarning: categorical_column in param dict is overridden.\n",
      "  _log_warning('{} in param dict is overridden.'.format(cat_alias))\n"
     ]
    },
    {
     "name": "stdout",
     "output_type": "stream",
     "text": [
      "Training until validation scores don't improve for 25 rounds\n",
      "[100]\ttrain's auc: 0.932563\teval's auc: 0.932179\n",
      "Early stopping, best iteration is:\n",
      "[151]\ttrain's auc: 0.932742\teval's auc: 0.932217\n",
      "Best iteration, split №0 = 151\n",
      "\n",
      "[LightGBM] [Warning] min_data_in_leaf is set=45, min_child_samples=39 will be ignored. Current value: min_data_in_leaf=45\n"
     ]
    },
    {
     "name": "stderr",
     "output_type": "stream",
     "text": [
      "D:\\Anaconda\\lib\\site-packages\\lightgbm\\basic.py:1433: UserWarning: Overriding the parameters from Reference Dataset.\n",
      "  _log_warning('Overriding the parameters from Reference Dataset.')\n",
      "D:\\Anaconda\\lib\\site-packages\\lightgbm\\basic.py:1245: UserWarning: categorical_column in param dict is overridden.\n",
      "  _log_warning('{} in param dict is overridden.'.format(cat_alias))\n"
     ]
    },
    {
     "name": "stdout",
     "output_type": "stream",
     "text": [
      "Training until validation scores don't improve for 25 rounds\n",
      "[100]\ttrain's auc: 0.932857\teval's auc: 0.931455\n",
      "Early stopping, best iteration is:\n",
      "[149]\ttrain's auc: 0.933008\teval's auc: 0.931464\n",
      "Best iteration, split №1 = 149\n",
      "\n",
      "[LightGBM] [Warning] min_data_in_leaf is set=45, min_child_samples=39 will be ignored. Current value: min_data_in_leaf=45\n"
     ]
    },
    {
     "name": "stderr",
     "output_type": "stream",
     "text": [
      "D:\\Anaconda\\lib\\site-packages\\lightgbm\\basic.py:1433: UserWarning: Overriding the parameters from Reference Dataset.\n",
      "  _log_warning('Overriding the parameters from Reference Dataset.')\n",
      "D:\\Anaconda\\lib\\site-packages\\lightgbm\\basic.py:1245: UserWarning: categorical_column in param dict is overridden.\n",
      "  _log_warning('{} in param dict is overridden.'.format(cat_alias))\n"
     ]
    },
    {
     "name": "stdout",
     "output_type": "stream",
     "text": [
      "Training until validation scores don't improve for 25 rounds\n",
      "[100]\ttrain's auc: 0.932598\teval's auc: 0.931374\n",
      "Early stopping, best iteration is:\n",
      "[146]\ttrain's auc: 0.932826\teval's auc: 0.931402\n",
      "Best iteration, split №2 = 146\n",
      "\n",
      "[LightGBM] [Warning] min_data_in_leaf is set=45, min_child_samples=39 will be ignored. Current value: min_data_in_leaf=45\n"
     ]
    },
    {
     "name": "stderr",
     "output_type": "stream",
     "text": [
      "D:\\Anaconda\\lib\\site-packages\\lightgbm\\basic.py:1433: UserWarning: Overriding the parameters from Reference Dataset.\n",
      "  _log_warning('Overriding the parameters from Reference Dataset.')\n",
      "D:\\Anaconda\\lib\\site-packages\\lightgbm\\basic.py:1245: UserWarning: categorical_column in param dict is overridden.\n",
      "  _log_warning('{} in param dict is overridden.'.format(cat_alias))\n"
     ]
    },
    {
     "name": "stdout",
     "output_type": "stream",
     "text": [
      "Training until validation scores don't improve for 25 rounds\n",
      "[100]\ttrain's auc: 0.932821\teval's auc: 0.931826\n",
      "Early stopping, best iteration is:\n",
      "[141]\ttrain's auc: 0.932971\teval's auc: 0.93185\n",
      "Best iteration, split №3 = 141\n",
      "\n",
      "[LightGBM] [Warning] min_data_in_leaf is set=45, min_child_samples=39 will be ignored. Current value: min_data_in_leaf=45\n"
     ]
    },
    {
     "name": "stderr",
     "output_type": "stream",
     "text": [
      "D:\\Anaconda\\lib\\site-packages\\lightgbm\\basic.py:1433: UserWarning: Overriding the parameters from Reference Dataset.\n",
      "  _log_warning('Overriding the parameters from Reference Dataset.')\n",
      "D:\\Anaconda\\lib\\site-packages\\lightgbm\\basic.py:1245: UserWarning: categorical_column in param dict is overridden.\n",
      "  _log_warning('{} in param dict is overridden.'.format(cat_alias))\n"
     ]
    },
    {
     "name": "stdout",
     "output_type": "stream",
     "text": [
      "Training until validation scores don't improve for 25 rounds\n",
      "[100]\ttrain's auc: 0.932729\teval's auc: 0.931508\n",
      "Early stopping, best iteration is:\n",
      "[131]\ttrain's auc: 0.932838\teval's auc: 0.93153\n",
      "Best iteration, split №4 = 131\n",
      "\n",
      "AUC: 0.9314524356206706 +\\- 0.00029512337530044247\n",
      "\n",
      "[LightGBM] [Warning] min_data_in_leaf is set=100, min_child_samples=33 will be ignored. Current value: min_data_in_leaf=100\n"
     ]
    },
    {
     "name": "stderr",
     "output_type": "stream",
     "text": [
      "D:\\Anaconda\\lib\\site-packages\\lightgbm\\basic.py:1433: UserWarning: Overriding the parameters from Reference Dataset.\n",
      "  _log_warning('Overriding the parameters from Reference Dataset.')\n",
      "D:\\Anaconda\\lib\\site-packages\\lightgbm\\basic.py:1245: UserWarning: categorical_column in param dict is overridden.\n",
      "  _log_warning('{} in param dict is overridden.'.format(cat_alias))\n"
     ]
    },
    {
     "name": "stdout",
     "output_type": "stream",
     "text": [
      "Training until validation scores don't improve for 25 rounds\n",
      "[100]\ttrain's auc: 0.931255\teval's auc: 0.931805\n",
      "[200]\ttrain's auc: 0.931727\teval's auc: 0.932055\n",
      "[300]\ttrain's auc: 0.932131\teval's auc: 0.932185\n",
      "[400]\ttrain's auc: 0.932489\teval's auc: 0.932254\n",
      "[500]\ttrain's auc: 0.932833\teval's auc: 0.932304\n",
      "[600]\ttrain's auc: 0.93314\teval's auc: 0.932328\n",
      "[700]\ttrain's auc: 0.93343\teval's auc: 0.932338\n",
      "Early stopping, best iteration is:\n",
      "[706]\ttrain's auc: 0.933447\teval's auc: 0.932342\n",
      "Best iteration, split №0 = 706\n",
      "\n",
      "[LightGBM] [Warning] min_data_in_leaf is set=100, min_child_samples=33 will be ignored. Current value: min_data_in_leaf=100\n"
     ]
    },
    {
     "name": "stderr",
     "output_type": "stream",
     "text": [
      "D:\\Anaconda\\lib\\site-packages\\lightgbm\\basic.py:1433: UserWarning: Overriding the parameters from Reference Dataset.\n",
      "  _log_warning('Overriding the parameters from Reference Dataset.')\n",
      "D:\\Anaconda\\lib\\site-packages\\lightgbm\\basic.py:1245: UserWarning: categorical_column in param dict is overridden.\n",
      "  _log_warning('{} in param dict is overridden.'.format(cat_alias))\n"
     ]
    },
    {
     "name": "stdout",
     "output_type": "stream",
     "text": [
      "Training until validation scores don't improve for 25 rounds\n",
      "[100]\ttrain's auc: 0.93157\teval's auc: 0.931132\n",
      "[200]\ttrain's auc: 0.932034\teval's auc: 0.931371\n",
      "[300]\ttrain's auc: 0.932447\teval's auc: 0.93149\n",
      "[400]\ttrain's auc: 0.932809\teval's auc: 0.931556\n",
      "[500]\ttrain's auc: 0.933143\teval's auc: 0.931588\n",
      "Early stopping, best iteration is:\n",
      "[564]\ttrain's auc: 0.933339\teval's auc: 0.931603\n",
      "Best iteration, split №1 = 564\n",
      "\n",
      "[LightGBM] [Warning] min_data_in_leaf is set=100, min_child_samples=33 will be ignored. Current value: min_data_in_leaf=100\n"
     ]
    },
    {
     "name": "stderr",
     "output_type": "stream",
     "text": [
      "D:\\Anaconda\\lib\\site-packages\\lightgbm\\basic.py:1433: UserWarning: Overriding the parameters from Reference Dataset.\n",
      "  _log_warning('Overriding the parameters from Reference Dataset.')\n",
      "D:\\Anaconda\\lib\\site-packages\\lightgbm\\basic.py:1245: UserWarning: categorical_column in param dict is overridden.\n",
      "  _log_warning('{} in param dict is overridden.'.format(cat_alias))\n"
     ]
    },
    {
     "name": "stdout",
     "output_type": "stream",
     "text": [
      "Training until validation scores don't improve for 25 rounds\n",
      "[100]\ttrain's auc: 0.931322\teval's auc: 0.931119\n",
      "[200]\ttrain's auc: 0.931807\teval's auc: 0.931338\n",
      "[300]\ttrain's auc: 0.932228\teval's auc: 0.931454\n",
      "[400]\ttrain's auc: 0.932592\teval's auc: 0.931515\n",
      "[500]\ttrain's auc: 0.932923\teval's auc: 0.931543\n",
      "Early stopping, best iteration is:\n",
      "[533]\ttrain's auc: 0.93303\teval's auc: 0.93155\n",
      "Best iteration, split №2 = 533\n",
      "\n",
      "[LightGBM] [Warning] min_data_in_leaf is set=100, min_child_samples=33 will be ignored. Current value: min_data_in_leaf=100\n"
     ]
    },
    {
     "name": "stderr",
     "output_type": "stream",
     "text": [
      "D:\\Anaconda\\lib\\site-packages\\lightgbm\\basic.py:1433: UserWarning: Overriding the parameters from Reference Dataset.\n",
      "  _log_warning('Overriding the parameters from Reference Dataset.')\n",
      "D:\\Anaconda\\lib\\site-packages\\lightgbm\\basic.py:1245: UserWarning: categorical_column in param dict is overridden.\n",
      "  _log_warning('{} in param dict is overridden.'.format(cat_alias))\n"
     ]
    },
    {
     "name": "stdout",
     "output_type": "stream",
     "text": [
      "Training until validation scores don't improve for 25 rounds\n",
      "[100]\ttrain's auc: 0.931451\teval's auc: 0.931487\n",
      "[200]\ttrain's auc: 0.931937\teval's auc: 0.931737\n",
      "[300]\ttrain's auc: 0.932354\teval's auc: 0.931857\n",
      "[400]\ttrain's auc: 0.932714\teval's auc: 0.931927\n",
      "[500]\ttrain's auc: 0.933055\teval's auc: 0.93196\n",
      "[600]\ttrain's auc: 0.93336\teval's auc: 0.931978\n",
      "[700]\ttrain's auc: 0.933647\teval's auc: 0.931987\n",
      "Early stopping, best iteration is:\n",
      "[691]\ttrain's auc: 0.933623\teval's auc: 0.931989\n",
      "Best iteration, split №3 = 691\n",
      "\n",
      "[LightGBM] [Warning] min_data_in_leaf is set=100, min_child_samples=33 will be ignored. Current value: min_data_in_leaf=100\n"
     ]
    },
    {
     "name": "stderr",
     "output_type": "stream",
     "text": [
      "D:\\Anaconda\\lib\\site-packages\\lightgbm\\basic.py:1433: UserWarning: Overriding the parameters from Reference Dataset.\n",
      "  _log_warning('Overriding the parameters from Reference Dataset.')\n",
      "D:\\Anaconda\\lib\\site-packages\\lightgbm\\basic.py:1245: UserWarning: categorical_column in param dict is overridden.\n",
      "  _log_warning('{} in param dict is overridden.'.format(cat_alias))\n"
     ]
    },
    {
     "name": "stdout",
     "output_type": "stream",
     "text": [
      "Training until validation scores don't improve for 25 rounds\n",
      "[100]\ttrain's auc: 0.931357\teval's auc: 0.931131\n",
      "[200]\ttrain's auc: 0.931841\teval's auc: 0.931371\n",
      "[300]\ttrain's auc: 0.932255\teval's auc: 0.931489\n",
      "[400]\ttrain's auc: 0.932616\teval's auc: 0.931549\n",
      "Early stopping, best iteration is:\n",
      "[461]\ttrain's auc: 0.932821\teval's auc: 0.931572\n",
      "Best iteration, split №4 = 461\n",
      "\n",
      "AUC: 0.9315389963780019 +\\- 0.0002994373639530234\n",
      "\n",
      "[LightGBM] [Warning] min_data_in_leaf is set=94, min_child_samples=35 will be ignored. Current value: min_data_in_leaf=94\n"
     ]
    },
    {
     "name": "stderr",
     "output_type": "stream",
     "text": [
      "D:\\Anaconda\\lib\\site-packages\\lightgbm\\basic.py:1433: UserWarning: Overriding the parameters from Reference Dataset.\n",
      "  _log_warning('Overriding the parameters from Reference Dataset.')\n",
      "D:\\Anaconda\\lib\\site-packages\\lightgbm\\basic.py:1245: UserWarning: categorical_column in param dict is overridden.\n",
      "  _log_warning('{} in param dict is overridden.'.format(cat_alias))\n"
     ]
    },
    {
     "name": "stdout",
     "output_type": "stream",
     "text": [
      "Training until validation scores don't improve for 25 rounds\n",
      "[100]\ttrain's auc: 0.931251\teval's auc: 0.931778\n",
      "[200]\ttrain's auc: 0.931701\teval's auc: 0.932021\n",
      "[300]\ttrain's auc: 0.932092\teval's auc: 0.932165\n",
      "[400]\ttrain's auc: 0.932443\teval's auc: 0.932249\n",
      "[500]\ttrain's auc: 0.932763\teval's auc: 0.932293\n",
      "[600]\ttrain's auc: 0.933045\teval's auc: 0.932315\n",
      "Early stopping, best iteration is:\n",
      "[612]\ttrain's auc: 0.933079\teval's auc: 0.932319\n",
      "Best iteration, split №0 = 612\n",
      "\n",
      "[LightGBM] [Warning] min_data_in_leaf is set=94, min_child_samples=35 will be ignored. Current value: min_data_in_leaf=94\n"
     ]
    },
    {
     "name": "stderr",
     "output_type": "stream",
     "text": [
      "D:\\Anaconda\\lib\\site-packages\\lightgbm\\basic.py:1433: UserWarning: Overriding the parameters from Reference Dataset.\n",
      "  _log_warning('Overriding the parameters from Reference Dataset.')\n",
      "D:\\Anaconda\\lib\\site-packages\\lightgbm\\basic.py:1245: UserWarning: categorical_column in param dict is overridden.\n",
      "  _log_warning('{} in param dict is overridden.'.format(cat_alias))\n"
     ]
    },
    {
     "name": "stdout",
     "output_type": "stream",
     "text": [
      "Training until validation scores don't improve for 25 rounds\n",
      "[100]\ttrain's auc: 0.931547\teval's auc: 0.93113\n",
      "[200]\ttrain's auc: 0.931987\teval's auc: 0.93135\n",
      "[300]\ttrain's auc: 0.932392\teval's auc: 0.931473\n",
      "[400]\ttrain's auc: 0.93274\teval's auc: 0.931544\n",
      "[500]\ttrain's auc: 0.933057\teval's auc: 0.931587\n",
      "[600]\ttrain's auc: 0.933335\teval's auc: 0.93161\n",
      "Early stopping, best iteration is:\n",
      "[658]\ttrain's auc: 0.933496\teval's auc: 0.931621\n",
      "Best iteration, split №1 = 658\n",
      "\n",
      "[LightGBM] [Warning] min_data_in_leaf is set=94, min_child_samples=35 will be ignored. Current value: min_data_in_leaf=94\n"
     ]
    },
    {
     "name": "stderr",
     "output_type": "stream",
     "text": [
      "D:\\Anaconda\\lib\\site-packages\\lightgbm\\basic.py:1433: UserWarning: Overriding the parameters from Reference Dataset.\n",
      "  _log_warning('Overriding the parameters from Reference Dataset.')\n",
      "D:\\Anaconda\\lib\\site-packages\\lightgbm\\basic.py:1245: UserWarning: categorical_column in param dict is overridden.\n",
      "  _log_warning('{} in param dict is overridden.'.format(cat_alias))\n"
     ]
    },
    {
     "name": "stdout",
     "output_type": "stream",
     "text": [
      "Training until validation scores don't improve for 25 rounds\n",
      "[100]\ttrain's auc: 0.931311\teval's auc: 0.931079\n",
      "[200]\ttrain's auc: 0.931779\teval's auc: 0.931325\n",
      "[300]\ttrain's auc: 0.93218\teval's auc: 0.931439\n",
      "[400]\ttrain's auc: 0.932524\teval's auc: 0.931492\n",
      "[500]\ttrain's auc: 0.932831\teval's auc: 0.93152\n",
      "[600]\ttrain's auc: 0.933127\teval's auc: 0.931537\n",
      "Early stopping, best iteration is:\n",
      "[626]\ttrain's auc: 0.933194\teval's auc: 0.931539\n",
      "Best iteration, split №2 = 626\n",
      "\n",
      "[LightGBM] [Warning] min_data_in_leaf is set=94, min_child_samples=35 will be ignored. Current value: min_data_in_leaf=94\n"
     ]
    },
    {
     "name": "stderr",
     "output_type": "stream",
     "text": [
      "D:\\Anaconda\\lib\\site-packages\\lightgbm\\basic.py:1433: UserWarning: Overriding the parameters from Reference Dataset.\n",
      "  _log_warning('Overriding the parameters from Reference Dataset.')\n",
      "D:\\Anaconda\\lib\\site-packages\\lightgbm\\basic.py:1245: UserWarning: categorical_column in param dict is overridden.\n",
      "  _log_warning('{} in param dict is overridden.'.format(cat_alias))\n"
     ]
    },
    {
     "name": "stdout",
     "output_type": "stream",
     "text": [
      "Training until validation scores don't improve for 25 rounds\n",
      "[100]\ttrain's auc: 0.931443\teval's auc: 0.931482\n",
      "[200]\ttrain's auc: 0.931897\teval's auc: 0.9317\n",
      "[300]\ttrain's auc: 0.932298\teval's auc: 0.93183\n",
      "[400]\ttrain's auc: 0.932649\teval's auc: 0.931898\n",
      "[500]\ttrain's auc: 0.93297\teval's auc: 0.931935\n",
      "Early stopping, best iteration is:\n",
      "[526]\ttrain's auc: 0.933047\teval's auc: 0.931949\n",
      "Best iteration, split №3 = 526\n",
      "\n",
      "[LightGBM] [Warning] min_data_in_leaf is set=94, min_child_samples=35 will be ignored. Current value: min_data_in_leaf=94\n"
     ]
    },
    {
     "name": "stderr",
     "output_type": "stream",
     "text": [
      "D:\\Anaconda\\lib\\site-packages\\lightgbm\\basic.py:1433: UserWarning: Overriding the parameters from Reference Dataset.\n",
      "  _log_warning('Overriding the parameters from Reference Dataset.')\n",
      "D:\\Anaconda\\lib\\site-packages\\lightgbm\\basic.py:1245: UserWarning: categorical_column in param dict is overridden.\n",
      "  _log_warning('{} in param dict is overridden.'.format(cat_alias))\n"
     ]
    },
    {
     "name": "stdout",
     "output_type": "stream",
     "text": [
      "Training until validation scores don't improve for 25 rounds\n",
      "[100]\ttrain's auc: 0.931344\teval's auc: 0.931099\n",
      "[200]\ttrain's auc: 0.931806\teval's auc: 0.931349\n",
      "[300]\ttrain's auc: 0.932207\teval's auc: 0.931466\n",
      "[400]\ttrain's auc: 0.932563\teval's auc: 0.931533\n",
      "[500]\ttrain's auc: 0.93288\teval's auc: 0.931565\n",
      "Early stopping, best iteration is:\n",
      "[515]\ttrain's auc: 0.932923\teval's auc: 0.931569\n",
      "Best iteration, split №4 = 515\n",
      "\n",
      "AUC: 0.9315426653908322 +\\- 0.0003107549595163912\n",
      "\n",
      "[LightGBM] [Warning] min_data_in_leaf is set=100, min_child_samples=32 will be ignored. Current value: min_data_in_leaf=100\n"
     ]
    },
    {
     "name": "stderr",
     "output_type": "stream",
     "text": [
      "D:\\Anaconda\\lib\\site-packages\\lightgbm\\basic.py:1433: UserWarning: Overriding the parameters from Reference Dataset.\n",
      "  _log_warning('Overriding the parameters from Reference Dataset.')\n",
      "D:\\Anaconda\\lib\\site-packages\\lightgbm\\basic.py:1245: UserWarning: categorical_column in param dict is overridden.\n",
      "  _log_warning('{} in param dict is overridden.'.format(cat_alias))\n"
     ]
    },
    {
     "name": "stdout",
     "output_type": "stream",
     "text": [
      "Training until validation scores don't improve for 25 rounds\n",
      "[100]\ttrain's auc: 0.931539\teval's auc: 0.931959\n",
      "[200]\ttrain's auc: 0.932202\teval's auc: 0.932203\n",
      "[300]\ttrain's auc: 0.932762\teval's auc: 0.932285\n",
      "Early stopping, best iteration is:\n",
      "[320]\ttrain's auc: 0.932862\teval's auc: 0.932303\n",
      "Best iteration, split №0 = 320\n",
      "\n",
      "[LightGBM] [Warning] min_data_in_leaf is set=100, min_child_samples=32 will be ignored. Current value: min_data_in_leaf=100\n"
     ]
    },
    {
     "name": "stderr",
     "output_type": "stream",
     "text": [
      "D:\\Anaconda\\lib\\site-packages\\lightgbm\\basic.py:1433: UserWarning: Overriding the parameters from Reference Dataset.\n",
      "  _log_warning('Overriding the parameters from Reference Dataset.')\n",
      "D:\\Anaconda\\lib\\site-packages\\lightgbm\\basic.py:1245: UserWarning: categorical_column in param dict is overridden.\n",
      "  _log_warning('{} in param dict is overridden.'.format(cat_alias))\n"
     ]
    },
    {
     "name": "stdout",
     "output_type": "stream",
     "text": [
      "Training until validation scores don't improve for 25 rounds\n",
      "[100]\ttrain's auc: 0.931847\teval's auc: 0.931282\n",
      "[200]\ttrain's auc: 0.932507\teval's auc: 0.931492\n",
      "[300]\ttrain's auc: 0.933073\teval's auc: 0.931555\n",
      "[400]\ttrain's auc: 0.933548\teval's auc: 0.931574\n",
      "Early stopping, best iteration is:\n",
      "[377]\ttrain's auc: 0.933448\teval's auc: 0.93158\n",
      "Best iteration, split №1 = 377\n",
      "\n",
      "[LightGBM] [Warning] min_data_in_leaf is set=100, min_child_samples=32 will be ignored. Current value: min_data_in_leaf=100\n"
     ]
    },
    {
     "name": "stderr",
     "output_type": "stream",
     "text": [
      "D:\\Anaconda\\lib\\site-packages\\lightgbm\\basic.py:1433: UserWarning: Overriding the parameters from Reference Dataset.\n",
      "  _log_warning('Overriding the parameters from Reference Dataset.')\n",
      "D:\\Anaconda\\lib\\site-packages\\lightgbm\\basic.py:1245: UserWarning: categorical_column in param dict is overridden.\n",
      "  _log_warning('{} in param dict is overridden.'.format(cat_alias))\n"
     ]
    },
    {
     "name": "stdout",
     "output_type": "stream",
     "text": [
      "Training until validation scores don't improve for 25 rounds\n",
      "[100]\ttrain's auc: 0.931633\teval's auc: 0.93126\n",
      "[200]\ttrain's auc: 0.932307\teval's auc: 0.93146\n",
      "[300]\ttrain's auc: 0.932856\teval's auc: 0.931512\n",
      "Early stopping, best iteration is:\n",
      "[346]\ttrain's auc: 0.933089\teval's auc: 0.931531\n",
      "Best iteration, split №2 = 346\n",
      "\n",
      "[LightGBM] [Warning] min_data_in_leaf is set=100, min_child_samples=32 will be ignored. Current value: min_data_in_leaf=100\n"
     ]
    },
    {
     "name": "stderr",
     "output_type": "stream",
     "text": [
      "D:\\Anaconda\\lib\\site-packages\\lightgbm\\basic.py:1433: UserWarning: Overriding the parameters from Reference Dataset.\n",
      "  _log_warning('Overriding the parameters from Reference Dataset.')\n",
      "D:\\Anaconda\\lib\\site-packages\\lightgbm\\basic.py:1245: UserWarning: categorical_column in param dict is overridden.\n",
      "  _log_warning('{} in param dict is overridden.'.format(cat_alias))\n"
     ]
    },
    {
     "name": "stdout",
     "output_type": "stream",
     "text": [
      "Training until validation scores don't improve for 25 rounds\n",
      "[100]\ttrain's auc: 0.931749\teval's auc: 0.931618\n",
      "[200]\ttrain's auc: 0.932435\teval's auc: 0.931867\n",
      "[300]\ttrain's auc: 0.932989\teval's auc: 0.931932\n",
      "Early stopping, best iteration is:\n",
      "[300]\ttrain's auc: 0.932989\teval's auc: 0.931932\n",
      "Best iteration, split №3 = 300\n",
      "\n",
      "[LightGBM] [Warning] min_data_in_leaf is set=100, min_child_samples=32 will be ignored. Current value: min_data_in_leaf=100\n"
     ]
    },
    {
     "name": "stderr",
     "output_type": "stream",
     "text": [
      "D:\\Anaconda\\lib\\site-packages\\lightgbm\\basic.py:1433: UserWarning: Overriding the parameters from Reference Dataset.\n",
      "  _log_warning('Overriding the parameters from Reference Dataset.')\n",
      "D:\\Anaconda\\lib\\site-packages\\lightgbm\\basic.py:1245: UserWarning: categorical_column in param dict is overridden.\n",
      "  _log_warning('{} in param dict is overridden.'.format(cat_alias))\n"
     ]
    },
    {
     "name": "stdout",
     "output_type": "stream",
     "text": [
      "Training until validation scores don't improve for 25 rounds\n",
      "[100]\ttrain's auc: 0.931655\teval's auc: 0.931288\n",
      "[200]\ttrain's auc: 0.932332\teval's auc: 0.931502\n",
      "[300]\ttrain's auc: 0.932886\teval's auc: 0.93156\n",
      "Early stopping, best iteration is:\n",
      "[304]\ttrain's auc: 0.932907\teval's auc: 0.931562\n",
      "Best iteration, split №4 = 304\n",
      "\n",
      "AUC: 0.9315189487015179 +\\- 0.00029830249510798057\n",
      "\n",
      "[LightGBM] [Warning] min_data_in_leaf is set=100, min_child_samples=19 will be ignored. Current value: min_data_in_leaf=100\n"
     ]
    },
    {
     "name": "stderr",
     "output_type": "stream",
     "text": [
      "D:\\Anaconda\\lib\\site-packages\\lightgbm\\basic.py:1433: UserWarning: Overriding the parameters from Reference Dataset.\n",
      "  _log_warning('Overriding the parameters from Reference Dataset.')\n",
      "D:\\Anaconda\\lib\\site-packages\\lightgbm\\basic.py:1245: UserWarning: categorical_column in param dict is overridden.\n",
      "  _log_warning('{} in param dict is overridden.'.format(cat_alias))\n"
     ]
    },
    {
     "name": "stdout",
     "output_type": "stream",
     "text": [
      "Training until validation scores don't improve for 25 rounds\n",
      "Early stopping, best iteration is:\n",
      "[32]\ttrain's auc: 0.929715\teval's auc: 0.930592\n",
      "Best iteration, split №0 = 32\n",
      "\n",
      "[LightGBM] [Warning] min_data_in_leaf is set=100, min_child_samples=19 will be ignored. Current value: min_data_in_leaf=100\n"
     ]
    },
    {
     "name": "stderr",
     "output_type": "stream",
     "text": [
      "D:\\Anaconda\\lib\\site-packages\\lightgbm\\basic.py:1433: UserWarning: Overriding the parameters from Reference Dataset.\n",
      "  _log_warning('Overriding the parameters from Reference Dataset.')\n",
      "D:\\Anaconda\\lib\\site-packages\\lightgbm\\basic.py:1245: UserWarning: categorical_column in param dict is overridden.\n",
      "  _log_warning('{} in param dict is overridden.'.format(cat_alias))\n"
     ]
    },
    {
     "name": "stdout",
     "output_type": "stream",
     "text": [
      "Training until validation scores don't improve for 25 rounds\n",
      "[100]\ttrain's auc: 0.930517\teval's auc: 0.930349\n",
      "[200]\ttrain's auc: 0.93119\teval's auc: 0.930905\n",
      "[300]\ttrain's auc: 0.931591\teval's auc: 0.93118\n",
      "[400]\ttrain's auc: 0.93186\teval's auc: 0.931346\n",
      "[500]\ttrain's auc: 0.932033\teval's auc: 0.931418\n",
      "[600]\ttrain's auc: 0.932145\teval's auc: 0.931444\n",
      "Early stopping, best iteration is:\n",
      "[659]\ttrain's auc: 0.932199\teval's auc: 0.931463\n",
      "Best iteration, split №1 = 659\n",
      "\n",
      "[LightGBM] [Warning] min_data_in_leaf is set=100, min_child_samples=19 will be ignored. Current value: min_data_in_leaf=100\n"
     ]
    },
    {
     "name": "stderr",
     "output_type": "stream",
     "text": [
      "D:\\Anaconda\\lib\\site-packages\\lightgbm\\basic.py:1433: UserWarning: Overriding the parameters from Reference Dataset.\n",
      "  _log_warning('Overriding the parameters from Reference Dataset.')\n",
      "D:\\Anaconda\\lib\\site-packages\\lightgbm\\basic.py:1245: UserWarning: categorical_column in param dict is overridden.\n",
      "  _log_warning('{} in param dict is overridden.'.format(cat_alias))\n"
     ]
    },
    {
     "name": "stdout",
     "output_type": "stream",
     "text": [
      "Training until validation scores don't improve for 25 rounds\n",
      "[100]\ttrain's auc: 0.930297\teval's auc: 0.930271\n",
      "[200]\ttrain's auc: 0.930965\teval's auc: 0.930841\n",
      "[300]\ttrain's auc: 0.931371\teval's auc: 0.93115\n",
      "[400]\ttrain's auc: 0.931643\teval's auc: 0.931278\n",
      "[500]\ttrain's auc: 0.931819\teval's auc: 0.931334\n",
      "[600]\ttrain's auc: 0.931929\teval's auc: 0.93136\n",
      "[700]\ttrain's auc: 0.932009\teval's auc: 0.931379\n",
      "Early stopping, best iteration is:\n",
      "[747]\ttrain's auc: 0.932029\teval's auc: 0.931385\n",
      "Best iteration, split №2 = 747\n",
      "\n",
      "[LightGBM] [Warning] min_data_in_leaf is set=100, min_child_samples=19 will be ignored. Current value: min_data_in_leaf=100\n"
     ]
    },
    {
     "name": "stderr",
     "output_type": "stream",
     "text": [
      "D:\\Anaconda\\lib\\site-packages\\lightgbm\\basic.py:1433: UserWarning: Overriding the parameters from Reference Dataset.\n",
      "  _log_warning('Overriding the parameters from Reference Dataset.')\n",
      "D:\\Anaconda\\lib\\site-packages\\lightgbm\\basic.py:1245: UserWarning: categorical_column in param dict is overridden.\n",
      "  _log_warning('{} in param dict is overridden.'.format(cat_alias))\n"
     ]
    },
    {
     "name": "stdout",
     "output_type": "stream",
     "text": [
      "Training until validation scores don't improve for 25 rounds\n",
      "Early stopping, best iteration is:\n",
      "[32]\ttrain's auc: 0.929896\teval's auc: 0.930219\n",
      "Best iteration, split №3 = 32\n",
      "\n",
      "[LightGBM] [Warning] min_data_in_leaf is set=100, min_child_samples=19 will be ignored. Current value: min_data_in_leaf=100\n"
     ]
    },
    {
     "name": "stderr",
     "output_type": "stream",
     "text": [
      "D:\\Anaconda\\lib\\site-packages\\lightgbm\\basic.py:1433: UserWarning: Overriding the parameters from Reference Dataset.\n",
      "  _log_warning('Overriding the parameters from Reference Dataset.')\n",
      "D:\\Anaconda\\lib\\site-packages\\lightgbm\\basic.py:1245: UserWarning: categorical_column in param dict is overridden.\n",
      "  _log_warning('{} in param dict is overridden.'.format(cat_alias))\n"
     ]
    },
    {
     "name": "stdout",
     "output_type": "stream",
     "text": [
      "Training until validation scores don't improve for 25 rounds\n",
      "[100]\ttrain's auc: 0.93033\teval's auc: 0.930293\n",
      "[200]\ttrain's auc: 0.930985\teval's auc: 0.93086\n",
      "[300]\ttrain's auc: 0.931393\teval's auc: 0.931179\n",
      "[400]\ttrain's auc: 0.931669\teval's auc: 0.931339\n",
      "[500]\ttrain's auc: 0.931849\teval's auc: 0.931411\n",
      "[600]\ttrain's auc: 0.931963\teval's auc: 0.931447\n",
      "[700]\ttrain's auc: 0.932047\teval's auc: 0.931464\n",
      "Early stopping, best iteration is:\n",
      "[734]\ttrain's auc: 0.932067\teval's auc: 0.931474\n",
      "Best iteration, split №4 = 734\n",
      "\n",
      "AUC: 0.9307346230560402 +\\- 0.000984275364252874\n",
      "\n",
      "[LightGBM] [Warning] min_data_in_leaf is set=80, min_child_samples=34 will be ignored. Current value: min_data_in_leaf=80\n"
     ]
    },
    {
     "name": "stderr",
     "output_type": "stream",
     "text": [
      "D:\\Anaconda\\lib\\site-packages\\lightgbm\\basic.py:1433: UserWarning: Overriding the parameters from Reference Dataset.\n",
      "  _log_warning('Overriding the parameters from Reference Dataset.')\n",
      "D:\\Anaconda\\lib\\site-packages\\lightgbm\\basic.py:1245: UserWarning: categorical_column in param dict is overridden.\n",
      "  _log_warning('{} in param dict is overridden.'.format(cat_alias))\n"
     ]
    },
    {
     "name": "stdout",
     "output_type": "stream",
     "text": [
      "Training until validation scores don't improve for 25 rounds\n",
      "Early stopping, best iteration is:\n",
      "[57]\ttrain's auc: 0.932904\teval's auc: 0.932066\n",
      "Best iteration, split №0 = 57\n",
      "\n",
      "[LightGBM] [Warning] min_data_in_leaf is set=80, min_child_samples=34 will be ignored. Current value: min_data_in_leaf=80\n"
     ]
    },
    {
     "name": "stderr",
     "output_type": "stream",
     "text": [
      "D:\\Anaconda\\lib\\site-packages\\lightgbm\\basic.py:1433: UserWarning: Overriding the parameters from Reference Dataset.\n",
      "  _log_warning('Overriding the parameters from Reference Dataset.')\n",
      "D:\\Anaconda\\lib\\site-packages\\lightgbm\\basic.py:1245: UserWarning: categorical_column in param dict is overridden.\n",
      "  _log_warning('{} in param dict is overridden.'.format(cat_alias))\n"
     ]
    },
    {
     "name": "stdout",
     "output_type": "stream",
     "text": [
      "Training until validation scores don't improve for 25 rounds\n",
      "Early stopping, best iteration is:\n",
      "[35]\ttrain's auc: 0.932477\teval's auc: 0.93133\n",
      "Best iteration, split №1 = 35\n",
      "\n",
      "[LightGBM] [Warning] min_data_in_leaf is set=80, min_child_samples=34 will be ignored. Current value: min_data_in_leaf=80\n"
     ]
    },
    {
     "name": "stderr",
     "output_type": "stream",
     "text": [
      "D:\\Anaconda\\lib\\site-packages\\lightgbm\\basic.py:1433: UserWarning: Overriding the parameters from Reference Dataset.\n",
      "  _log_warning('Overriding the parameters from Reference Dataset.')\n",
      "D:\\Anaconda\\lib\\site-packages\\lightgbm\\basic.py:1245: UserWarning: categorical_column in param dict is overridden.\n",
      "  _log_warning('{} in param dict is overridden.'.format(cat_alias))\n"
     ]
    },
    {
     "name": "stdout",
     "output_type": "stream",
     "text": [
      "Training until validation scores don't improve for 25 rounds\n",
      "Early stopping, best iteration is:\n",
      "[43]\ttrain's auc: 0.932514\teval's auc: 0.931284\n",
      "Best iteration, split №2 = 43\n",
      "\n",
      "[LightGBM] [Warning] min_data_in_leaf is set=80, min_child_samples=34 will be ignored. Current value: min_data_in_leaf=80\n"
     ]
    },
    {
     "name": "stderr",
     "output_type": "stream",
     "text": [
      "D:\\Anaconda\\lib\\site-packages\\lightgbm\\basic.py:1433: UserWarning: Overriding the parameters from Reference Dataset.\n",
      "  _log_warning('Overriding the parameters from Reference Dataset.')\n",
      "D:\\Anaconda\\lib\\site-packages\\lightgbm\\basic.py:1245: UserWarning: categorical_column in param dict is overridden.\n",
      "  _log_warning('{} in param dict is overridden.'.format(cat_alias))\n"
     ]
    },
    {
     "name": "stdout",
     "output_type": "stream",
     "text": [
      "Training until validation scores don't improve for 25 rounds\n",
      "Early stopping, best iteration is:\n",
      "[40]\ttrain's auc: 0.932599\teval's auc: 0.931683\n",
      "Best iteration, split №3 = 40\n",
      "\n",
      "[LightGBM] [Warning] min_data_in_leaf is set=80, min_child_samples=34 will be ignored. Current value: min_data_in_leaf=80\n"
     ]
    },
    {
     "name": "stderr",
     "output_type": "stream",
     "text": [
      "D:\\Anaconda\\lib\\site-packages\\lightgbm\\basic.py:1433: UserWarning: Overriding the parameters from Reference Dataset.\n",
      "  _log_warning('Overriding the parameters from Reference Dataset.')\n",
      "D:\\Anaconda\\lib\\site-packages\\lightgbm\\basic.py:1245: UserWarning: categorical_column in param dict is overridden.\n",
      "  _log_warning('{} in param dict is overridden.'.format(cat_alias))\n"
     ]
    },
    {
     "name": "stdout",
     "output_type": "stream",
     "text": [
      "Training until validation scores don't improve for 25 rounds\n",
      "Early stopping, best iteration is:\n",
      "[45]\ttrain's auc: 0.932638\teval's auc: 0.931334\n",
      "Best iteration, split №4 = 45\n",
      "\n",
      "AUC: 0.9312783938465218 +\\- 0.0002949988469454928\n",
      "\n",
      "[LightGBM] [Warning] min_data_in_leaf is set=90, min_child_samples=8 will be ignored. Current value: min_data_in_leaf=90\n"
     ]
    },
    {
     "name": "stderr",
     "output_type": "stream",
     "text": [
      "D:\\Anaconda\\lib\\site-packages\\lightgbm\\basic.py:1433: UserWarning: Overriding the parameters from Reference Dataset.\n",
      "  _log_warning('Overriding the parameters from Reference Dataset.')\n",
      "D:\\Anaconda\\lib\\site-packages\\lightgbm\\basic.py:1245: UserWarning: categorical_column in param dict is overridden.\n",
      "  _log_warning('{} in param dict is overridden.'.format(cat_alias))\n"
     ]
    },
    {
     "name": "stdout",
     "output_type": "stream",
     "text": [
      "Training until validation scores don't improve for 25 rounds\n",
      "[100]\ttrain's auc: 0.931326\teval's auc: 0.931884\n",
      "[200]\ttrain's auc: 0.93152\teval's auc: 0.932012\n",
      "Early stopping, best iteration is:\n",
      "[262]\ttrain's auc: 0.931582\teval's auc: 0.932038\n",
      "Best iteration, split №0 = 262\n",
      "\n",
      "[LightGBM] [Warning] min_data_in_leaf is set=90, min_child_samples=8 will be ignored. Current value: min_data_in_leaf=90\n"
     ]
    },
    {
     "name": "stderr",
     "output_type": "stream",
     "text": [
      "D:\\Anaconda\\lib\\site-packages\\lightgbm\\basic.py:1433: UserWarning: Overriding the parameters from Reference Dataset.\n",
      "  _log_warning('Overriding the parameters from Reference Dataset.')\n",
      "D:\\Anaconda\\lib\\site-packages\\lightgbm\\basic.py:1245: UserWarning: categorical_column in param dict is overridden.\n",
      "  _log_warning('{} in param dict is overridden.'.format(cat_alias))\n"
     ]
    },
    {
     "name": "stdout",
     "output_type": "stream",
     "text": [
      "Training until validation scores don't improve for 25 rounds\n",
      "[100]\ttrain's auc: 0.931649\teval's auc: 0.931278\n",
      "[200]\ttrain's auc: 0.931871\teval's auc: 0.93137\n",
      "Early stopping, best iteration is:\n",
      "[187]\ttrain's auc: 0.931862\teval's auc: 0.931374\n",
      "Best iteration, split №1 = 187\n",
      "\n",
      "[LightGBM] [Warning] min_data_in_leaf is set=90, min_child_samples=8 will be ignored. Current value: min_data_in_leaf=90\n"
     ]
    },
    {
     "name": "stderr",
     "output_type": "stream",
     "text": [
      "D:\\Anaconda\\lib\\site-packages\\lightgbm\\basic.py:1433: UserWarning: Overriding the parameters from Reference Dataset.\n",
      "  _log_warning('Overriding the parameters from Reference Dataset.')\n",
      "D:\\Anaconda\\lib\\site-packages\\lightgbm\\basic.py:1245: UserWarning: categorical_column in param dict is overridden.\n",
      "  _log_warning('{} in param dict is overridden.'.format(cat_alias))\n"
     ]
    },
    {
     "name": "stdout",
     "output_type": "stream",
     "text": [
      "Training until validation scores don't improve for 25 rounds\n",
      "[100]\ttrain's auc: 0.931445\teval's auc: 0.931217\n",
      "[200]\ttrain's auc: 0.931672\teval's auc: 0.931338\n",
      "Early stopping, best iteration is:\n",
      "[203]\ttrain's auc: 0.931674\teval's auc: 0.931341\n",
      "Best iteration, split №2 = 203\n",
      "\n",
      "[LightGBM] [Warning] min_data_in_leaf is set=90, min_child_samples=8 will be ignored. Current value: min_data_in_leaf=90\n"
     ]
    },
    {
     "name": "stderr",
     "output_type": "stream",
     "text": [
      "D:\\Anaconda\\lib\\site-packages\\lightgbm\\basic.py:1433: UserWarning: Overriding the parameters from Reference Dataset.\n",
      "  _log_warning('Overriding the parameters from Reference Dataset.')\n",
      "D:\\Anaconda\\lib\\site-packages\\lightgbm\\basic.py:1245: UserWarning: categorical_column in param dict is overridden.\n",
      "  _log_warning('{} in param dict is overridden.'.format(cat_alias))\n"
     ]
    },
    {
     "name": "stdout",
     "output_type": "stream",
     "text": [
      "Training until validation scores don't improve for 25 rounds\n",
      "[100]\ttrain's auc: 0.931526\teval's auc: 0.931553\n",
      "[200]\ttrain's auc: 0.93179\teval's auc: 0.931685\n",
      "Early stopping, best iteration is:\n",
      "[226]\ttrain's auc: 0.93181\teval's auc: 0.931695\n",
      "Best iteration, split №3 = 226\n",
      "\n",
      "[LightGBM] [Warning] min_data_in_leaf is set=90, min_child_samples=8 will be ignored. Current value: min_data_in_leaf=90\n"
     ]
    },
    {
     "name": "stderr",
     "output_type": "stream",
     "text": [
      "D:\\Anaconda\\lib\\site-packages\\lightgbm\\basic.py:1433: UserWarning: Overriding the parameters from Reference Dataset.\n",
      "  _log_warning('Overriding the parameters from Reference Dataset.')\n",
      "D:\\Anaconda\\lib\\site-packages\\lightgbm\\basic.py:1245: UserWarning: categorical_column in param dict is overridden.\n",
      "  _log_warning('{} in param dict is overridden.'.format(cat_alias))\n"
     ]
    },
    {
     "name": "stdout",
     "output_type": "stream",
     "text": [
      "Training until validation scores don't improve for 25 rounds\n",
      "[100]\ttrain's auc: 0.931435\teval's auc: 0.93124\n",
      "[200]\ttrain's auc: 0.931658\teval's auc: 0.931358\n",
      "Early stopping, best iteration is:\n",
      "[235]\ttrain's auc: 0.931694\teval's auc: 0.931373\n",
      "Best iteration, split №4 = 235\n",
      "\n",
      "AUC: 0.9313013628223926 +\\- 0.00031977656828557666\n",
      "\n",
      "[LightGBM] [Warning] min_data_in_leaf is set=76, min_child_samples=50 will be ignored. Current value: min_data_in_leaf=76\n"
     ]
    },
    {
     "name": "stderr",
     "output_type": "stream",
     "text": [
      "D:\\Anaconda\\lib\\site-packages\\lightgbm\\basic.py:1433: UserWarning: Overriding the parameters from Reference Dataset.\n",
      "  _log_warning('Overriding the parameters from Reference Dataset.')\n",
      "D:\\Anaconda\\lib\\site-packages\\lightgbm\\basic.py:1245: UserWarning: categorical_column in param dict is overridden.\n",
      "  _log_warning('{} in param dict is overridden.'.format(cat_alias))\n"
     ]
    },
    {
     "name": "stdout",
     "output_type": "stream",
     "text": [
      "Training until validation scores don't improve for 25 rounds\n",
      "[100]\ttrain's auc: 0.93109\teval's auc: 0.931676\n",
      "[200]\ttrain's auc: 0.931554\teval's auc: 0.931966\n",
      "[300]\ttrain's auc: 0.931935\teval's auc: 0.932116\n",
      "[400]\ttrain's auc: 0.932257\teval's auc: 0.932185\n",
      "[500]\ttrain's auc: 0.932519\teval's auc: 0.932232\n",
      "[600]\ttrain's auc: 0.932591\teval's auc: 0.932245\n",
      "Early stopping, best iteration is:\n",
      "[642]\ttrain's auc: 0.932596\teval's auc: 0.932246\n",
      "Best iteration, split №0 = 642\n",
      "\n",
      "[LightGBM] [Warning] min_data_in_leaf is set=76, min_child_samples=50 will be ignored. Current value: min_data_in_leaf=76\n"
     ]
    },
    {
     "name": "stderr",
     "output_type": "stream",
     "text": [
      "D:\\Anaconda\\lib\\site-packages\\lightgbm\\basic.py:1433: UserWarning: Overriding the parameters from Reference Dataset.\n",
      "  _log_warning('Overriding the parameters from Reference Dataset.')\n",
      "D:\\Anaconda\\lib\\site-packages\\lightgbm\\basic.py:1245: UserWarning: categorical_column in param dict is overridden.\n",
      "  _log_warning('{} in param dict is overridden.'.format(cat_alias))\n"
     ]
    },
    {
     "name": "stdout",
     "output_type": "stream",
     "text": [
      "Training until validation scores don't improve for 25 rounds\n",
      "[100]\ttrain's auc: 0.931391\teval's auc: 0.931005\n",
      "[200]\ttrain's auc: 0.931864\teval's auc: 0.931279\n",
      "[300]\ttrain's auc: 0.932234\teval's auc: 0.931417\n",
      "[400]\ttrain's auc: 0.932558\teval's auc: 0.931491\n",
      "[500]\ttrain's auc: 0.932821\teval's auc: 0.931531\n",
      "Early stopping, best iteration is:\n",
      "[511]\ttrain's auc: 0.932842\teval's auc: 0.931535\n",
      "Best iteration, split №1 = 511\n",
      "\n",
      "[LightGBM] [Warning] min_data_in_leaf is set=76, min_child_samples=50 will be ignored. Current value: min_data_in_leaf=76\n"
     ]
    },
    {
     "name": "stderr",
     "output_type": "stream",
     "text": [
      "D:\\Anaconda\\lib\\site-packages\\lightgbm\\basic.py:1433: UserWarning: Overriding the parameters from Reference Dataset.\n",
      "  _log_warning('Overriding the parameters from Reference Dataset.')\n",
      "D:\\Anaconda\\lib\\site-packages\\lightgbm\\basic.py:1245: UserWarning: categorical_column in param dict is overridden.\n",
      "  _log_warning('{} in param dict is overridden.'.format(cat_alias))\n"
     ]
    },
    {
     "name": "stdout",
     "output_type": "stream",
     "text": [
      "Training until validation scores don't improve for 25 rounds\n",
      "[100]\ttrain's auc: 0.931172\teval's auc: 0.930965\n",
      "[200]\ttrain's auc: 0.931648\teval's auc: 0.931251\n",
      "[300]\ttrain's auc: 0.932028\teval's auc: 0.931379\n",
      "[400]\ttrain's auc: 0.932352\teval's auc: 0.931433\n",
      "[500]\ttrain's auc: 0.932631\teval's auc: 0.931471\n",
      "[600]\ttrain's auc: 0.932751\teval's auc: 0.931483\n",
      "Early stopping, best iteration is:\n",
      "[589]\ttrain's auc: 0.932746\teval's auc: 0.931484\n",
      "Best iteration, split №2 = 589\n",
      "\n",
      "[LightGBM] [Warning] min_data_in_leaf is set=76, min_child_samples=50 will be ignored. Current value: min_data_in_leaf=76\n"
     ]
    },
    {
     "name": "stderr",
     "output_type": "stream",
     "text": [
      "D:\\Anaconda\\lib\\site-packages\\lightgbm\\basic.py:1433: UserWarning: Overriding the parameters from Reference Dataset.\n",
      "  _log_warning('Overriding the parameters from Reference Dataset.')\n",
      "D:\\Anaconda\\lib\\site-packages\\lightgbm\\basic.py:1245: UserWarning: categorical_column in param dict is overridden.\n",
      "  _log_warning('{} in param dict is overridden.'.format(cat_alias))\n"
     ]
    },
    {
     "name": "stdout",
     "output_type": "stream",
     "text": [
      "Training until validation scores don't improve for 25 rounds\n",
      "[100]\ttrain's auc: 0.931283\teval's auc: 0.931345\n",
      "[200]\ttrain's auc: 0.931766\teval's auc: 0.931635\n",
      "[300]\ttrain's auc: 0.932146\teval's auc: 0.931787\n",
      "[400]\ttrain's auc: 0.932479\teval's auc: 0.931862\n",
      "[500]\ttrain's auc: 0.932777\teval's auc: 0.931895\n",
      "[600]\ttrain's auc: 0.932923\teval's auc: 0.931907\n",
      "Early stopping, best iteration is:\n",
      "[607]\ttrain's auc: 0.932925\teval's auc: 0.931908\n",
      "Best iteration, split №3 = 607\n",
      "\n",
      "[LightGBM] [Warning] min_data_in_leaf is set=76, min_child_samples=50 will be ignored. Current value: min_data_in_leaf=76\n"
     ]
    },
    {
     "name": "stderr",
     "output_type": "stream",
     "text": [
      "D:\\Anaconda\\lib\\site-packages\\lightgbm\\basic.py:1433: UserWarning: Overriding the parameters from Reference Dataset.\n",
      "  _log_warning('Overriding the parameters from Reference Dataset.')\n",
      "D:\\Anaconda\\lib\\site-packages\\lightgbm\\basic.py:1245: UserWarning: categorical_column in param dict is overridden.\n",
      "  _log_warning('{} in param dict is overridden.'.format(cat_alias))\n"
     ]
    },
    {
     "name": "stdout",
     "output_type": "stream",
     "text": [
      "Training until validation scores don't improve for 25 rounds\n",
      "[100]\ttrain's auc: 0.931197\teval's auc: 0.930999\n",
      "[200]\ttrain's auc: 0.93167\teval's auc: 0.931283\n",
      "[300]\ttrain's auc: 0.932051\teval's auc: 0.931424\n",
      "[400]\ttrain's auc: 0.932381\teval's auc: 0.931496\n",
      "[500]\ttrain's auc: 0.932658\teval's auc: 0.931538\n",
      "Early stopping, best iteration is:\n",
      "[514]\ttrain's auc: 0.93268\teval's auc: 0.931541\n",
      "Best iteration, split №4 = 514\n",
      "\n",
      "AUC: 0.9314962622243919 +\\- 0.0003160703467401976\n",
      "\n",
      "[LightGBM] [Warning] min_data_in_leaf is set=94, min_child_samples=22 will be ignored. Current value: min_data_in_leaf=94\n"
     ]
    },
    {
     "name": "stderr",
     "output_type": "stream",
     "text": [
      "D:\\Anaconda\\lib\\site-packages\\lightgbm\\basic.py:1433: UserWarning: Overriding the parameters from Reference Dataset.\n",
      "  _log_warning('Overriding the parameters from Reference Dataset.')\n",
      "D:\\Anaconda\\lib\\site-packages\\lightgbm\\basic.py:1245: UserWarning: categorical_column in param dict is overridden.\n",
      "  _log_warning('{} in param dict is overridden.'.format(cat_alias))\n"
     ]
    },
    {
     "name": "stdout",
     "output_type": "stream",
     "text": [
      "Training until validation scores don't improve for 25 rounds\n",
      "Early stopping, best iteration is:\n",
      "[36]\ttrain's auc: 0.932683\teval's auc: 0.932112\n",
      "Best iteration, split №0 = 36\n",
      "\n",
      "[LightGBM] [Warning] min_data_in_leaf is set=94, min_child_samples=22 will be ignored. Current value: min_data_in_leaf=94\n"
     ]
    },
    {
     "name": "stderr",
     "output_type": "stream",
     "text": [
      "D:\\Anaconda\\lib\\site-packages\\lightgbm\\basic.py:1433: UserWarning: Overriding the parameters from Reference Dataset.\n",
      "  _log_warning('Overriding the parameters from Reference Dataset.')\n",
      "D:\\Anaconda\\lib\\site-packages\\lightgbm\\basic.py:1245: UserWarning: categorical_column in param dict is overridden.\n",
      "  _log_warning('{} in param dict is overridden.'.format(cat_alias))\n"
     ]
    },
    {
     "name": "stdout",
     "output_type": "stream",
     "text": [
      "Training until validation scores don't improve for 25 rounds\n",
      "Early stopping, best iteration is:\n",
      "[35]\ttrain's auc: 0.932974\teval's auc: 0.931424\n",
      "Best iteration, split №1 = 35\n",
      "\n",
      "[LightGBM] [Warning] min_data_in_leaf is set=94, min_child_samples=22 will be ignored. Current value: min_data_in_leaf=94\n"
     ]
    },
    {
     "name": "stderr",
     "output_type": "stream",
     "text": [
      "D:\\Anaconda\\lib\\site-packages\\lightgbm\\basic.py:1433: UserWarning: Overriding the parameters from Reference Dataset.\n",
      "  _log_warning('Overriding the parameters from Reference Dataset.')\n",
      "D:\\Anaconda\\lib\\site-packages\\lightgbm\\basic.py:1245: UserWarning: categorical_column in param dict is overridden.\n",
      "  _log_warning('{} in param dict is overridden.'.format(cat_alias))\n"
     ]
    },
    {
     "name": "stdout",
     "output_type": "stream",
     "text": [
      "Training until validation scores don't improve for 25 rounds\n",
      "Early stopping, best iteration is:\n",
      "[34]\ttrain's auc: 0.932751\teval's auc: 0.931298\n",
      "Best iteration, split №2 = 34\n",
      "\n",
      "[LightGBM] [Warning] min_data_in_leaf is set=94, min_child_samples=22 will be ignored. Current value: min_data_in_leaf=94\n"
     ]
    },
    {
     "name": "stderr",
     "output_type": "stream",
     "text": [
      "D:\\Anaconda\\lib\\site-packages\\lightgbm\\basic.py:1433: UserWarning: Overriding the parameters from Reference Dataset.\n",
      "  _log_warning('Overriding the parameters from Reference Dataset.')\n",
      "D:\\Anaconda\\lib\\site-packages\\lightgbm\\basic.py:1245: UserWarning: categorical_column in param dict is overridden.\n",
      "  _log_warning('{} in param dict is overridden.'.format(cat_alias))\n"
     ]
    },
    {
     "name": "stdout",
     "output_type": "stream",
     "text": [
      "Training until validation scores don't improve for 25 rounds\n",
      "Early stopping, best iteration is:\n",
      "[42]\ttrain's auc: 0.933194\teval's auc: 0.931778\n",
      "Best iteration, split №3 = 42\n",
      "\n",
      "[LightGBM] [Warning] min_data_in_leaf is set=94, min_child_samples=22 will be ignored. Current value: min_data_in_leaf=94\n"
     ]
    },
    {
     "name": "stderr",
     "output_type": "stream",
     "text": [
      "D:\\Anaconda\\lib\\site-packages\\lightgbm\\basic.py:1433: UserWarning: Overriding the parameters from Reference Dataset.\n",
      "  _log_warning('Overriding the parameters from Reference Dataset.')\n",
      "D:\\Anaconda\\lib\\site-packages\\lightgbm\\basic.py:1245: UserWarning: categorical_column in param dict is overridden.\n",
      "  _log_warning('{} in param dict is overridden.'.format(cat_alias))\n"
     ]
    },
    {
     "name": "stdout",
     "output_type": "stream",
     "text": [
      "Training until validation scores don't improve for 25 rounds\n",
      "Early stopping, best iteration is:\n",
      "[38]\ttrain's auc: 0.932928\teval's auc: 0.931417\n",
      "Best iteration, split №4 = 38\n",
      "\n",
      "AUC: 0.9313554013567013 +\\- 0.00030331436447431705\n",
      "\n",
      "[LightGBM] [Warning] min_data_in_leaf is set=59, min_child_samples=38 will be ignored. Current value: min_data_in_leaf=59\n"
     ]
    },
    {
     "name": "stderr",
     "output_type": "stream",
     "text": [
      "D:\\Anaconda\\lib\\site-packages\\lightgbm\\basic.py:1433: UserWarning: Overriding the parameters from Reference Dataset.\n",
      "  _log_warning('Overriding the parameters from Reference Dataset.')\n",
      "D:\\Anaconda\\lib\\site-packages\\lightgbm\\basic.py:1245: UserWarning: categorical_column in param dict is overridden.\n",
      "  _log_warning('{} in param dict is overridden.'.format(cat_alias))\n"
     ]
    },
    {
     "name": "stdout",
     "output_type": "stream",
     "text": [
      "Training until validation scores don't improve for 25 rounds\n",
      "[100]\ttrain's auc: 0.931426\teval's auc: 0.931763\n",
      "Early stopping, best iteration is:\n",
      "[136]\ttrain's auc: 0.931681\teval's auc: 0.931793\n",
      "Best iteration, split №0 = 136\n",
      "\n",
      "[LightGBM] [Warning] min_data_in_leaf is set=59, min_child_samples=38 will be ignored. Current value: min_data_in_leaf=59\n"
     ]
    },
    {
     "name": "stderr",
     "output_type": "stream",
     "text": [
      "D:\\Anaconda\\lib\\site-packages\\lightgbm\\basic.py:1433: UserWarning: Overriding the parameters from Reference Dataset.\n",
      "  _log_warning('Overriding the parameters from Reference Dataset.')\n",
      "D:\\Anaconda\\lib\\site-packages\\lightgbm\\basic.py:1245: UserWarning: categorical_column in param dict is overridden.\n",
      "  _log_warning('{} in param dict is overridden.'.format(cat_alias))\n"
     ]
    },
    {
     "name": "stdout",
     "output_type": "stream",
     "text": [
      "Training until validation scores don't improve for 25 rounds\n",
      "[100]\ttrain's auc: 0.93175\teval's auc: 0.9311\n",
      "Early stopping, best iteration is:\n",
      "[86]\ttrain's auc: 0.931632\teval's auc: 0.931108\n",
      "Best iteration, split №1 = 86\n",
      "\n",
      "[LightGBM] [Warning] min_data_in_leaf is set=59, min_child_samples=38 will be ignored. Current value: min_data_in_leaf=59\n"
     ]
    },
    {
     "name": "stderr",
     "output_type": "stream",
     "text": [
      "D:\\Anaconda\\lib\\site-packages\\lightgbm\\basic.py:1433: UserWarning: Overriding the parameters from Reference Dataset.\n",
      "  _log_warning('Overriding the parameters from Reference Dataset.')\n",
      "D:\\Anaconda\\lib\\site-packages\\lightgbm\\basic.py:1245: UserWarning: categorical_column in param dict is overridden.\n",
      "  _log_warning('{} in param dict is overridden.'.format(cat_alias))\n"
     ]
    },
    {
     "name": "stdout",
     "output_type": "stream",
     "text": [
      "Training until validation scores don't improve for 25 rounds\n",
      "[100]\ttrain's auc: 0.931535\teval's auc: 0.93112\n",
      "Early stopping, best iteration is:\n",
      "[120]\ttrain's auc: 0.931686\teval's auc: 0.931138\n",
      "Best iteration, split №2 = 120\n",
      "\n",
      "[LightGBM] [Warning] min_data_in_leaf is set=59, min_child_samples=38 will be ignored. Current value: min_data_in_leaf=59\n"
     ]
    },
    {
     "name": "stderr",
     "output_type": "stream",
     "text": [
      "D:\\Anaconda\\lib\\site-packages\\lightgbm\\basic.py:1433: UserWarning: Overriding the parameters from Reference Dataset.\n",
      "  _log_warning('Overriding the parameters from Reference Dataset.')\n",
      "D:\\Anaconda\\lib\\site-packages\\lightgbm\\basic.py:1245: UserWarning: categorical_column in param dict is overridden.\n",
      "  _log_warning('{} in param dict is overridden.'.format(cat_alias))\n"
     ]
    },
    {
     "name": "stdout",
     "output_type": "stream",
     "text": [
      "Training until validation scores don't improve for 25 rounds\n",
      "[100]\ttrain's auc: 0.931666\teval's auc: 0.931472\n",
      "Early stopping, best iteration is:\n",
      "[148]\ttrain's auc: 0.931973\teval's auc: 0.931498\n",
      "Best iteration, split №3 = 148\n",
      "\n",
      "[LightGBM] [Warning] min_data_in_leaf is set=59, min_child_samples=38 will be ignored. Current value: min_data_in_leaf=59\n"
     ]
    },
    {
     "name": "stderr",
     "output_type": "stream",
     "text": [
      "D:\\Anaconda\\lib\\site-packages\\lightgbm\\basic.py:1433: UserWarning: Overriding the parameters from Reference Dataset.\n",
      "  _log_warning('Overriding the parameters from Reference Dataset.')\n",
      "D:\\Anaconda\\lib\\site-packages\\lightgbm\\basic.py:1245: UserWarning: categorical_column in param dict is overridden.\n",
      "  _log_warning('{} in param dict is overridden.'.format(cat_alias))\n"
     ]
    },
    {
     "name": "stdout",
     "output_type": "stream",
     "text": [
      "Training until validation scores don't improve for 25 rounds\n",
      "[100]\ttrain's auc: 0.931517\teval's auc: 0.931082\n",
      "Early stopping, best iteration is:\n",
      "[135]\ttrain's auc: 0.931772\teval's auc: 0.931123\n",
      "Best iteration, split №4 = 135\n",
      "\n",
      "AUC: 0.9310376671811396 +\\- 0.0003239264415663331\n",
      "\n",
      "[LightGBM] [Warning] min_data_in_leaf is set=73, min_child_samples=27 will be ignored. Current value: min_data_in_leaf=73\n"
     ]
    },
    {
     "name": "stderr",
     "output_type": "stream",
     "text": [
      "D:\\Anaconda\\lib\\site-packages\\lightgbm\\basic.py:1433: UserWarning: Overriding the parameters from Reference Dataset.\n",
      "  _log_warning('Overriding the parameters from Reference Dataset.')\n",
      "D:\\Anaconda\\lib\\site-packages\\lightgbm\\basic.py:1245: UserWarning: categorical_column in param dict is overridden.\n",
      "  _log_warning('{} in param dict is overridden.'.format(cat_alias))\n"
     ]
    },
    {
     "name": "stdout",
     "output_type": "stream",
     "text": [
      "Training until validation scores don't improve for 25 rounds\n",
      "Early stopping, best iteration is:\n",
      "[28]\ttrain's auc: 0.928886\teval's auc: 0.929656\n",
      "Best iteration, split №0 = 28\n",
      "\n",
      "[LightGBM] [Warning] min_data_in_leaf is set=73, min_child_samples=27 will be ignored. Current value: min_data_in_leaf=73\n"
     ]
    },
    {
     "name": "stderr",
     "output_type": "stream",
     "text": [
      "D:\\Anaconda\\lib\\site-packages\\lightgbm\\basic.py:1433: UserWarning: Overriding the parameters from Reference Dataset.\n",
      "  _log_warning('Overriding the parameters from Reference Dataset.')\n",
      "D:\\Anaconda\\lib\\site-packages\\lightgbm\\basic.py:1245: UserWarning: categorical_column in param dict is overridden.\n",
      "  _log_warning('{} in param dict is overridden.'.format(cat_alias))\n"
     ]
    },
    {
     "name": "stdout",
     "output_type": "stream",
     "text": [
      "Training until validation scores don't improve for 25 rounds\n",
      "Early stopping, best iteration is:\n",
      "[28]\ttrain's auc: 0.92915\teval's auc: 0.928999\n",
      "Best iteration, split №1 = 28\n",
      "\n",
      "[LightGBM] [Warning] min_data_in_leaf is set=73, min_child_samples=27 will be ignored. Current value: min_data_in_leaf=73\n"
     ]
    },
    {
     "name": "stderr",
     "output_type": "stream",
     "text": [
      "D:\\Anaconda\\lib\\site-packages\\lightgbm\\basic.py:1433: UserWarning: Overriding the parameters from Reference Dataset.\n",
      "  _log_warning('Overriding the parameters from Reference Dataset.')\n",
      "D:\\Anaconda\\lib\\site-packages\\lightgbm\\basic.py:1245: UserWarning: categorical_column in param dict is overridden.\n",
      "  _log_warning('{} in param dict is overridden.'.format(cat_alias))\n"
     ]
    },
    {
     "name": "stdout",
     "output_type": "stream",
     "text": [
      "Training until validation scores don't improve for 25 rounds\n",
      "Early stopping, best iteration is:\n",
      "[28]\ttrain's auc: 0.92888\teval's auc: 0.928794\n",
      "Best iteration, split №2 = 28\n",
      "\n",
      "[LightGBM] [Warning] min_data_in_leaf is set=73, min_child_samples=27 will be ignored. Current value: min_data_in_leaf=73\n"
     ]
    },
    {
     "name": "stderr",
     "output_type": "stream",
     "text": [
      "D:\\Anaconda\\lib\\site-packages\\lightgbm\\basic.py:1433: UserWarning: Overriding the parameters from Reference Dataset.\n",
      "  _log_warning('Overriding the parameters from Reference Dataset.')\n",
      "D:\\Anaconda\\lib\\site-packages\\lightgbm\\basic.py:1245: UserWarning: categorical_column in param dict is overridden.\n",
      "  _log_warning('{} in param dict is overridden.'.format(cat_alias))\n"
     ]
    },
    {
     "name": "stdout",
     "output_type": "stream",
     "text": [
      "Training until validation scores don't improve for 25 rounds\n",
      "Early stopping, best iteration is:\n",
      "[28]\ttrain's auc: 0.929095\teval's auc: 0.929366\n",
      "Best iteration, split №3 = 28\n",
      "\n",
      "[LightGBM] [Warning] min_data_in_leaf is set=73, min_child_samples=27 will be ignored. Current value: min_data_in_leaf=73\n"
     ]
    },
    {
     "name": "stderr",
     "output_type": "stream",
     "text": [
      "D:\\Anaconda\\lib\\site-packages\\lightgbm\\basic.py:1433: UserWarning: Overriding the parameters from Reference Dataset.\n",
      "  _log_warning('Overriding the parameters from Reference Dataset.')\n",
      "D:\\Anaconda\\lib\\site-packages\\lightgbm\\basic.py:1245: UserWarning: categorical_column in param dict is overridden.\n",
      "  _log_warning('{} in param dict is overridden.'.format(cat_alias))\n"
     ]
    },
    {
     "name": "stdout",
     "output_type": "stream",
     "text": [
      "Training until validation scores don't improve for 25 rounds\n",
      "Early stopping, best iteration is:\n",
      "[28]\ttrain's auc: 0.928914\teval's auc: 0.928897\n",
      "Best iteration, split №4 = 28\n",
      "\n",
      "AUC: 0.9288568341558749 +\\- 0.00038375219812529287\n",
      "\n",
      "[LightGBM] [Warning] min_data_in_leaf is set=87, min_child_samples=15 will be ignored. Current value: min_data_in_leaf=87\n"
     ]
    },
    {
     "name": "stderr",
     "output_type": "stream",
     "text": [
      "D:\\Anaconda\\lib\\site-packages\\lightgbm\\basic.py:1433: UserWarning: Overriding the parameters from Reference Dataset.\n",
      "  _log_warning('Overriding the parameters from Reference Dataset.')\n",
      "D:\\Anaconda\\lib\\site-packages\\lightgbm\\basic.py:1245: UserWarning: categorical_column in param dict is overridden.\n",
      "  _log_warning('{} in param dict is overridden.'.format(cat_alias))\n"
     ]
    },
    {
     "name": "stdout",
     "output_type": "stream",
     "text": [
      "Training until validation scores don't improve for 25 rounds\n",
      "[100]\ttrain's auc: 0.931432\teval's auc: 0.931917\n",
      "[200]\ttrain's auc: 0.931587\teval's auc: 0.932009\n",
      "Early stopping, best iteration is:\n",
      "[231]\ttrain's auc: 0.931598\teval's auc: 0.932019\n",
      "Best iteration, split №0 = 231\n",
      "\n",
      "[LightGBM] [Warning] min_data_in_leaf is set=87, min_child_samples=15 will be ignored. Current value: min_data_in_leaf=87\n"
     ]
    },
    {
     "name": "stderr",
     "output_type": "stream",
     "text": [
      "D:\\Anaconda\\lib\\site-packages\\lightgbm\\basic.py:1433: UserWarning: Overriding the parameters from Reference Dataset.\n",
      "  _log_warning('Overriding the parameters from Reference Dataset.')\n",
      "D:\\Anaconda\\lib\\site-packages\\lightgbm\\basic.py:1245: UserWarning: categorical_column in param dict is overridden.\n",
      "  _log_warning('{} in param dict is overridden.'.format(cat_alias))\n"
     ]
    },
    {
     "name": "stdout",
     "output_type": "stream",
     "text": [
      "Training until validation scores don't improve for 25 rounds\n",
      "[100]\ttrain's auc: 0.931731\teval's auc: 0.931242\n",
      "[200]\ttrain's auc: 0.931889\teval's auc: 0.931331\n",
      "Early stopping, best iteration is:\n",
      "[196]\ttrain's auc: 0.931887\teval's auc: 0.931337\n",
      "Best iteration, split №1 = 196\n",
      "\n",
      "[LightGBM] [Warning] min_data_in_leaf is set=87, min_child_samples=15 will be ignored. Current value: min_data_in_leaf=87\n"
     ]
    },
    {
     "name": "stderr",
     "output_type": "stream",
     "text": [
      "D:\\Anaconda\\lib\\site-packages\\lightgbm\\basic.py:1433: UserWarning: Overriding the parameters from Reference Dataset.\n",
      "  _log_warning('Overriding the parameters from Reference Dataset.')\n",
      "D:\\Anaconda\\lib\\site-packages\\lightgbm\\basic.py:1245: UserWarning: categorical_column in param dict is overridden.\n",
      "  _log_warning('{} in param dict is overridden.'.format(cat_alias))\n"
     ]
    },
    {
     "name": "stdout",
     "output_type": "stream",
     "text": [
      "Training until validation scores don't improve for 25 rounds\n",
      "[100]\ttrain's auc: 0.931542\teval's auc: 0.931206\n",
      "[200]\ttrain's auc: 0.931686\teval's auc: 0.931286\n",
      "Early stopping, best iteration is:\n",
      "[257]\ttrain's auc: 0.931699\teval's auc: 0.931302\n",
      "Best iteration, split №2 = 257\n",
      "\n",
      "[LightGBM] [Warning] min_data_in_leaf is set=87, min_child_samples=15 will be ignored. Current value: min_data_in_leaf=87\n"
     ]
    },
    {
     "name": "stderr",
     "output_type": "stream",
     "text": [
      "D:\\Anaconda\\lib\\site-packages\\lightgbm\\basic.py:1433: UserWarning: Overriding the parameters from Reference Dataset.\n",
      "  _log_warning('Overriding the parameters from Reference Dataset.')\n",
      "D:\\Anaconda\\lib\\site-packages\\lightgbm\\basic.py:1245: UserWarning: categorical_column in param dict is overridden.\n",
      "  _log_warning('{} in param dict is overridden.'.format(cat_alias))\n"
     ]
    },
    {
     "name": "stdout",
     "output_type": "stream",
     "text": [
      "Training until validation scores don't improve for 25 rounds\n",
      "[100]\ttrain's auc: 0.931653\teval's auc: 0.931593\n",
      "[200]\ttrain's auc: 0.931839\teval's auc: 0.931705\n",
      "Early stopping, best iteration is:\n",
      "[247]\ttrain's auc: 0.931848\teval's auc: 0.931711\n",
      "Best iteration, split №3 = 247\n",
      "\n",
      "[LightGBM] [Warning] min_data_in_leaf is set=87, min_child_samples=15 will be ignored. Current value: min_data_in_leaf=87\n"
     ]
    },
    {
     "name": "stderr",
     "output_type": "stream",
     "text": [
      "D:\\Anaconda\\lib\\site-packages\\lightgbm\\basic.py:1433: UserWarning: Overriding the parameters from Reference Dataset.\n",
      "  _log_warning('Overriding the parameters from Reference Dataset.')\n",
      "D:\\Anaconda\\lib\\site-packages\\lightgbm\\basic.py:1245: UserWarning: categorical_column in param dict is overridden.\n",
      "  _log_warning('{} in param dict is overridden.'.format(cat_alias))\n"
     ]
    },
    {
     "name": "stdout",
     "output_type": "stream",
     "text": [
      "Training until validation scores don't improve for 25 rounds\n",
      "[100]\ttrain's auc: 0.931554\teval's auc: 0.931268\n",
      "[200]\ttrain's auc: 0.931719\teval's auc: 0.93135\n",
      "Early stopping, best iteration is:\n",
      "[228]\ttrain's auc: 0.931726\teval's auc: 0.931357\n",
      "Best iteration, split №4 = 228\n",
      "\n",
      "AUC: 0.9312854496253408 +\\- 0.000328939491473763\n",
      "\n",
      "[LightGBM] [Warning] min_data_in_leaf is set=99, min_child_samples=31 will be ignored. Current value: min_data_in_leaf=99\n"
     ]
    },
    {
     "name": "stderr",
     "output_type": "stream",
     "text": [
      "D:\\Anaconda\\lib\\site-packages\\lightgbm\\basic.py:1433: UserWarning: Overriding the parameters from Reference Dataset.\n",
      "  _log_warning('Overriding the parameters from Reference Dataset.')\n",
      "D:\\Anaconda\\lib\\site-packages\\lightgbm\\basic.py:1245: UserWarning: categorical_column in param dict is overridden.\n",
      "  _log_warning('{} in param dict is overridden.'.format(cat_alias))\n"
     ]
    },
    {
     "name": "stdout",
     "output_type": "stream",
     "text": [
      "Training until validation scores don't improve for 25 rounds\n",
      "[100]\ttrain's auc: 0.931517\teval's auc: 0.931951\n",
      "[200]\ttrain's auc: 0.932164\teval's auc: 0.932179\n",
      "[300]\ttrain's auc: 0.932712\teval's auc: 0.93228\n",
      "[400]\ttrain's auc: 0.933186\teval's auc: 0.932316\n",
      "Early stopping, best iteration is:\n",
      "[412]\ttrain's auc: 0.933238\teval's auc: 0.932318\n",
      "Best iteration, split №0 = 412\n",
      "\n",
      "[LightGBM] [Warning] min_data_in_leaf is set=99, min_child_samples=31 will be ignored. Current value: min_data_in_leaf=99\n"
     ]
    },
    {
     "name": "stderr",
     "output_type": "stream",
     "text": [
      "D:\\Anaconda\\lib\\site-packages\\lightgbm\\basic.py:1433: UserWarning: Overriding the parameters from Reference Dataset.\n",
      "  _log_warning('Overriding the parameters from Reference Dataset.')\n",
      "D:\\Anaconda\\lib\\site-packages\\lightgbm\\basic.py:1245: UserWarning: categorical_column in param dict is overridden.\n",
      "  _log_warning('{} in param dict is overridden.'.format(cat_alias))\n"
     ]
    },
    {
     "name": "stdout",
     "output_type": "stream",
     "text": [
      "Training until validation scores don't improve for 25 rounds\n",
      "[100]\ttrain's auc: 0.93182\teval's auc: 0.931264\n",
      "[200]\ttrain's auc: 0.93249\teval's auc: 0.931506\n",
      "[300]\ttrain's auc: 0.933031\teval's auc: 0.931565\n",
      "Early stopping, best iteration is:\n",
      "[312]\ttrain's auc: 0.933093\teval's auc: 0.931575\n",
      "Best iteration, split №1 = 312\n",
      "\n",
      "[LightGBM] [Warning] min_data_in_leaf is set=99, min_child_samples=31 will be ignored. Current value: min_data_in_leaf=99\n"
     ]
    },
    {
     "name": "stderr",
     "output_type": "stream",
     "text": [
      "D:\\Anaconda\\lib\\site-packages\\lightgbm\\basic.py:1433: UserWarning: Overriding the parameters from Reference Dataset.\n",
      "  _log_warning('Overriding the parameters from Reference Dataset.')\n",
      "D:\\Anaconda\\lib\\site-packages\\lightgbm\\basic.py:1245: UserWarning: categorical_column in param dict is overridden.\n",
      "  _log_warning('{} in param dict is overridden.'.format(cat_alias))\n"
     ]
    },
    {
     "name": "stdout",
     "output_type": "stream",
     "text": [
      "Training until validation scores don't improve for 25 rounds\n",
      "[100]\ttrain's auc: 0.931598\teval's auc: 0.931226\n",
      "[200]\ttrain's auc: 0.932273\teval's auc: 0.931445\n",
      "[300]\ttrain's auc: 0.932809\teval's auc: 0.931504\n",
      "Early stopping, best iteration is:\n",
      "[319]\ttrain's auc: 0.932904\teval's auc: 0.931513\n",
      "Best iteration, split №2 = 319\n",
      "\n",
      "[LightGBM] [Warning] min_data_in_leaf is set=99, min_child_samples=31 will be ignored. Current value: min_data_in_leaf=99\n"
     ]
    },
    {
     "name": "stderr",
     "output_type": "stream",
     "text": [
      "D:\\Anaconda\\lib\\site-packages\\lightgbm\\basic.py:1433: UserWarning: Overriding the parameters from Reference Dataset.\n",
      "  _log_warning('Overriding the parameters from Reference Dataset.')\n",
      "D:\\Anaconda\\lib\\site-packages\\lightgbm\\basic.py:1245: UserWarning: categorical_column in param dict is overridden.\n",
      "  _log_warning('{} in param dict is overridden.'.format(cat_alias))\n"
     ]
    },
    {
     "name": "stdout",
     "output_type": "stream",
     "text": [
      "Training until validation scores don't improve for 25 rounds\n",
      "[100]\ttrain's auc: 0.931728\teval's auc: 0.931618\n",
      "[200]\ttrain's auc: 0.932393\teval's auc: 0.931845\n",
      "[300]\ttrain's auc: 0.932952\teval's auc: 0.93192\n",
      "[400]\ttrain's auc: 0.933416\teval's auc: 0.93195\n",
      "Early stopping, best iteration is:\n",
      "[435]\ttrain's auc: 0.933565\teval's auc: 0.93196\n",
      "Best iteration, split №3 = 435\n",
      "\n",
      "[LightGBM] [Warning] min_data_in_leaf is set=99, min_child_samples=31 will be ignored. Current value: min_data_in_leaf=99\n"
     ]
    },
    {
     "name": "stderr",
     "output_type": "stream",
     "text": [
      "D:\\Anaconda\\lib\\site-packages\\lightgbm\\basic.py:1433: UserWarning: Overriding the parameters from Reference Dataset.\n",
      "  _log_warning('Overriding the parameters from Reference Dataset.')\n",
      "D:\\Anaconda\\lib\\site-packages\\lightgbm\\basic.py:1245: UserWarning: categorical_column in param dict is overridden.\n",
      "  _log_warning('{} in param dict is overridden.'.format(cat_alias))\n"
     ]
    },
    {
     "name": "stdout",
     "output_type": "stream",
     "text": [
      "Training until validation scores don't improve for 25 rounds\n",
      "[100]\ttrain's auc: 0.931621\teval's auc: 0.93129\n",
      "[200]\ttrain's auc: 0.932297\teval's auc: 0.931511\n",
      "[300]\ttrain's auc: 0.932847\teval's auc: 0.931578\n",
      "Early stopping, best iteration is:\n",
      "[326]\ttrain's auc: 0.932975\teval's auc: 0.931589\n",
      "Best iteration, split №4 = 326\n",
      "\n",
      "AUC: 0.9315246179654626 +\\- 0.000305865689585939\n",
      "\n",
      "[LightGBM] [Warning] min_data_in_leaf is set=100, min_child_samples=35 will be ignored. Current value: min_data_in_leaf=100\n"
     ]
    },
    {
     "name": "stderr",
     "output_type": "stream",
     "text": [
      "D:\\Anaconda\\lib\\site-packages\\lightgbm\\basic.py:1433: UserWarning: Overriding the parameters from Reference Dataset.\n",
      "  _log_warning('Overriding the parameters from Reference Dataset.')\n",
      "D:\\Anaconda\\lib\\site-packages\\lightgbm\\basic.py:1245: UserWarning: categorical_column in param dict is overridden.\n",
      "  _log_warning('{} in param dict is overridden.'.format(cat_alias))\n"
     ]
    },
    {
     "name": "stdout",
     "output_type": "stream",
     "text": [
      "Training until validation scores don't improve for 25 rounds\n",
      "[100]\ttrain's auc: 0.931423\teval's auc: 0.931911\n",
      "[200]\ttrain's auc: 0.932003\teval's auc: 0.932166\n",
      "[300]\ttrain's auc: 0.932516\teval's auc: 0.932269\n",
      "[400]\ttrain's auc: 0.932963\teval's auc: 0.932315\n",
      "Early stopping, best iteration is:\n",
      "[433]\ttrain's auc: 0.933102\teval's auc: 0.932331\n",
      "Best iteration, split №0 = 433\n",
      "\n",
      "[LightGBM] [Warning] min_data_in_leaf is set=100, min_child_samples=35 will be ignored. Current value: min_data_in_leaf=100\n"
     ]
    },
    {
     "name": "stderr",
     "output_type": "stream",
     "text": [
      "D:\\Anaconda\\lib\\site-packages\\lightgbm\\basic.py:1433: UserWarning: Overriding the parameters from Reference Dataset.\n",
      "  _log_warning('Overriding the parameters from Reference Dataset.')\n",
      "D:\\Anaconda\\lib\\site-packages\\lightgbm\\basic.py:1245: UserWarning: categorical_column in param dict is overridden.\n",
      "  _log_warning('{} in param dict is overridden.'.format(cat_alias))\n"
     ]
    },
    {
     "name": "stdout",
     "output_type": "stream",
     "text": [
      "Training until validation scores don't improve for 25 rounds\n",
      "[100]\ttrain's auc: 0.931721\teval's auc: 0.931253\n",
      "[200]\ttrain's auc: 0.932313\teval's auc: 0.931485\n",
      "[300]\ttrain's auc: 0.932821\teval's auc: 0.931561\n",
      "Early stopping, best iteration is:\n",
      "[371]\ttrain's auc: 0.933141\teval's auc: 0.931588\n",
      "Best iteration, split №1 = 371\n",
      "\n",
      "[LightGBM] [Warning] min_data_in_leaf is set=100, min_child_samples=35 will be ignored. Current value: min_data_in_leaf=100\n"
     ]
    },
    {
     "name": "stderr",
     "output_type": "stream",
     "text": [
      "D:\\Anaconda\\lib\\site-packages\\lightgbm\\basic.py:1433: UserWarning: Overriding the parameters from Reference Dataset.\n",
      "  _log_warning('Overriding the parameters from Reference Dataset.')\n",
      "D:\\Anaconda\\lib\\site-packages\\lightgbm\\basic.py:1245: UserWarning: categorical_column in param dict is overridden.\n",
      "  _log_warning('{} in param dict is overridden.'.format(cat_alias))\n"
     ]
    },
    {
     "name": "stdout",
     "output_type": "stream",
     "text": [
      "Training until validation scores don't improve for 25 rounds\n",
      "[100]\ttrain's auc: 0.931496\teval's auc: 0.93121\n",
      "[200]\ttrain's auc: 0.932092\teval's auc: 0.931439\n",
      "[300]\ttrain's auc: 0.932602\teval's auc: 0.931504\n",
      "[400]\ttrain's auc: 0.933052\teval's auc: 0.93153\n",
      "[500]\ttrain's auc: 0.933463\teval's auc: 0.931538\n",
      "Early stopping, best iteration is:\n",
      "[480]\ttrain's auc: 0.933386\teval's auc: 0.931543\n",
      "Best iteration, split №2 = 480\n",
      "\n",
      "[LightGBM] [Warning] min_data_in_leaf is set=100, min_child_samples=35 will be ignored. Current value: min_data_in_leaf=100\n"
     ]
    },
    {
     "name": "stderr",
     "output_type": "stream",
     "text": [
      "D:\\Anaconda\\lib\\site-packages\\lightgbm\\basic.py:1433: UserWarning: Overriding the parameters from Reference Dataset.\n",
      "  _log_warning('Overriding the parameters from Reference Dataset.')\n",
      "D:\\Anaconda\\lib\\site-packages\\lightgbm\\basic.py:1245: UserWarning: categorical_column in param dict is overridden.\n",
      "  _log_warning('{} in param dict is overridden.'.format(cat_alias))\n"
     ]
    },
    {
     "name": "stdout",
     "output_type": "stream",
     "text": [
      "Training until validation scores don't improve for 25 rounds\n",
      "[100]\ttrain's auc: 0.931623\teval's auc: 0.931602\n",
      "[200]\ttrain's auc: 0.932216\teval's auc: 0.931813\n",
      "[300]\ttrain's auc: 0.932735\teval's auc: 0.931922\n",
      "[400]\ttrain's auc: 0.933182\teval's auc: 0.931947\n",
      "Early stopping, best iteration is:\n",
      "[443]\ttrain's auc: 0.933367\teval's auc: 0.93196\n",
      "Best iteration, split №3 = 443\n",
      "\n",
      "[LightGBM] [Warning] min_data_in_leaf is set=100, min_child_samples=35 will be ignored. Current value: min_data_in_leaf=100\n"
     ]
    },
    {
     "name": "stderr",
     "output_type": "stream",
     "text": [
      "D:\\Anaconda\\lib\\site-packages\\lightgbm\\basic.py:1433: UserWarning: Overriding the parameters from Reference Dataset.\n",
      "  _log_warning('Overriding the parameters from Reference Dataset.')\n",
      "D:\\Anaconda\\lib\\site-packages\\lightgbm\\basic.py:1245: UserWarning: categorical_column in param dict is overridden.\n",
      "  _log_warning('{} in param dict is overridden.'.format(cat_alias))\n"
     ]
    },
    {
     "name": "stdout",
     "output_type": "stream",
     "text": [
      "Training until validation scores don't improve for 25 rounds\n",
      "[100]\ttrain's auc: 0.93152\teval's auc: 0.931244\n",
      "[200]\ttrain's auc: 0.932116\teval's auc: 0.931482\n",
      "[300]\ttrain's auc: 0.932632\teval's auc: 0.931556\n",
      "Early stopping, best iteration is:\n",
      "[338]\ttrain's auc: 0.932808\teval's auc: 0.931572\n",
      "Best iteration, split №4 = 338\n",
      "\n",
      "AUC: 0.9315328389399304 +\\- 0.00030762968527553057\n",
      "\n",
      "[LightGBM] [Warning] min_data_in_leaf is set=95, min_child_samples=44 will be ignored. Current value: min_data_in_leaf=95\n"
     ]
    },
    {
     "name": "stderr",
     "output_type": "stream",
     "text": [
      "D:\\Anaconda\\lib\\site-packages\\lightgbm\\basic.py:1433: UserWarning: Overriding the parameters from Reference Dataset.\n",
      "  _log_warning('Overriding the parameters from Reference Dataset.')\n",
      "D:\\Anaconda\\lib\\site-packages\\lightgbm\\basic.py:1245: UserWarning: categorical_column in param dict is overridden.\n",
      "  _log_warning('{} in param dict is overridden.'.format(cat_alias))\n"
     ]
    },
    {
     "name": "stdout",
     "output_type": "stream",
     "text": [
      "Training until validation scores don't improve for 25 rounds\n",
      "[100]\ttrain's auc: 0.93055\teval's auc: 0.931305\n",
      "[200]\ttrain's auc: 0.930766\teval's auc: 0.931508\n",
      "[300]\ttrain's auc: 0.930922\teval's auc: 0.93162\n",
      "[400]\ttrain's auc: 0.931054\teval's auc: 0.931722\n",
      "[500]\ttrain's auc: 0.931198\teval's auc: 0.931825\n",
      "[600]\ttrain's auc: 0.931319\teval's auc: 0.931905\n",
      "[700]\ttrain's auc: 0.93144\teval's auc: 0.931974\n",
      "[800]\ttrain's auc: 0.931548\teval's auc: 0.932032\n",
      "[900]\ttrain's auc: 0.93165\teval's auc: 0.932088\n",
      "[1000]\ttrain's auc: 0.93175\teval's auc: 0.932136\n",
      "Did not meet early stopping. Best iteration is:\n",
      "[1000]\ttrain's auc: 0.93175\teval's auc: 0.932136\n",
      "Best iteration, split №0 = 1000\n",
      "\n",
      "[LightGBM] [Warning] min_data_in_leaf is set=95, min_child_samples=44 will be ignored. Current value: min_data_in_leaf=95\n"
     ]
    },
    {
     "name": "stderr",
     "output_type": "stream",
     "text": [
      "D:\\Anaconda\\lib\\site-packages\\lightgbm\\basic.py:1433: UserWarning: Overriding the parameters from Reference Dataset.\n",
      "  _log_warning('Overriding the parameters from Reference Dataset.')\n",
      "D:\\Anaconda\\lib\\site-packages\\lightgbm\\basic.py:1245: UserWarning: categorical_column in param dict is overridden.\n",
      "  _log_warning('{} in param dict is overridden.'.format(cat_alias))\n"
     ]
    },
    {
     "name": "stdout",
     "output_type": "stream",
     "text": [
      "Training until validation scores don't improve for 25 rounds\n",
      "[100]\ttrain's auc: 0.930924\teval's auc: 0.930738\n",
      "[200]\ttrain's auc: 0.931087\teval's auc: 0.930872\n",
      "[300]\ttrain's auc: 0.931237\teval's auc: 0.930976\n",
      "[400]\ttrain's auc: 0.93137\teval's auc: 0.931066\n",
      "[500]\ttrain's auc: 0.931511\teval's auc: 0.93117\n",
      "[600]\ttrain's auc: 0.931631\teval's auc: 0.93124\n",
      "[700]\ttrain's auc: 0.931756\teval's auc: 0.931317\n",
      "[800]\ttrain's auc: 0.931863\teval's auc: 0.93137\n",
      "[900]\ttrain's auc: 0.931967\teval's auc: 0.931419\n",
      "[1000]\ttrain's auc: 0.932065\teval's auc: 0.931458\n",
      "Did not meet early stopping. Best iteration is:\n",
      "[1000]\ttrain's auc: 0.932065\teval's auc: 0.931458\n",
      "Best iteration, split №1 = 1000\n",
      "\n",
      "[LightGBM] [Warning] min_data_in_leaf is set=95, min_child_samples=44 will be ignored. Current value: min_data_in_leaf=95\n"
     ]
    },
    {
     "name": "stderr",
     "output_type": "stream",
     "text": [
      "D:\\Anaconda\\lib\\site-packages\\lightgbm\\basic.py:1433: UserWarning: Overriding the parameters from Reference Dataset.\n",
      "  _log_warning('Overriding the parameters from Reference Dataset.')\n",
      "D:\\Anaconda\\lib\\site-packages\\lightgbm\\basic.py:1245: UserWarning: categorical_column in param dict is overridden.\n",
      "  _log_warning('{} in param dict is overridden.'.format(cat_alias))\n"
     ]
    },
    {
     "name": "stdout",
     "output_type": "stream",
     "text": [
      "Training until validation scores don't improve for 25 rounds\n",
      "[100]\ttrain's auc: 0.930625\teval's auc: 0.930623\n",
      "[200]\ttrain's auc: 0.930849\teval's auc: 0.930829\n",
      "[300]\ttrain's auc: 0.931011\teval's auc: 0.930968\n",
      "[400]\ttrain's auc: 0.931139\teval's auc: 0.931052\n",
      "[500]\ttrain's auc: 0.931277\teval's auc: 0.931133\n",
      "[600]\ttrain's auc: 0.931407\teval's auc: 0.931216\n",
      "[700]\ttrain's auc: 0.931532\teval's auc: 0.931278\n",
      "[800]\ttrain's auc: 0.931641\teval's auc: 0.931328\n",
      "[900]\ttrain's auc: 0.931755\teval's auc: 0.931377\n",
      "[1000]\ttrain's auc: 0.931852\teval's auc: 0.93141\n",
      "Did not meet early stopping. Best iteration is:\n",
      "[1000]\ttrain's auc: 0.931852\teval's auc: 0.93141\n",
      "Best iteration, split №2 = 1000\n",
      "\n",
      "[LightGBM] [Warning] min_data_in_leaf is set=95, min_child_samples=44 will be ignored. Current value: min_data_in_leaf=95\n"
     ]
    },
    {
     "name": "stderr",
     "output_type": "stream",
     "text": [
      "D:\\Anaconda\\lib\\site-packages\\lightgbm\\basic.py:1433: UserWarning: Overriding the parameters from Reference Dataset.\n",
      "  _log_warning('Overriding the parameters from Reference Dataset.')\n",
      "D:\\Anaconda\\lib\\site-packages\\lightgbm\\basic.py:1245: UserWarning: categorical_column in param dict is overridden.\n",
      "  _log_warning('{} in param dict is overridden.'.format(cat_alias))\n"
     ]
    },
    {
     "name": "stdout",
     "output_type": "stream",
     "text": [
      "Training until validation scores don't improve for 25 rounds\n",
      "[100]\ttrain's auc: 0.930737\teval's auc: 0.931033\n",
      "[200]\ttrain's auc: 0.930961\teval's auc: 0.931212\n",
      "[300]\ttrain's auc: 0.931119\teval's auc: 0.931314\n",
      "[400]\ttrain's auc: 0.93126\teval's auc: 0.931404\n",
      "[500]\ttrain's auc: 0.931398\teval's auc: 0.931502\n",
      "[600]\ttrain's auc: 0.931527\teval's auc: 0.931587\n",
      "[700]\ttrain's auc: 0.931651\teval's auc: 0.93166\n",
      "[800]\ttrain's auc: 0.93176\teval's auc: 0.931722\n",
      "[900]\ttrain's auc: 0.931866\teval's auc: 0.931781\n",
      "[1000]\ttrain's auc: 0.931968\teval's auc: 0.931825\n",
      "Did not meet early stopping. Best iteration is:\n",
      "[1000]\ttrain's auc: 0.931968\teval's auc: 0.931825\n",
      "Best iteration, split №3 = 1000\n",
      "\n",
      "[LightGBM] [Warning] min_data_in_leaf is set=95, min_child_samples=44 will be ignored. Current value: min_data_in_leaf=95\n"
     ]
    },
    {
     "name": "stderr",
     "output_type": "stream",
     "text": [
      "D:\\Anaconda\\lib\\site-packages\\lightgbm\\basic.py:1433: UserWarning: Overriding the parameters from Reference Dataset.\n",
      "  _log_warning('Overriding the parameters from Reference Dataset.')\n",
      "D:\\Anaconda\\lib\\site-packages\\lightgbm\\basic.py:1245: UserWarning: categorical_column in param dict is overridden.\n",
      "  _log_warning('{} in param dict is overridden.'.format(cat_alias))\n"
     ]
    },
    {
     "name": "stdout",
     "output_type": "stream",
     "text": [
      "Training until validation scores don't improve for 25 rounds\n",
      "[100]\ttrain's auc: 0.930679\teval's auc: 0.930725\n",
      "[200]\ttrain's auc: 0.930869\teval's auc: 0.930863\n",
      "[300]\ttrain's auc: 0.931019\teval's auc: 0.930973\n",
      "[400]\ttrain's auc: 0.931155\teval's auc: 0.931071\n",
      "[500]\ttrain's auc: 0.931293\teval's auc: 0.931173\n",
      "[600]\ttrain's auc: 0.931432\teval's auc: 0.93126\n",
      "[700]\ttrain's auc: 0.931554\teval's auc: 0.931329\n",
      "[800]\ttrain's auc: 0.931671\teval's auc: 0.931384\n",
      "[900]\ttrain's auc: 0.931781\teval's auc: 0.931435\n",
      "[1000]\ttrain's auc: 0.93188\teval's auc: 0.931472\n",
      "Did not meet early stopping. Best iteration is:\n",
      "[1000]\ttrain's auc: 0.93188\teval's auc: 0.931472\n",
      "Best iteration, split №4 = 1000\n",
      "\n",
      "AUC: 0.9313996336845864 +\\- 0.000309833383765815\n",
      "\n",
      "[LightGBM] [Warning] min_data_in_leaf is set=85, min_child_samples=37 will be ignored. Current value: min_data_in_leaf=85\n"
     ]
    },
    {
     "name": "stderr",
     "output_type": "stream",
     "text": [
      "D:\\Anaconda\\lib\\site-packages\\lightgbm\\basic.py:1433: UserWarning: Overriding the parameters from Reference Dataset.\n",
      "  _log_warning('Overriding the parameters from Reference Dataset.')\n",
      "D:\\Anaconda\\lib\\site-packages\\lightgbm\\basic.py:1245: UserWarning: categorical_column in param dict is overridden.\n",
      "  _log_warning('{} in param dict is overridden.'.format(cat_alias))\n"
     ]
    },
    {
     "name": "stdout",
     "output_type": "stream",
     "text": [
      "Training until validation scores don't improve for 25 rounds\n",
      "[100]\ttrain's auc: 0.932393\teval's auc: 0.932215\n",
      "Early stopping, best iteration is:\n",
      "[88]\ttrain's auc: 0.93238\teval's auc: 0.932217\n",
      "Best iteration, split №0 = 88\n",
      "\n",
      "[LightGBM] [Warning] min_data_in_leaf is set=85, min_child_samples=37 will be ignored. Current value: min_data_in_leaf=85\n"
     ]
    },
    {
     "name": "stderr",
     "output_type": "stream",
     "text": [
      "D:\\Anaconda\\lib\\site-packages\\lightgbm\\basic.py:1433: UserWarning: Overriding the parameters from Reference Dataset.\n",
      "  _log_warning('Overriding the parameters from Reference Dataset.')\n",
      "D:\\Anaconda\\lib\\site-packages\\lightgbm\\basic.py:1245: UserWarning: categorical_column in param dict is overridden.\n",
      "  _log_warning('{} in param dict is overridden.'.format(cat_alias))\n"
     ]
    },
    {
     "name": "stdout",
     "output_type": "stream",
     "text": [
      "Training until validation scores don't improve for 25 rounds\n",
      "[100]\ttrain's auc: 0.932696\teval's auc: 0.931487\n",
      "Early stopping, best iteration is:\n",
      "[96]\ttrain's auc: 0.932695\teval's auc: 0.93149\n",
      "Best iteration, split №1 = 96\n",
      "\n",
      "[LightGBM] [Warning] min_data_in_leaf is set=85, min_child_samples=37 will be ignored. Current value: min_data_in_leaf=85\n"
     ]
    },
    {
     "name": "stderr",
     "output_type": "stream",
     "text": [
      "D:\\Anaconda\\lib\\site-packages\\lightgbm\\basic.py:1433: UserWarning: Overriding the parameters from Reference Dataset.\n",
      "  _log_warning('Overriding the parameters from Reference Dataset.')\n",
      "D:\\Anaconda\\lib\\site-packages\\lightgbm\\basic.py:1245: UserWarning: categorical_column in param dict is overridden.\n",
      "  _log_warning('{} in param dict is overridden.'.format(cat_alias))\n"
     ]
    },
    {
     "name": "stdout",
     "output_type": "stream",
     "text": [
      "Training until validation scores don't improve for 25 rounds\n",
      "[100]\ttrain's auc: 0.932568\teval's auc: 0.931453\n",
      "Early stopping, best iteration is:\n",
      "[103]\ttrain's auc: 0.932568\teval's auc: 0.931455\n",
      "Best iteration, split №2 = 103\n",
      "\n",
      "[LightGBM] [Warning] min_data_in_leaf is set=85, min_child_samples=37 will be ignored. Current value: min_data_in_leaf=85\n"
     ]
    },
    {
     "name": "stderr",
     "output_type": "stream",
     "text": [
      "D:\\Anaconda\\lib\\site-packages\\lightgbm\\basic.py:1433: UserWarning: Overriding the parameters from Reference Dataset.\n",
      "  _log_warning('Overriding the parameters from Reference Dataset.')\n",
      "D:\\Anaconda\\lib\\site-packages\\lightgbm\\basic.py:1245: UserWarning: categorical_column in param dict is overridden.\n",
      "  _log_warning('{} in param dict is overridden.'.format(cat_alias))\n"
     ]
    },
    {
     "name": "stdout",
     "output_type": "stream",
     "text": [
      "Training until validation scores don't improve for 25 rounds\n",
      "[100]\ttrain's auc: 0.932677\teval's auc: 0.931877\n",
      "Early stopping, best iteration is:\n",
      "[102]\ttrain's auc: 0.932677\teval's auc: 0.931877\n",
      "Best iteration, split №3 = 102\n",
      "\n",
      "[LightGBM] [Warning] min_data_in_leaf is set=85, min_child_samples=37 will be ignored. Current value: min_data_in_leaf=85\n"
     ]
    },
    {
     "name": "stderr",
     "output_type": "stream",
     "text": [
      "D:\\Anaconda\\lib\\site-packages\\lightgbm\\basic.py:1433: UserWarning: Overriding the parameters from Reference Dataset.\n",
      "  _log_warning('Overriding the parameters from Reference Dataset.')\n",
      "D:\\Anaconda\\lib\\site-packages\\lightgbm\\basic.py:1245: UserWarning: categorical_column in param dict is overridden.\n",
      "  _log_warning('{} in param dict is overridden.'.format(cat_alias))\n"
     ]
    },
    {
     "name": "stdout",
     "output_type": "stream",
     "text": [
      "Training until validation scores don't improve for 25 rounds\n",
      "[100]\ttrain's auc: 0.93252\teval's auc: 0.93151\n",
      "Early stopping, best iteration is:\n",
      "[99]\ttrain's auc: 0.932519\teval's auc: 0.93151\n",
      "Best iteration, split №4 = 99\n",
      "\n",
      "AUC: 0.9314615290175026 +\\- 0.00030662344410068923\n",
      "\n"
     ]
    }
   ],
   "source": [
    "# pruner_LGB_dirty = optuna.pruners.MedianPruner(n_startup_trials=4, n_warmup_steps=100, interval_steps=10)\n",
    "study_LGB_dirty = optuna.create_study(direction=\"maximize\")  # , pruner=pruner_LGB_dirty\n",
    "study_LGB_dirty.optimize(objective_LGB_dirty, n_trials=35)"
   ]
  },
  {
   "cell_type": "code",
   "execution_count": 11,
   "id": "53c45c85-abd2-4ec0-b838-c0924b50f20d",
   "metadata": {},
   "outputs": [
    {
     "data": {
      "text/plain": [
       "{'Best_iteration': {'0': 612, '1': 658, '2': 626, '3': 526, '4': 515},\n",
       " 'Best_inner_valid_score': {'0': 0.9323130086303436,\n",
       "  '1': 0.931618410112145,\n",
       "  '2': 0.9315344996767767,\n",
       "  '3': 0.9319483883982833,\n",
       "  '4': 0.9315686346413842},\n",
       " 'Outter_valid_score': {'0': 0.9315747292504074,\n",
       "  '1': 0.9311876939477102,\n",
       "  '2': 0.9319464760642422,\n",
       "  '3': 0.9311944195210159,\n",
       "  '4': 0.9318100081707856},\n",
       " 'Mean_valid_score': 0.9315426653908322,\n",
       " 'Std_valid_score': 0.0003107549595163912,\n",
       " 'Mean_iterations': 587.4}"
      ]
     },
     "execution_count": 11,
     "metadata": {},
     "output_type": "execute_result"
    }
   ],
   "source": [
    "study_LGB_dirty.best_trial.user_attrs"
   ]
  },
  {
   "cell_type": "code",
   "execution_count": 12,
   "id": "a0c4b58a-3359-4094-bdf9-42d13f3e589d",
   "metadata": {
    "tags": []
   },
   "outputs": [
    {
     "data": {
      "text/plain": [
       "{'learning_rate': 0.015199128013671246,\n",
       " 'lambda_l1': 0.03354600337508153,\n",
       " 'lambda_l2': 2.6666379329607066,\n",
       " 'min_gain_to_split': 1.0570957418922402,\n",
       " 'num_leaves': 102,\n",
       " 'feature_fraction': 0.47243339229594256,\n",
       " 'bagging_fraction': 0.6140362329314972,\n",
       " 'bagging_freq': 3,\n",
       " 'min_child_samples': 35,\n",
       " 'min_data_in_leaf': 94,\n",
       " 'min_sum_hessian_in_leaf': 0.3068170651632342}"
      ]
     },
     "execution_count": 12,
     "metadata": {},
     "output_type": "execute_result"
    }
   ],
   "source": [
    "study_LGB_dirty.best_params"
   ]
  },
  {
   "cell_type": "code",
   "execution_count": 13,
   "id": "1090d52d-ebe2-4f04-b6aa-8720c27eef33",
   "metadata": {},
   "outputs": [],
   "source": [
    "parameters_for_fit_LGB_dirty = {\n",
    "    \"num_threads\": 8,\n",
    "    \"objective\": \"binary\",\n",
    "    \"metric\": \"auc\",\n",
    "    \"feature_pre_filter\": False,\n",
    "    **study_LGB_dirty.best_params,\n",
    "}"
   ]
  },
  {
   "cell_type": "code",
   "execution_count": 14,
   "id": "d2391c94-dba1-4e1f-9129-75c73ebeecc5",
   "metadata": {},
   "outputs": [],
   "source": [
    "\"\"\"2 additional splitters for stacking\"\"\"\n",
    "rs2_splitter = StratifiedKFold(n_splits=5, shuffle=True, random_state=2)\n",
    "rs3_splitter = StratifiedKFold(n_splits=5, shuffle=True, random_state=3)"
   ]
  },
  {
   "cell_type": "code",
   "execution_count": 15,
   "id": "834540f4-a2f5-445e-a632-9efd2d59c0db",
   "metadata": {
    "scrolled": true,
    "tags": []
   },
   "outputs": [],
   "source": [
    "probs_LGB = pd.DataFrame(\n",
    "    index=dirty_X.index,\n",
    "    columns=[\"LGB_proba_outer\", \"LGB_proba_rs2\", \"LGB_proba_rs3\", \"LGB_proba_mean\"],\n",
    ")"
   ]
  },
  {
   "cell_type": "code",
   "execution_count": 16,
   "id": "e65170f4-b549-458a-874b-4511d468545a",
   "metadata": {
    "scrolled": true,
    "tags": []
   },
   "outputs": [
    {
     "name": "stdout",
     "output_type": "stream",
     "text": [
      "[LightGBM] [Warning] min_data_in_leaf is set=94, min_child_samples=35 will be ignored. Current value: min_data_in_leaf=94\n",
      "[LightGBM] [Warning] min_data_in_leaf is set=94, min_child_samples=35 will be ignored. Current value: min_data_in_leaf=94\n",
      "[LightGBM] [Info] Number of positive: 323189, number of negative: 1400049\n",
      "[LightGBM] [Warning] Auto-choosing row-wise multi-threading, the overhead of testing was 0.046864 seconds.\n",
      "You can set `force_row_wise=true` to remove the overhead.\n",
      "And if memory is not enough, you can set `force_col_wise=true`.\n",
      "[LightGBM] [Info] Total Bins 4034\n",
      "[LightGBM] [Info] Number of data points in the train set: 1723238, number of used features: 25\n",
      "[LightGBM] [Info] [binary:BoostFromScore]: pavg=0.187548 -> initscore=-1.466025\n",
      "[LightGBM] [Info] Start training from score -1.466025\n",
      "[LightGBM] [Warning] min_data_in_leaf is set=94, min_child_samples=35 will be ignored. Current value: min_data_in_leaf=94\n",
      "[LightGBM] [Warning] min_data_in_leaf is set=94, min_child_samples=35 will be ignored. Current value: min_data_in_leaf=94\n",
      "[LightGBM] [Info] Number of positive: 323189, number of negative: 1400049\n",
      "[LightGBM] [Warning] Auto-choosing row-wise multi-threading, the overhead of testing was 0.033396 seconds.\n",
      "You can set `force_row_wise=true` to remove the overhead.\n",
      "And if memory is not enough, you can set `force_col_wise=true`.\n",
      "[LightGBM] [Info] Total Bins 4103\n",
      "[LightGBM] [Info] Number of data points in the train set: 1723238, number of used features: 25\n",
      "[LightGBM] [Info] [binary:BoostFromScore]: pavg=0.187548 -> initscore=-1.466025\n",
      "[LightGBM] [Info] Start training from score -1.466025\n",
      "[LightGBM] [Warning] min_data_in_leaf is set=94, min_child_samples=35 will be ignored. Current value: min_data_in_leaf=94\n",
      "[LightGBM] [Warning] min_data_in_leaf is set=94, min_child_samples=35 will be ignored. Current value: min_data_in_leaf=94\n",
      "[LightGBM] [Info] Number of positive: 323188, number of negative: 1400050\n",
      "[LightGBM] [Warning] Auto-choosing row-wise multi-threading, the overhead of testing was 0.045565 seconds.\n",
      "You can set `force_row_wise=true` to remove the overhead.\n",
      "And if memory is not enough, you can set `force_col_wise=true`.\n",
      "[LightGBM] [Info] Total Bins 4013\n",
      "[LightGBM] [Info] Number of data points in the train set: 1723238, number of used features: 25\n",
      "[LightGBM] [Info] [binary:BoostFromScore]: pavg=0.187547 -> initscore=-1.466029\n",
      "[LightGBM] [Info] Start training from score -1.466029\n",
      "[LightGBM] [Warning] min_data_in_leaf is set=94, min_child_samples=35 will be ignored. Current value: min_data_in_leaf=94\n",
      "[LightGBM] [Warning] min_data_in_leaf is set=94, min_child_samples=35 will be ignored. Current value: min_data_in_leaf=94\n",
      "[LightGBM] [Info] Number of positive: 323189, number of negative: 1400050\n",
      "[LightGBM] [Warning] Auto-choosing row-wise multi-threading, the overhead of testing was 0.053865 seconds.\n",
      "You can set `force_row_wise=true` to remove the overhead.\n",
      "And if memory is not enough, you can set `force_col_wise=true`.\n",
      "[LightGBM] [Info] Total Bins 4024\n",
      "[LightGBM] [Info] Number of data points in the train set: 1723239, number of used features: 25\n",
      "[LightGBM] [Info] [binary:BoostFromScore]: pavg=0.187547 -> initscore=-1.466026\n",
      "[LightGBM] [Info] Start training from score -1.466026\n",
      "[LightGBM] [Warning] min_data_in_leaf is set=94, min_child_samples=35 will be ignored. Current value: min_data_in_leaf=94\n",
      "[LightGBM] [Warning] min_data_in_leaf is set=94, min_child_samples=35 will be ignored. Current value: min_data_in_leaf=94\n",
      "[LightGBM] [Info] Number of positive: 323189, number of negative: 1400050\n",
      "[LightGBM] [Warning] Auto-choosing row-wise multi-threading, the overhead of testing was 0.051217 seconds.\n",
      "You can set `force_row_wise=true` to remove the overhead.\n",
      "And if memory is not enough, you can set `force_col_wise=true`.\n",
      "[LightGBM] [Info] Total Bins 4038\n",
      "[LightGBM] [Info] Number of data points in the train set: 1723239, number of used features: 25\n",
      "[LightGBM] [Info] [binary:BoostFromScore]: pavg=0.187547 -> initscore=-1.466026\n",
      "[LightGBM] [Info] Start training from score -1.466026\n",
      "Outer splitter probs\n",
      " user_id\n",
      "00000bfd7d50f01092811bc0c8d7b0d6fe7c3596    0.000426\n",
      "00000cb4a5d760de88fecb38e2f71b7bec52e834     0.61282\n",
      "00001654a9d9f96303d9969d0a4a851714a4bb57     0.14069\n",
      "00001dd6fa45f7ba044bd5d84937be464ce78ac2    0.000396\n",
      "000028d9e13a595abe061f9b58f3d76ab907850f    0.023931\n",
      "Name: LGB_proba_outer, dtype: object\n"
     ]
    }
   ],
   "source": [
    "for train_split, predict_split in outer_splitter.split(dirty_X, dirty_y):\n",
    "    ###############\n",
    "    # train_set = lgb.Dataset(data=dirty_X.reset_index(drop=True).loc[train_split],\n",
    "    #                        label=dirty_y.reset_index(drop=True).loc[train_split])\n",
    "    #\n",
    "    # predict_set = lgb.Dataset(data=dirty_X.reset_index(drop=True).loc[predict_split],\n",
    "    #                          label=dirty_y.reset_index(drop=True).loc[predict_split])\n",
    "    ################\n",
    "    po = lgb.train(\n",
    "        parameters_for_fit_LGB_dirty,\n",
    "        train_set=lgb.Dataset(\n",
    "            data=dirty_X.reset_index(drop=True).loc[train_split],\n",
    "            label=dirty_y.reset_index(drop=True).loc[train_split],\n",
    "        ),\n",
    "        verbose_eval=False,\n",
    "        num_boost_round=int(\n",
    "            np.rint(study_LGB_dirty.best_trial.user_attrs[\"Mean_iterations\"])\n",
    "        ),\n",
    "    )\n",
    "    probs_LGB.loc[\n",
    "        dirty_X.reset_index().loc[predict_split, \"user_id\"], \"LGB_proba_outer\"\n",
    "    ] = po.predict(data=dirty_X.reset_index(drop=True).loc[predict_split])\n",
    "print(\"Outer splitter probs\\n\", probs_LGB[\"LGB_proba_outer\"].head())"
   ]
  },
  {
   "cell_type": "code",
   "execution_count": 17,
   "id": "8ca24cab-f7eb-44fa-8404-123b837b1037",
   "metadata": {
    "scrolled": true,
    "tags": []
   },
   "outputs": [
    {
     "name": "stdout",
     "output_type": "stream",
     "text": [
      "[LightGBM] [Warning] min_data_in_leaf is set=94, min_child_samples=35 will be ignored. Current value: min_data_in_leaf=94\n",
      "[LightGBM] [Warning] min_data_in_leaf is set=94, min_child_samples=35 will be ignored. Current value: min_data_in_leaf=94\n",
      "[LightGBM] [Info] Number of positive: 323189, number of negative: 1400049\n",
      "[LightGBM] [Warning] Auto-choosing row-wise multi-threading, the overhead of testing was 0.047362 seconds.\n",
      "You can set `force_row_wise=true` to remove the overhead.\n",
      "And if memory is not enough, you can set `force_col_wise=true`.\n",
      "[LightGBM] [Info] Total Bins 4038\n",
      "[LightGBM] [Info] Number of data points in the train set: 1723238, number of used features: 25\n",
      "[LightGBM] [Info] [binary:BoostFromScore]: pavg=0.187548 -> initscore=-1.466025\n",
      "[LightGBM] [Info] Start training from score -1.466025\n",
      "[LightGBM] [Warning] min_data_in_leaf is set=94, min_child_samples=35 will be ignored. Current value: min_data_in_leaf=94\n",
      "[LightGBM] [Warning] min_data_in_leaf is set=94, min_child_samples=35 will be ignored. Current value: min_data_in_leaf=94\n",
      "[LightGBM] [Info] Number of positive: 323189, number of negative: 1400049\n",
      "[LightGBM] [Warning] Auto-choosing row-wise multi-threading, the overhead of testing was 0.054635 seconds.\n",
      "You can set `force_row_wise=true` to remove the overhead.\n",
      "And if memory is not enough, you can set `force_col_wise=true`.\n",
      "[LightGBM] [Info] Total Bins 4098\n",
      "[LightGBM] [Info] Number of data points in the train set: 1723238, number of used features: 25\n",
      "[LightGBM] [Info] [binary:BoostFromScore]: pavg=0.187548 -> initscore=-1.466025\n",
      "[LightGBM] [Info] Start training from score -1.466025\n",
      "[LightGBM] [Warning] min_data_in_leaf is set=94, min_child_samples=35 will be ignored. Current value: min_data_in_leaf=94\n",
      "[LightGBM] [Warning] min_data_in_leaf is set=94, min_child_samples=35 will be ignored. Current value: min_data_in_leaf=94\n",
      "[LightGBM] [Info] Number of positive: 323188, number of negative: 1400050\n",
      "[LightGBM] [Warning] Auto-choosing row-wise multi-threading, the overhead of testing was 0.047927 seconds.\n",
      "You can set `force_row_wise=true` to remove the overhead.\n",
      "And if memory is not enough, you can set `force_col_wise=true`.\n",
      "[LightGBM] [Info] Total Bins 4109\n",
      "[LightGBM] [Info] Number of data points in the train set: 1723238, number of used features: 25\n",
      "[LightGBM] [Info] [binary:BoostFromScore]: pavg=0.187547 -> initscore=-1.466029\n",
      "[LightGBM] [Info] Start training from score -1.466029\n",
      "[LightGBM] [Warning] min_data_in_leaf is set=94, min_child_samples=35 will be ignored. Current value: min_data_in_leaf=94\n",
      "[LightGBM] [Warning] min_data_in_leaf is set=94, min_child_samples=35 will be ignored. Current value: min_data_in_leaf=94\n",
      "[LightGBM] [Info] Number of positive: 323189, number of negative: 1400050\n",
      "[LightGBM] [Warning] Auto-choosing row-wise multi-threading, the overhead of testing was 0.040105 seconds.\n",
      "You can set `force_row_wise=true` to remove the overhead.\n",
      "And if memory is not enough, you can set `force_col_wise=true`.\n",
      "[LightGBM] [Info] Total Bins 4027\n",
      "[LightGBM] [Info] Number of data points in the train set: 1723239, number of used features: 25\n",
      "[LightGBM] [Info] [binary:BoostFromScore]: pavg=0.187547 -> initscore=-1.466026\n",
      "[LightGBM] [Info] Start training from score -1.466026\n",
      "[LightGBM] [Warning] min_data_in_leaf is set=94, min_child_samples=35 will be ignored. Current value: min_data_in_leaf=94\n",
      "[LightGBM] [Warning] min_data_in_leaf is set=94, min_child_samples=35 will be ignored. Current value: min_data_in_leaf=94\n",
      "[LightGBM] [Info] Number of positive: 323189, number of negative: 1400050\n",
      "[LightGBM] [Warning] Auto-choosing row-wise multi-threading, the overhead of testing was 0.048103 seconds.\n",
      "You can set `force_row_wise=true` to remove the overhead.\n",
      "And if memory is not enough, you can set `force_col_wise=true`.\n",
      "[LightGBM] [Info] Total Bins 4030\n",
      "[LightGBM] [Info] Number of data points in the train set: 1723239, number of used features: 25\n",
      "[LightGBM] [Info] [binary:BoostFromScore]: pavg=0.187547 -> initscore=-1.466026\n",
      "[LightGBM] [Info] Start training from score -1.466026\n",
      "rs2 splitter probs\n",
      " user_id\n",
      "00000bfd7d50f01092811bc0c8d7b0d6fe7c3596    0.000468\n",
      "00000cb4a5d760de88fecb38e2f71b7bec52e834    0.620449\n",
      "00001654a9d9f96303d9969d0a4a851714a4bb57    0.137279\n",
      "00001dd6fa45f7ba044bd5d84937be464ce78ac2    0.000368\n",
      "000028d9e13a595abe061f9b58f3d76ab907850f    0.020372\n",
      "Name: LGB_proba_rs2, dtype: object\n"
     ]
    }
   ],
   "source": [
    "for train_split, predict_split in rs2_splitter.split(dirty_X, dirty_y):\n",
    "    po = lgb.train(\n",
    "        parameters_for_fit_LGB_dirty,\n",
    "        train_set=lgb.Dataset(\n",
    "            data=dirty_X.reset_index(drop=True).loc[train_split],\n",
    "            label=dirty_y.reset_index(drop=True).loc[train_split],\n",
    "        ),\n",
    "        verbose_eval=False,\n",
    "        num_boost_round=int(\n",
    "            np.rint(study_LGB_dirty.best_trial.user_attrs[\"Mean_iterations\"])\n",
    "        ),\n",
    "    )\n",
    "    probs_LGB.loc[\n",
    "        dirty_X.reset_index().loc[predict_split, \"user_id\"], \"LGB_proba_rs2\"\n",
    "    ] = po.predict(data=dirty_X.reset_index(drop=True).loc[predict_split])\n",
    "print(\"rs2 splitter probs\\n\", probs_LGB[\"LGB_proba_rs2\"].head())"
   ]
  },
  {
   "cell_type": "code",
   "execution_count": 18,
   "id": "91c0f81e-70c3-4ffb-a404-c98f08249ef7",
   "metadata": {
    "scrolled": true,
    "tags": []
   },
   "outputs": [
    {
     "name": "stdout",
     "output_type": "stream",
     "text": [
      "[LightGBM] [Warning] min_data_in_leaf is set=94, min_child_samples=35 will be ignored. Current value: min_data_in_leaf=94\n",
      "[LightGBM] [Warning] min_data_in_leaf is set=94, min_child_samples=35 will be ignored. Current value: min_data_in_leaf=94\n",
      "[LightGBM] [Info] Number of positive: 323189, number of negative: 1400049\n",
      "[LightGBM] [Warning] Auto-choosing row-wise multi-threading, the overhead of testing was 0.047496 seconds.\n",
      "You can set `force_row_wise=true` to remove the overhead.\n",
      "And if memory is not enough, you can set `force_col_wise=true`.\n",
      "[LightGBM] [Info] Total Bins 4029\n",
      "[LightGBM] [Info] Number of data points in the train set: 1723238, number of used features: 25\n",
      "[LightGBM] [Info] [binary:BoostFromScore]: pavg=0.187548 -> initscore=-1.466025\n",
      "[LightGBM] [Info] Start training from score -1.466025\n",
      "[LightGBM] [Warning] min_data_in_leaf is set=94, min_child_samples=35 will be ignored. Current value: min_data_in_leaf=94\n",
      "[LightGBM] [Warning] min_data_in_leaf is set=94, min_child_samples=35 will be ignored. Current value: min_data_in_leaf=94\n",
      "[LightGBM] [Info] Number of positive: 323189, number of negative: 1400049\n",
      "[LightGBM] [Warning] Auto-choosing row-wise multi-threading, the overhead of testing was 0.049238 seconds.\n",
      "You can set `force_row_wise=true` to remove the overhead.\n",
      "And if memory is not enough, you can set `force_col_wise=true`.\n",
      "[LightGBM] [Info] Total Bins 4100\n",
      "[LightGBM] [Info] Number of data points in the train set: 1723238, number of used features: 25\n",
      "[LightGBM] [Info] [binary:BoostFromScore]: pavg=0.187548 -> initscore=-1.466025\n",
      "[LightGBM] [Info] Start training from score -1.466025\n",
      "[LightGBM] [Warning] min_data_in_leaf is set=94, min_child_samples=35 will be ignored. Current value: min_data_in_leaf=94\n",
      "[LightGBM] [Warning] min_data_in_leaf is set=94, min_child_samples=35 will be ignored. Current value: min_data_in_leaf=94\n",
      "[LightGBM] [Info] Number of positive: 323188, number of negative: 1400050\n",
      "[LightGBM] [Warning] Auto-choosing row-wise multi-threading, the overhead of testing was 0.048660 seconds.\n",
      "You can set `force_row_wise=true` to remove the overhead.\n",
      "And if memory is not enough, you can set `force_col_wise=true`.\n",
      "[LightGBM] [Info] Total Bins 4026\n",
      "[LightGBM] [Info] Number of data points in the train set: 1723238, number of used features: 25\n",
      "[LightGBM] [Info] [binary:BoostFromScore]: pavg=0.187547 -> initscore=-1.466029\n",
      "[LightGBM] [Info] Start training from score -1.466029\n",
      "[LightGBM] [Warning] min_data_in_leaf is set=94, min_child_samples=35 will be ignored. Current value: min_data_in_leaf=94\n",
      "[LightGBM] [Warning] min_data_in_leaf is set=94, min_child_samples=35 will be ignored. Current value: min_data_in_leaf=94\n",
      "[LightGBM] [Info] Number of positive: 323189, number of negative: 1400050\n",
      "[LightGBM] [Warning] Auto-choosing row-wise multi-threading, the overhead of testing was 0.047395 seconds.\n",
      "You can set `force_row_wise=true` to remove the overhead.\n",
      "And if memory is not enough, you can set `force_col_wise=true`.\n",
      "[LightGBM] [Info] Total Bins 4026\n",
      "[LightGBM] [Info] Number of data points in the train set: 1723239, number of used features: 25\n",
      "[LightGBM] [Info] [binary:BoostFromScore]: pavg=0.187547 -> initscore=-1.466026\n",
      "[LightGBM] [Info] Start training from score -1.466026\n",
      "[LightGBM] [Warning] min_data_in_leaf is set=94, min_child_samples=35 will be ignored. Current value: min_data_in_leaf=94\n",
      "[LightGBM] [Warning] min_data_in_leaf is set=94, min_child_samples=35 will be ignored. Current value: min_data_in_leaf=94\n",
      "[LightGBM] [Info] Number of positive: 323189, number of negative: 1400050\n",
      "[LightGBM] [Warning] Auto-choosing row-wise multi-threading, the overhead of testing was 0.046356 seconds.\n",
      "You can set `force_row_wise=true` to remove the overhead.\n",
      "And if memory is not enough, you can set `force_col_wise=true`.\n",
      "[LightGBM] [Info] Total Bins 4111\n",
      "[LightGBM] [Info] Number of data points in the train set: 1723239, number of used features: 25\n",
      "[LightGBM] [Info] [binary:BoostFromScore]: pavg=0.187547 -> initscore=-1.466026\n",
      "[LightGBM] [Info] Start training from score -1.466026\n",
      "rs3 splitter probs\n",
      " user_id\n",
      "00000bfd7d50f01092811bc0c8d7b0d6fe7c3596      0.0004\n",
      "00000cb4a5d760de88fecb38e2f71b7bec52e834    0.623081\n",
      "00001654a9d9f96303d9969d0a4a851714a4bb57    0.130771\n",
      "00001dd6fa45f7ba044bd5d84937be464ce78ac2    0.000387\n",
      "000028d9e13a595abe061f9b58f3d76ab907850f    0.020396\n",
      "Name: LGB_proba_rs3, dtype: object\n"
     ]
    }
   ],
   "source": [
    "for train_split, predict_split in rs3_splitter.split(dirty_X, dirty_y):\n",
    "    po = lgb.train(\n",
    "        parameters_for_fit_LGB_dirty,\n",
    "        train_set=lgb.Dataset(\n",
    "            data=dirty_X.reset_index(drop=True).loc[train_split],\n",
    "            label=dirty_y.reset_index(drop=True).loc[train_split],\n",
    "        ),\n",
    "        verbose_eval=False,\n",
    "        num_boost_round=int(\n",
    "            np.rint(study_LGB_dirty.best_trial.user_attrs[\"Mean_iterations\"])\n",
    "        ),\n",
    "    )\n",
    "    probs_LGB.loc[\n",
    "        dirty_X.reset_index().loc[predict_split, \"user_id\"], \"LGB_proba_rs3\"\n",
    "    ] = po.predict(data=dirty_X.reset_index(drop=True).loc[predict_split])\n",
    "print(\"rs3 splitter probs\\n\", probs_LGB[\"LGB_proba_rs3\"].head())"
   ]
  },
  {
   "cell_type": "code",
   "execution_count": 19,
   "id": "90a0d2b0-134a-40ec-891b-4c8fc8f33fe8",
   "metadata": {},
   "outputs": [],
   "source": [
    "probs_LGB[\"LGB_proba_mean\"] = np.mean(probs_LGB[[\"LGB_proba_outer\", \"LGB_proba_rs2\", \"LGB_proba_rs3\"]], axis=1)"
   ]
  },
  {
   "cell_type": "code",
   "execution_count": 20,
   "id": "45e10f9c-a9c9-4252-8a08-e8b7ff8ee00f",
   "metadata": {},
   "outputs": [],
   "source": [
    "probs_LGB.drop([\"LGB_proba_outer\", \"LGB_proba_rs2\", \"LGB_proba_rs3\"], axis=1, inplace=True)"
   ]
  },
  {
   "cell_type": "code",
   "execution_count": 21,
   "id": "0e98d443-2813-4cc3-8d93-c5e53568b11c",
   "metadata": {},
   "outputs": [],
   "source": [
    "probs_LGB.to_csv(\"LGB_dataset_0_train_OOF_clean.csv\", index=False)"
   ]
  },
  {
   "cell_type": "code",
   "execution_count": 22,
   "id": "0e238432-b5af-4b95-a2bd-7d9a599040ad",
   "metadata": {
    "scrolled": true,
    "tags": []
   },
   "outputs": [
    {
     "name": "stdout",
     "output_type": "stream",
     "text": [
      "[LightGBM] [Warning] min_data_in_leaf is set=94, min_child_samples=35 will be ignored. Current value: min_data_in_leaf=94\n",
      "[LightGBM] [Warning] min_data_in_leaf is set=94, min_child_samples=35 will be ignored. Current value: min_data_in_leaf=94\n",
      "[LightGBM] [Info] Number of positive: 403986, number of negative: 1750062\n",
      "[LightGBM] [Warning] Auto-choosing row-wise multi-threading, the overhead of testing was 0.058211 seconds.\n",
      "You can set `force_row_wise=true` to remove the overhead.\n",
      "And if memory is not enough, you can set `force_col_wise=true`.\n",
      "[LightGBM] [Info] Total Bins 4104\n",
      "[LightGBM] [Info] Number of data points in the train set: 2154048, number of used features: 25\n",
      "[LightGBM] [Info] [binary:BoostFromScore]: pavg=0.187547 -> initscore=-1.466026\n",
      "[LightGBM] [Info] Start training from score -1.466026\n"
     ]
    }
   ],
   "source": [
    "refit_lgb_dirty = lgb.train(\n",
    "    parameters_for_fit_LGB_dirty,\n",
    "    train_set=lgb.Dataset(dirty_X, label=dirty_y),\n",
    "    verbose_eval=False,\n",
    "    num_boost_round=int(np.rint(study_LGB_dirty.best_trial.user_attrs[\"Mean_iterations\"])),\n",
    ")"
   ]
  },
  {
   "cell_type": "code",
   "execution_count": 23,
   "id": "c562d5f0-e4a9-4681-ba34-ad8213cd5368",
   "metadata": {},
   "outputs": [],
   "source": [
    "dirty_test = data_load(dirty_test)"
   ]
  },
  {
   "cell_type": "code",
   "execution_count": 24,
   "id": "3f91c9a8-4a7f-4da8-946c-0ef91e2dfed8",
   "metadata": {},
   "outputs": [],
   "source": [
    "subm_dirty = refit_lgb_dirty.predict(dirty_test)"
   ]
  },
  {
   "cell_type": "code",
   "execution_count": 25,
   "id": "6baab23f-d0a1-45d7-8140-ebe4d8aff272",
   "metadata": {},
   "outputs": [],
   "source": [
    "sdf_dirty = pd.DataFrame(columns=[\"user_id\", \"CHURN\"])\n",
    "sdf_dirty[\"user_id\"] = dirty_test.index\n",
    "sdf_dirty[\"CHURN\"] = subm_dirty"
   ]
  },
  {
   "cell_type": "code",
   "execution_count": 26,
   "id": "2a7544bb-e84e-4d80-8b6f-8e74d77037e6",
   "metadata": {},
   "outputs": [],
   "source": [
    "sdf_dirty.to_csv(\"LGB_dataset_0_test_clean.csv\", index=False)"
   ]
  },
  {
   "cell_type": "code",
   "execution_count": null,
   "id": "614a89a5-1393-484c-a568-c75c75476d17",
   "metadata": {},
   "outputs": [],
   "source": []
  }
 ],
 "metadata": {
  "kernelspec": {
   "display_name": "Python 3",
   "language": "python",
   "name": "python3"
  },
  "language_info": {
   "codemirror_mode": {
    "name": "ipython",
    "version": 3
   },
   "file_extension": ".py",
   "mimetype": "text/x-python",
   "name": "python",
   "nbconvert_exporter": "python",
   "pygments_lexer": "ipython3",
   "version": "3.8.8"
  }
 },
 "nbformat": 4,
 "nbformat_minor": 5
}
