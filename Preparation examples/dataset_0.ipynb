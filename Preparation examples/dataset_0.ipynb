{
 "cells": [
  {
   "cell_type": "code",
   "execution_count": 1,
   "id": "fa43bb97-91fd-424b-8256-bc45393a5d4d",
   "metadata": {},
   "outputs": [],
   "source": [
    "import matplotlib.pyplot as plt\n",
    "import numpy as np\n",
    "import pandas as pd\n",
    "import seaborn as sns\n",
    "from sklearn import preprocessing"
   ]
  },
  {
   "cell_type": "code",
   "execution_count": 2,
   "id": "c21371d6-409f-47e3-9f89-a79f490f3da7",
   "metadata": {},
   "outputs": [],
   "source": [
    "train = pd.read_csv('../initial/Train.csv')\n",
    "test = pd.read_csv('../initial/Test.csv')\n",
    "merged = pd.concat([train.set_index('user_id'), test.set_index('user_id')])"
   ]
  },
  {
   "cell_type": "code",
   "execution_count": 3,
   "id": "9a6bb602-2259-4703-aac1-fd3a39cc0d11",
   "metadata": {},
   "outputs": [],
   "source": [
    "def data_preparation (train_y):\n",
    "    #train_y.drop('MRG', axis=1, inplace = True)\n",
    "    train_y.drop('ARPU_SEGMENT', axis=1, inplace = True)\n",
    "    train_y.drop(\"MRG\", axis=1, inplace=True)\n",
    "    try:\n",
    "        train_y.set_index('user_id', inplace = True)\n",
    "    except:\n",
    "        pass\n",
    "    target = None\n",
    "    if 'CHURN' in train_y.columns:\n",
    "        target = train_y['CHURN']\n",
    "        train_y.drop('CHURN', inplace=True, axis=1)\n",
    "    #Feature generating\n",
    "\n",
    "    #Bits\n",
    "    # Sum calls+data\n",
    "    train_y.insert(train_y.shape[1], 'TELE_NANS_SUM', train_y[['DATA_VOLUME','ON_NET', 'ORANGE', 'TIGO', 'ZONE1', 'ZONE2']].isnull().sum(axis=1))\n",
    "    # Sum of another\n",
    "    train_y.insert(train_y.shape[1], 'NONTELE_NANS_SUM', train_y[train_y.columns.difference(['DATA_VOLUME','ON_NET', 'ORANGE', 'TIGO', 'ZONE1', 'ZONE2'])].isnull().sum(axis=1))\n",
    "    # Bit for REGION?\n",
    "    \n",
    "    train_y.insert(train_y.shape[1], 'MONTANT_TO_REVENUE', train_y['MONTANT']/train_y['REVENUE'])\n",
    "    train_y['MONTANT_TO_REVENUE'].fillna(0, inplace=True)\n",
    "    \n",
    "    train_y.insert(train_y.shape[1], 'FULL_CALLS_SUM', train_y[['ON_NET', 'ORANGE', 'TIGO', 'ZONE1', 'ZONE2']].sum(axis=1))\n",
    "    train_y['FULL_CALLS_SUM'].fillna(0, inplace=True)\n",
    "    \n",
    "    train_y.insert(train_y.shape[1], 'FULL_CALLS_SUM_TO_REGULATIRY', (1.0*train_y[['ON_NET', 'ORANGE', 'TIGO', 'ZONE1', 'ZONE2']].sum(axis=1))/(train_y['REGULARITY']*1.0)) #нужен тут astype или нет?\n",
    "    train_y['FULL_CALLS_SUM_TO_REGULATIRY'].fillna(0, inplace=True)\n",
    "    \n",
    "    train_y.insert(train_y.shape[1], 'DATA_VOLUME_TO_REGULARITY', (train_y['DATA_VOLUME'].astype(np.single)/(train_y['REGULARITY'].astype(np.single))))\n",
    "    train_y['DATA_VOLUME_TO_REGULARITY'].fillna(0, inplace=True)\n",
    "    \n",
    "    # Categorical TENURE\n",
    "    sorted_tenure = {i : j for i, j in zip(np.sort(train_y['TENURE'].unique()), range(8))}\n",
    "    train_y['TENURE'].replace(to_replace=sorted_tenure, inplace=True)\n",
    "    \n",
    "    # Update 27.09\n",
    "    # The only full nans rows info\n",
    "    train_y['TEN_REGULARITY_MEDIAN']=train_y.groupby(['TENURE'])['REGULARITY'].apply(lambda x: x-x.median())\n",
    "    train_y['TEN_REGULARITY_MEAN']=train_y.groupby(['TENURE'])['REGULARITY'].apply(lambda x: x-x.mean())\n",
    "    \n",
    "    # Categorical REGION\n",
    "    train_y['REGION'].fillna('UNKNOWN', inplace=True)\n",
    "    sorted_region = {i : j for i, j in zip(train_y['REGION'].value_counts().index, range(len(train_y['REGION'].value_counts().index)))}\n",
    "    train_y['REGION'].replace(to_replace=sorted_region, inplace=True)\n",
    "    \n",
    "    # Update 27.09\n",
    "    train_y['REG_TEN_REGULARITY_MEDIAN']=train_y.groupby(['REGION', 'TENURE'])['REGULARITY'].apply(lambda x: x-x.median())\n",
    "    train_y['REG_TEN_REGULARITY_MEAN']=train_y.groupby(['REGION', 'TENURE'])['REGULARITY'].apply(lambda x: x-x.mean())\n",
    "    \n",
    "    train_y['TOP_PACK'].fillna('Unknown', inplace = True)\n",
    "    \n",
    "    train_y['FREQ_TOP_PACK'].fillna(0, inplace = True)\n",
    "    train_y['MONTANT'].fillna(0, inplace = True)\n",
    "    train_y['FREQUENCE_RECH'].fillna(0, inplace = True)\n",
    "    train_y['REVENUE'].fillna(0, inplace = True)\n",
    "    train_y['FREQUENCE'].fillna(0, inplace = True)\n",
    "    train_y['ON_NET'].replace(to_replace=0, value=1, inplace=True)\n",
    "    train_y['ON_NET'].fillna(0, inplace=True)\n",
    "    train_y['ORANGE'].replace(to_replace=0, value=1, inplace=True)\n",
    "    train_y['ORANGE'].fillna(0, inplace=True)\n",
    "    train_y['TIGO'].replace(to_replace=0, value=1, inplace=True)\n",
    "    train_y['TIGO'].fillna(0, inplace=True)\n",
    "    train_y['ZONE1'].replace(to_replace=0, value=1, inplace=True)\n",
    "    train_y['ZONE1'].fillna(0, inplace=True)\n",
    "    train_y['ZONE2'].replace(to_replace=0, value=1, inplace=True)\n",
    "    train_y['ZONE2'].fillna(0, inplace=True)\n",
    "    train_y['DATA_VOLUME'].replace(to_replace=0, value=1, inplace=True)\n",
    "    train_y['DATA_VOLUME'].fillna(0, inplace=True)\n",
    "    #Popularity\n",
    "    \n",
    "    train_y[\"POPULARITY\"]=train_y[\"TOP_PACK\"].map(train_y[train_y[\"TOP_PACK\"].notnull()][\"TOP_PACK\"].value_counts()/len(train_y[train_y[\"TOP_PACK\"].notnull()][\"TOP_PACK\"]))\n",
    "\n",
    "    train_y.drop('TOP_PACK', axis=1, inplace=True)\n",
    "    # Move target to last position\n",
    "    if target is not None:\n",
    "        train_y.insert(train_y.shape[1], 'CHURN', target)\n",
    "\n",
    "    return(train_y)"
   ]
  },
  {
   "cell_type": "code",
   "execution_count": 4,
   "id": "460614ad-9ccd-45ab-8302-bb7bef0a0afe",
   "metadata": {},
   "outputs": [],
   "source": [
    "Preproc_train = data_preparation(train)\n",
    "Preproc_train.to_csv('dataset_0_train.csv')"
   ]
  },
  {
   "cell_type": "code",
   "execution_count": 6,
   "id": "5f8adce3-7c1a-4e81-b4f9-31a8953b117e",
   "metadata": {},
   "outputs": [],
   "source": [
    "Preproc_test = data_preparation(test)\n",
    "Preproc_test.to_csv('dataset_0_test.csv')"
   ]
  },
  {
   "cell_type": "code",
   "execution_count": 8,
   "id": "d7e2e817-5860-4115-b147-296837fa3dbf",
   "metadata": {},
   "outputs": [],
   "source": [
    "train_merged = data_preparation(merged)\n",
    "dirty_train = train_merged.iloc[:train.shape[0]]\n",
    "dirty_test = train_merged[~train_merged.index.isin(dirty_train.index)]\n",
    "dirty_train.to_csv('dataset_0_train_merged.csv')\n",
    "dirty_test.to_csv('dataset_0_test_merged.csv')"
   ]
  }
 ],
 "metadata": {
  "kernelspec": {
   "display_name": "Python 3",
   "language": "python",
   "name": "python3"
  },
  "language_info": {
   "codemirror_mode": {
    "name": "ipython",
    "version": 3
   },
   "file_extension": ".py",
   "mimetype": "text/x-python",
   "name": "python",
   "nbconvert_exporter": "python",
   "pygments_lexer": "ipython3",
   "version": "3.8.8"
  }
 },
 "nbformat": 4,
 "nbformat_minor": 5
}
