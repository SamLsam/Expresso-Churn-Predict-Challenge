{
 "cells": [
  {
   "cell_type": "code",
   "execution_count": 1,
   "id": "fa43bb97-91fd-424b-8256-bc45393a5d4d",
   "metadata": {},
   "outputs": [],
   "source": [
    "import matplotlib.pyplot as plt\n",
    "import numpy as np\n",
    "from imblearn.under_sampling import RandomUnderSampler \n",
    "import pandas as pd\n",
    "import seaborn as sns\n",
    "from sklearn import preprocessing"
   ]
  },
  {
   "cell_type": "code",
   "execution_count": 2,
   "id": "1725a20b-6198-4e60-9381-5d570762815e",
   "metadata": {},
   "outputs": [],
   "source": [
    "sns.set(rc={'figure.figsize':(15,15)})"
   ]
  },
  {
   "cell_type": "code",
   "execution_count": 3,
   "id": "c21371d6-409f-47e3-9f89-a79f490f3da7",
   "metadata": {},
   "outputs": [],
   "source": [
    "train = pd.read_csv('../initial/Train.csv')\n",
    "test = pd.read_csv('../initial/Test.csv')\n",
    "merged = pd.concat([train.set_index('user_id'), test.set_index('user_id')])"
   ]
  },
  {
   "cell_type": "code",
   "execution_count": 4,
   "id": "9a6bb602-2259-4703-aac1-fd3a39cc0d11",
   "metadata": {},
   "outputs": [],
   "source": [
    "def data_preparation (train_y):\n",
    "    #train_y.drop('MRG', axis=1, inplace = True)\n",
    "    train_y.drop('ARPU_SEGMENT', axis=1, inplace = True)\n",
    "    train_y.drop(\"MRG\", axis=1, inplace=True)\n",
    "    try:\n",
    "        train_y.set_index('user_id', inplace = True)\n",
    "    except:\n",
    "        pass\n",
    "    target = None\n",
    "    if 'CHURN' in train_y.columns:\n",
    "        target = train_y['CHURN']\n",
    "        train_y.drop('CHURN', inplace=True, axis=1)\n",
    "\n",
    "    # Categorical TENURE\n",
    "    sorted_tenure = {i : j for i, j in zip(np.sort(train_y['TENURE'].unique()), range(8))}\n",
    "    train_y['TENURE'].replace(to_replace=sorted_tenure, inplace=True)\n",
    "    \n",
    "    # Categorical REGION\n",
    "    train_y['REGION'].fillna('UNKNOWN', inplace=True)\n",
    "    sorted_region = {i : j for i, j in zip(train_y['REGION'].value_counts().index, range(len(train_y['REGION'].value_counts().index)))}\n",
    "    train_y['REGION'].replace(to_replace=sorted_region, inplace=True)\n",
    "    \n",
    "    train_y['TOP_PACK'].fillna('Unknown', inplace = True)\n",
    "    \n",
    "    train_y['FREQ_TOP_PACK'].fillna(0, inplace = True)\n",
    "    train_y['MONTANT'].fillna(0, inplace = True)\n",
    "    train_y['FREQUENCE_RECH'].fillna(0, inplace = True)\n",
    "    train_y['REVENUE'].fillna(0, inplace = True)\n",
    "    train_y['FREQUENCE'].fillna(0, inplace = True)\n",
    "    train_y['ON_NET'].replace(to_replace=0, value=1, inplace=True)\n",
    "    train_y['ON_NET'].fillna(0, inplace=True)\n",
    "    train_y['ORANGE'].replace(to_replace=0, value=1, inplace=True)\n",
    "    train_y['ORANGE'].fillna(0, inplace=True)\n",
    "    train_y['TIGO'].replace(to_replace=0, value=1, inplace=True)\n",
    "    train_y['TIGO'].fillna(0, inplace=True)\n",
    "    train_y['ZONE1'].replace(to_replace=0, value=1, inplace=True)\n",
    "    train_y['ZONE1'].fillna(0, inplace=True)\n",
    "    train_y['ZONE2'].replace(to_replace=0, value=1, inplace=True)\n",
    "    train_y['ZONE2'].fillna(0, inplace=True)\n",
    "    train_y['DATA_VOLUME'].replace(to_replace=0, value=1, inplace=True)\n",
    "    train_y['DATA_VOLUME'].fillna(0, inplace=True)\n",
    "    #Popularity\n",
    "    \n",
    "    train_y.drop('TOP_PACK', axis=1, inplace=True)\n",
    "    # Move target to last position\n",
    "    if target is not None:\n",
    "        train_y.insert(train_y.shape[1], 'CHURN', target)\n",
    "\n",
    "    return(train_y)"
   ]
  },
  {
   "cell_type": "code",
   "execution_count": 5,
   "id": "460614ad-9ccd-45ab-8302-bb7bef0a0afe",
   "metadata": {},
   "outputs": [],
   "source": [
    "Preproc_train = data_preparation(train)\n",
    "Preproc_train.reset_index(inplace=True)\n",
    "user_id_index = Preproc_train['user_id']\n",
    "Preproc_train.drop('user_id', inplace=True, axis=1)"
   ]
  },
  {
   "cell_type": "code",
   "execution_count": 6,
   "id": "479ef9c5-72f4-4309-96cc-c3178e39c8b4",
   "metadata": {},
   "outputs": [],
   "source": [
    "rus = RandomUnderSampler(random_state=1, sampling_strategy='all', replacement=True)\n",
    "X_res_rus, y_res_rus = rus.fit_resample(Preproc_train.loc[:, Preproc_train.columns!='CHURN'], Preproc_train['CHURN'])"
   ]
  },
  {
   "cell_type": "code",
   "execution_count": 7,
   "id": "152d5135-e3b0-445e-bdd3-92a15c656232",
   "metadata": {},
   "outputs": [
    {
     "data": {
      "text/plain": [
       "807972"
      ]
     },
     "execution_count": 7,
     "metadata": {},
     "output_type": "execute_result"
    }
   ],
   "source": [
    "len(y_res_rus)"
   ]
  },
  {
   "cell_type": "code",
   "execution_count": 8,
   "id": "03ca5d03-d067-4fa0-afbe-a2d9fcfcb67d",
   "metadata": {},
   "outputs": [
    {
     "data": {
      "text/plain": [
       "<AxesSubplot:xlabel='REGULARITY', ylabel='Count'>"
      ]
     },
     "execution_count": 8,
     "metadata": {},
     "output_type": "execute_result"
    },
    {
     "data": {
      "image/png": "[encoded data removed]",
      "text/plain": [
       "<Figure size 1080x1080 with 1 Axes>"
      ]
     },
     "metadata": {},
     "output_type": "display_data"
    }
   ],
   "source": [
    "sns.histplot(x=X_res_rus[\"REGULARITY\"], hue=y_res_rus, bins=61)"
   ]
  },
  {
   "cell_type": "code",
   "execution_count": 9,
   "id": "6ebcfd26-0780-4b16-9167-2b67862fa3c5",
   "metadata": {},
   "outputs": [],
   "source": [
    "X_res_rus[\"CHURN\"] = y_res_rus"
   ]
  },
  {
   "cell_type": "code",
   "execution_count": 10,
   "id": "e20fdc01-9f20-4232-b042-6686ea6bb160",
   "metadata": {},
   "outputs": [],
   "source": [
    "X_res_rus.to_csv(\"dataset_4_train.csv\")"
   ]
  },
  {
   "cell_type": "code",
   "execution_count": 11,
   "id": "6158e4c3-20bd-4cc5-a7f1-c6df96dd51f3",
   "metadata": {},
   "outputs": [],
   "source": [
    "Preproc_test = data_preparation(test)\n",
    "Preproc_test.to_csv('dataset_4_test.csv')"
   ]
  },
  {
   "cell_type": "markdown",
   "id": "28124cf1-a996-46b6-8b3f-14c2bee8c5f8",
   "metadata": {},
   "source": [
    "# Данные не перемешиваются\n",
    "train_merged = data_preparation(merged)\n",
    "dirty_train = train_merged.iloc[:train.shape[0]]\n",
    "dirty_test = train_merged[~train_merged.index.isin(dirty_train.index)]\n",
    "dirty_train.to_csv('dirty_initial_train.csv')\n",
    "dirty_test.to_csv('dirty_initial_test.csv')"
   ]
  }
 ],
 "metadata": {
  "kernelspec": {
   "display_name": "Python 3",
   "language": "python",
   "name": "python3"
  },
  "language_info": {
   "codemirror_mode": {
    "name": "ipython",
    "version": 3
   },
   "file_extension": ".py",
   "mimetype": "text/x-python",
   "name": "python",
   "nbconvert_exporter": "python",
   "pygments_lexer": "ipython3",
   "version": "3.8.8"
  }
 },
 "nbformat": 4,
 "nbformat_minor": 5
}
