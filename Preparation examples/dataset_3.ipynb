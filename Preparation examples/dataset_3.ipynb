{
 "cells": [
  {
   "cell_type": "code",
   "execution_count": 1,
   "id": "fa43bb97-91fd-424b-8256-bc45393a5d4d",
   "metadata": {},
   "outputs": [],
   "source": [
    "import matplotlib.pyplot as plt\n",
    "import numpy as np\n",
    "import pandas as pd\n",
    "import seaborn as sns\n",
    "from imblearn.under_sampling import InstanceHardnessThreshold\n",
    "from sklearn import preprocessing"
   ]
  },
  {
   "cell_type": "code",
   "execution_count": 25,
   "id": "1725a20b-6198-4e60-9381-5d570762815e",
   "metadata": {},
   "outputs": [],
   "source": [
    "sns.set(rc={\"figure.figsize\": (15, 15)})"
   ]
  },
  {
   "cell_type": "code",
   "execution_count": 2,
   "id": "c21371d6-409f-47e3-9f89-a79f490f3da7",
   "metadata": {},
   "outputs": [],
   "source": [
    "train = pd.read_csv(\"../initial/Train.csv\")\n",
    "test = pd.read_csv(\"../initial/Test.csv\")\n",
    "merged = pd.concat([train.set_index(\"user_id\"), test.set_index(\"user_id\")])"
   ]
  },
  {
   "cell_type": "code",
   "execution_count": 3,
   "id": "9a6bb602-2259-4703-aac1-fd3a39cc0d11",
   "metadata": {},
   "outputs": [],
   "source": [
    "def data_preparation(train_y):\n",
    "    # train_y.drop('MRG', axis=1, inplace = True)\n",
    "    train_y.drop(\"ARPU_SEGMENT\", axis=1, inplace=True)\n",
    "    train_y.drop(\"MRG\", axis=1, inplace=True)\n",
    "    try:\n",
    "        train_y.set_index(\"user_id\", inplace=True)\n",
    "    except:\n",
    "        pass\n",
    "    target = None\n",
    "    if \"CHURN\" in train_y.columns:\n",
    "        target = train_y[\"CHURN\"]\n",
    "        train_y.drop(\"CHURN\", inplace=True, axis=1)\n",
    "\n",
    "    # Categorical TENURE\n",
    "    sorted_tenure = {\n",
    "        i: j for i, j in zip(np.sort(train_y[\"TENURE\"].unique()), range(8))\n",
    "    }\n",
    "    train_y[\"TENURE\"].replace(to_replace=sorted_tenure, inplace=True)\n",
    "\n",
    "    # Categorical REGION\n",
    "    train_y[\"REGION\"].fillna(\"UNKNOWN\", inplace=True)\n",
    "    sorted_region = {\n",
    "        i: j\n",
    "        for i, j in zip(\n",
    "            train_y[\"REGION\"].value_counts().index,\n",
    "            range(len(train_y[\"REGION\"].value_counts().index)),\n",
    "        )\n",
    "    }\n",
    "    train_y[\"REGION\"].replace(to_replace=sorted_region, inplace=True)\n",
    "\n",
    "    train_y[\"TOP_PACK\"].fillna(\"Unknown\", inplace=True)\n",
    "\n",
    "    train_y[\"FREQ_TOP_PACK\"].fillna(0, inplace=True)\n",
    "    train_y[\"MONTANT\"].fillna(0, inplace=True)\n",
    "    train_y[\"FREQUENCE_RECH\"].fillna(0, inplace=True)\n",
    "    train_y[\"REVENUE\"].fillna(0, inplace=True)\n",
    "    train_y[\"FREQUENCE\"].fillna(0, inplace=True)\n",
    "    train_y[\"ON_NET\"].replace(to_replace=0, value=1, inplace=True)\n",
    "    train_y[\"ON_NET\"].fillna(0, inplace=True)\n",
    "    train_y[\"ORANGE\"].replace(to_replace=0, value=1, inplace=True)\n",
    "    train_y[\"ORANGE\"].fillna(0, inplace=True)\n",
    "    train_y[\"TIGO\"].replace(to_replace=0, value=1, inplace=True)\n",
    "    train_y[\"TIGO\"].fillna(0, inplace=True)\n",
    "    train_y[\"ZONE1\"].replace(to_replace=0, value=1, inplace=True)\n",
    "    train_y[\"ZONE1\"].fillna(0, inplace=True)\n",
    "    train_y[\"ZONE2\"].replace(to_replace=0, value=1, inplace=True)\n",
    "    train_y[\"ZONE2\"].fillna(0, inplace=True)\n",
    "    train_y[\"DATA_VOLUME\"].replace(to_replace=0, value=1, inplace=True)\n",
    "    train_y[\"DATA_VOLUME\"].fillna(0, inplace=True)\n",
    "    # Popularity\n",
    "\n",
    "    train_y.drop(\"TOP_PACK\", axis=1, inplace=True)\n",
    "    # Move target to last position\n",
    "    if target is not None:\n",
    "        train_y.insert(train_y.shape[1], \"CHURN\", target)\n",
    "\n",
    "    return train_y"
   ]
  },
  {
   "cell_type": "code",
   "execution_count": 4,
   "id": "460614ad-9ccd-45ab-8302-bb7bef0a0afe",
   "metadata": {},
   "outputs": [],
   "source": [
    "Preproc_train = data_preparation(train)"
   ]
  },
  {
   "cell_type": "code",
   "execution_count": 5,
   "id": "afb1eaf8-495e-44ce-9e51-b6dd72565c76",
   "metadata": {},
   "outputs": [],
   "source": [
    "Preproc_train.reset_index(inplace=True)\n",
    "# user_id_index = Preproc_train['user_id']\n",
    "Preproc_train.drop(\"user_id\", inplace=True, axis=1)"
   ]
  },
  {
   "cell_type": "code",
   "execution_count": 16,
   "id": "49c8422b-d0c5-4fcc-a501-eae680c8abc9",
   "metadata": {},
   "outputs": [],
   "source": [
    "iht = InstanceHardnessThreshold(random_state=1)\n",
    "X_res_iht, y_res_iht = iht.fit_resample(\n",
    "    Preproc_train.loc[:, Preproc_train.columns != \"CHURN\"], Preproc_train[\"CHURN\"]\n",
    ")"
   ]
  },
  {
   "cell_type": "code",
   "execution_count": 17,
   "id": "7cf3a044-f3f1-4a49-973c-ee8b555af580",
   "metadata": {},
   "outputs": [
    {
     "data": {
      "text/plain": [
       "1307479"
      ]
     },
     "execution_count": 17,
     "metadata": {},
     "output_type": "execute_result"
    }
   ],
   "source": [
    "len(y_res_iht)"
   ]
  },
  {
   "cell_type": "code",
   "execution_count": 27,
   "id": "d7be4abd-d091-4f36-b6a1-6aee1d198152",
   "metadata": {},
   "outputs": [
    {
     "data": {
      "text/plain": [
       "<AxesSubplot:xlabel='REGULARITY', ylabel='Count'>"
      ]
     },
     "execution_count": 27,
     "metadata": {},
     "output_type": "execute_result"
    },
    {
     "data": {
      "image/png": "[encoded data removed]",
      "text/plain": [
       "<Figure size 1080x1080 with 1 Axes>"
      ]
     },
     "metadata": {},
     "output_type": "display_data"
    }
   ],
   "source": [
    "sns.histplot(x=X_res_iht[\"REGULARITY\"], hue=y_res_iht, bins=61)"
   ]
  },
  {
   "cell_type": "code",
   "execution_count": 22,
   "id": "385e76d0-e540-48bc-8279-cb427b36df16",
   "metadata": {},
   "outputs": [],
   "source": [
    "X_res_iht[\"CHURN\"] = y_res_iht"
   ]
  },
  {
   "cell_type": "code",
   "execution_count": 24,
   "id": "0bd82328-6cb0-480c-9b86-8d867369e9f0",
   "metadata": {},
   "outputs": [],
   "source": [
    "X_res_iht.to_csv(\"dataset_3_train.csv\")"
   ]
  },
  {
   "cell_type": "code",
   "execution_count": 28,
   "id": "5f8adce3-7c1a-4e81-b4f9-31a8953b117e",
   "metadata": {},
   "outputs": [],
   "source": [
    "Preproc_test = data_preparation(test)\n",
    "Preproc_test.to_csv('dataset_3_test.csv')"
   ]
  },
  {
   "cell_type": "markdown",
   "id": "d3b01aa5-6219-4cec-88ba-07bd684cf8f7",
   "metadata": {},
   "source": [
    "# Данные не перемешиваются\n",
    "train_merged = data_preparation(merged)\n",
    "dirty_train = train_merged.iloc[:train.shape[0]]\n",
    "dirty_test = train_merged[~train_merged.index.isin(dirty_train.index)]\n",
    "dirty_train.to_csv('dirty_initial_train.csv')\n",
    "dirty_test.to_csv('dirty_initial_test.csv')"
   ]
  },
  {
   "cell_type": "code",
   "execution_count": null,
   "id": "27ed2e42-89ea-4a87-96d4-cb9050558988",
   "metadata": {},
   "outputs": [],
   "source": [
    "sns.histplot(x=X_res_iht[\"REGION\"], hue=X_res_iht[\"CHURN\"], bins=15)"
   ]
  }
 ],
 "metadata": {
  "kernelspec": {
   "display_name": "Python 3",
   "language": "python",
   "name": "python3"
  },
  "language_info": {
   "codemirror_mode": {
    "name": "ipython",
    "version": 3
   },
   "file_extension": ".py",
   "mimetype": "text/x-python",
   "name": "python",
   "nbconvert_exporter": "python",
   "pygments_lexer": "ipython3",
   "version": "3.8.8"
  }
 },
 "nbformat": 4,
 "nbformat_minor": 5
}
